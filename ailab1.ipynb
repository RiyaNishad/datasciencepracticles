{
  "nbformat": 4,
  "nbformat_minor": 0,
  "metadata": {
    "colab": {
      "provenance": [],
      "authorship_tag": "ABX9TyNjfKxQA7EkGwoTXhshTFFw",
      "include_colab_link": true
    },
    "kernelspec": {
      "name": "python3",
      "display_name": "Python 3"
    },
    "language_info": {
      "name": "python"
    }
  },
  "cells": [
    {
      "cell_type": "markdown",
      "metadata": {
        "id": "view-in-github",
        "colab_type": "text"
      },
      "source": [
        "<a href=\"https://colab.research.google.com/github/RiyaNishad/datasciencepracticles/blob/main/ailab1.ipynb\" target=\"_parent\"><img src=\"https://colab.research.google.com/assets/colab-badge.svg\" alt=\"Open In Colab\"/></a>"
      ]
    },
    {
      "cell_type": "markdown",
      "source": [
        "***Performing arithmatic operations by taking user input***"
      ],
      "metadata": {
        "id": "oq53vl1Oh2vP"
      }
    },
    {
      "cell_type": "code",
      "source": [
        "A = int(input(\"enter the value of A:\"))\n",
        "B = int(input(\"enter the value of B:\"))\n",
        "print(\"addition of A and B is:\",A+B)\n",
        "print(\"subtraction of A and B is:\",A-B)\n",
        "print(\"multiplication of A and B is:\",A*B)\n",
        "print(\"division of A and B is:\",A/B)"
      ],
      "metadata": {
        "colab": {
          "base_uri": "https://localhost:8080/"
        },
        "id": "5EUggYDWiI7q",
        "outputId": "5fc3003f-745c-4fa6-ec2f-69677532a264"
      },
      "execution_count": 4,
      "outputs": [
        {
          "output_type": "stream",
          "name": "stdout",
          "text": [
            "enter the value of A:5\n",
            "enter the value of B:10\n",
            "addition of A and B is: 15\n",
            "subtraction of A and B is: -5\n",
            "multiplication of A and B is: 50\n",
            "division of A and B is: 0.5\n"
          ]
        }
      ]
    },
    {
      "cell_type": "markdown",
      "source": [
        "***calculating average***"
      ],
      "metadata": {
        "id": "48GOUIX8h3U-"
      }
    },
    {
      "cell_type": "code",
      "execution_count": 6,
      "metadata": {
        "colab": {
          "base_uri": "https://localhost:8080/"
        },
        "id": "frpKhA6Nefbn",
        "outputId": "cb1e5aff-267a-4258-a0c4-34c9be969524"
      },
      "outputs": [
        {
          "output_type": "stream",
          "name": "stdout",
          "text": [
            "average of R is: 23.0\n"
          ]
        }
      ],
      "source": [
        "R = (1,5,16,15,78)\n",
        "average = sum(R)/len(R)\n",
        "print(\"average of R is:\",average)"
      ]
    },
    {
      "cell_type": "markdown",
      "source": [
        "***checking if the number is even or odd by defining a function.***\n",
        "\n"
      ],
      "metadata": {
        "id": "yUry5USqkFcn"
      }
    },
    {
      "cell_type": "code",
      "source": [
        "def even_odd (number):\n",
        "    A = int(input(\"enter the value of A:\"))\n",
        "    if A%2==0:\n",
        "        print(\"A is even\")\n",
        "    else:\n",
        "        print(\"A is odd\")\n",
        "        print(\"A is:\",A)\n",
        "even_odd(A)\n",
        ""
      ],
      "metadata": {
        "colab": {
          "base_uri": "https://localhost:8080/"
        },
        "id": "hnvwx-zcj0SL",
        "outputId": "9fc97ac3-4385-4f9c-987d-4527404b9a60"
      },
      "execution_count": 15,
      "outputs": [
        {
          "output_type": "stream",
          "name": "stdout",
          "text": [
            "enter the value of A:67\n",
            "A is odd\n",
            "A is: 67\n"
          ]
        }
      ]
    },
    {
      "cell_type": "markdown",
      "source": [
        "***calculating factorial.***"
      ],
      "metadata": {
        "id": "6m-JwCjmkCJJ"
      }
    },
    {
      "cell_type": "code",
      "source": [
        "def factorial(n):\n",
        "    if n < 0:\n",
        "        return \"Factorial is not defined for negative numbers.\"\n",
        "    factorial = 1\n",
        "    for i in range(1, n + 1):\n",
        "        factorial *= i\n",
        "    return factorial\n",
        "\n",
        "# Get user input\n",
        "num = int(input(\"Enter a number to calculate its factorial: \"))\n",
        "result = factorial(num)\n",
        "print(f\"The factorial of {num} is: {result}\")"
      ],
      "metadata": {
        "colab": {
          "base_uri": "https://localhost:8080/"
        },
        "id": "hF4nyEjnkEdk",
        "outputId": "eaf75722-6a3f-4493-d5e5-47ecda0d5fcf"
      },
      "execution_count": 25,
      "outputs": [
        {
          "output_type": "stream",
          "name": "stdout",
          "text": [
            "Enter a number to calculate its factorial: 4\n",
            "The factorial of 4 is: 24\n"
          ]
        }
      ]
    },
    {
      "cell_type": "markdown",
      "source": [
        "***calculating factorial by recursive method***.\n",
        "\n",
        "\n"
      ],
      "metadata": {
        "id": "ijYlcD9zn70C"
      }
    },
    {
      "cell_type": "code",
      "source": [
        "def factorial_recursive(n):\n",
        "    if n < 0:\n",
        "        return \"Factorial is not defined for negative numbers.\"\n",
        "    if n == 0 or n == 1:\n",
        "        return 1\n",
        "    return n * factorial_recursive(n - 1)\n",
        "\n",
        "#taking user input\n",
        "num = int(input(\"Enter a number to calculate its factorial: \"))\n",
        "result = factorial_recursive(num)\n",
        "print(f\"The factorial of {num} is: {result}\")\n"
      ],
      "metadata": {
        "colab": {
          "base_uri": "https://localhost:8080/"
        },
        "id": "Uq2iRnPCmYQH",
        "outputId": "cbad6274-38f8-4fc6-da2d-60da67f81624"
      },
      "execution_count": 28,
      "outputs": [
        {
          "output_type": "stream",
          "name": "stdout",
          "text": [
            "Enter a number to calculate its factorial: 25\n",
            "The factorial of 25 is: 15511210043330985984000000\n"
          ]
        }
      ]
    },
    {
      "cell_type": "code",
      "source": [],
      "metadata": {
        "id": "oGOpZSc6oIqi"
      },
      "execution_count": null,
      "outputs": []
    }
  ]
}