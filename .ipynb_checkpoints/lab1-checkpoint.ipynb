{
 "cells": [
  {
   "cell_type": "code",
   "execution_count": 3,
   "id": "ac540bce-ca37-42a6-8adc-639f4e0a257f",
   "metadata": {},
   "outputs": [
    {
     "name": "stdout",
     "output_type": "stream",
     "text": [
      "['Hi', 'there', 'Sam!']\n"
     ]
    }
   ],
   "source": [
    "s = \"Hi there Sam!\"\n",
    "word_list = s.split()  # Split the string using the default delimiter (space)\n",
    "print(word_list)"
   ]
  },
  {
   "cell_type": "code",
   "execution_count": 1,
   "id": "08e24eb2-eca6-4330-a3b0-190ee4806935",
   "metadata": {},
   "outputs": [
    {
     "name": "stdout",
     "output_type": "stream",
     "text": [
      "7 to the power of 4 is: 2401\n"
     ]
    }
   ],
   "source": [
    "def power(base, exponent):\n",
    "    result = 1\n",
    "    for _ in range(exponent):\n",
    "        result *= base\n",
    "    return result\n",
    "\n",
    "base_number = 7\n",
    "exponent_value = 4\n",
    "result = power(base_number, exponent_value)\n",
    "\n",
    "print(f\"{base_number} to the power of {exponent_value} is: {result}\")"
   ]
  },
  {
   "cell_type": "code",
   "execution_count": 7,
   "id": "26dd4c70-4ca0-4d49-aeb2-af1cd3551525",
   "metadata": {},
   "outputs": [
    {
     "name": "stdout",
     "output_type": "stream",
     "text": [
      "the diameter of Earth is 12742 kilometers\n"
     ]
    }
   ],
   "source": [
    "planet = \"Earth\"\n",
    "Diameter = 12742\n",
    "formatted_string = \"the diameter of {} is {} kilometers\".format(planet,Diameter)\n",
    "print(formatted_string)\n"
   ]
  },
  {
   "cell_type": "code",
   "execution_count": 9,
   "id": "45bb6683-adcb-4844-8f6e-d1c9d2b859b8",
   "metadata": {},
   "outputs": [
    {
     "name": "stdout",
     "output_type": "stream",
     "text": [
      "the word hello is:hello\n"
     ]
    }
   ],
   "source": [
    "lst = [1,2,[3,4],[5,[100,200, ['hello']], 23,11], 1, 7]\n",
    "#Access the nested elements\n",
    "hello_word = lst[3][1][2][0]\n",
    "print(f\"the word hello is:{hello_word}\")"
   ]
  },
  {
   "cell_type": "code",
   "execution_count": null,
   "id": "3d24d5f5-5f8c-454e-aff1-112bf4bca112",
   "metadata": {},
   "outputs": [],
   "source": [
    "#tuples are immutable whereas lists are mutable \n",
    "#list can be change/modified whereas tuples cannot\n"
   ]
  },
  {
   "cell_type": "code",
   "execution_count": 3,
   "id": "e2580299-ee2a-46ac-a8f5-855684540db6",
   "metadata": {},
   "outputs": [
    {
     "name": "stdout",
     "output_type": "stream",
     "text": [
      "Does the string contain 'dog'? True\n"
     ]
    }
   ],
   "source": [
    "def contains_dog(input_string):\n",
    "    \"\"\"\n",
    "    Checks if the word 'dog' is contained in the input string.\n",
    "\n",
    "    Args:\n",
    "        input_string (str): The input string to search.\n",
    "\n",
    "    Returns:\n",
    "        bool: True if 'dog' is found, False otherwise.\n",
    "    \"\"\"\n",
    "    # Convert the input string to lowercase for case-insensitive comparison\n",
    "    lower_input = input_string.lower()\n",
    "    \n",
    "    # Check if 'dog' is present in the lowercase input\n",
    "    return 'dog' in lower_input\n",
    "\n",
    "# Example usage\n",
    "test_string = \"I have a dog and a cat.\"\n",
    "result = contains_dog(test_string)\n",
    "print(f\"Does the string contain 'dog'? {result}\")"
   ]
  },
  {
   "cell_type": "code",
   "execution_count": 14,
   "id": "1d9eef0f-5972-424b-92ff-a791cc9b3073",
   "metadata": {},
   "outputs": [
    {
     "ename": "NameError",
     "evalue": "name 'hello' is not defined",
     "output_type": "error",
     "traceback": [
      "\u001b[1;31m---------------------------------------------------------------------------\u001b[0m",
      "\u001b[1;31mNameError\u001b[0m                                 Traceback (most recent call last)",
      "Cell \u001b[1;32mIn[14], line 6\u001b[0m\n\u001b[0;32m      3\u001b[0m d \u001b[38;5;241m=\u001b[39m {\u001b[38;5;124m'\u001b[39m\u001b[38;5;124mk1\u001b[39m\u001b[38;5;124m'\u001b[39m:[\u001b[38;5;241m1\u001b[39m,\u001b[38;5;241m2\u001b[39m,\u001b[38;5;241m3\u001b[39m,{\u001b[38;5;124m'\u001b[39m\u001b[38;5;124mtricky\u001b[39m\u001b[38;5;124m'\u001b[39m:[\u001b[38;5;124m'\u001b[39m\u001b[38;5;124moh\u001b[39m\u001b[38;5;124m'\u001b[39m,\u001b[38;5;124m'\u001b[39m\u001b[38;5;124mman\u001b[39m\u001b[38;5;124m'\u001b[39m,\u001b[38;5;124m'\u001b[39m\u001b[38;5;124minception\u001b[39m\u001b[38;5;124m'\u001b[39m,{\u001b[38;5;124m'\u001b[39m\u001b[38;5;124mtarget\u001b[39m\u001b[38;5;124m'\u001b[39m:[\u001b[38;5;241m1\u001b[39m,\u001b[38;5;241m2\u001b[39m,\u001b[38;5;241m3\u001b[39m,\u001b[38;5;124m'\u001b[39m\u001b[38;5;124mhello\u001b[39m\u001b[38;5;124m'\u001b[39m]}]}]}\n\u001b[0;32m      5\u001b[0m d[\u001b[38;5;124m'\u001b[39m\u001b[38;5;124mk1\u001b[39m\u001b[38;5;124m'\u001b[39m][\u001b[38;5;241m3\u001b[39m][\u001b[38;5;124m'\u001b[39m\u001b[38;5;124mtricky\u001b[39m\u001b[38;5;124m'\u001b[39m][\u001b[38;5;241m3\u001b[39m][\u001b[38;5;124m'\u001b[39m\u001b[38;5;124mtarget\u001b[39m\u001b[38;5;124m'\u001b[39m][\u001b[38;5;241m3\u001b[39m]\n\u001b[1;32m----> 6\u001b[0m \u001b[38;5;28mprint\u001b[39m(hello)\n",
      "\u001b[1;31mNameError\u001b[0m: name 'hello' is not defined"
     ]
    }
   ],
   "source": [
    "d = {'k1':[1,2,3,{'tricky':['oh','man','inception',{'target':[1,2,3,'hello']}]}]}\n",
    "\n",
    "d = {'k1':[1,2,3,{'tricky':['oh','man','inception',{'target':[1,2,3,'hello']}]}]}\n",
    "\n",
    "d['k1'][3]['tricky'][3]['target'][3]\n",
    "print(hello)\n"
   ]
  },
  {
   "cell_type": "code",
   "execution_count": 18,
   "id": "333b4299-d4b7-4cb6-af3d-8fa2c77db240",
   "metadata": {},
   "outputs": [
    {
     "ename": "IndentationError",
     "evalue": "unexpected indent (714019626.py, line 5)",
     "output_type": "error",
     "traceback": [
      "\u001b[1;36m  Cell \u001b[1;32mIn[18], line 5\u001b[1;36m\u001b[0m\n\u001b[1;33m    def my_ticket(speed, my_brithday)\u001b[0m\n\u001b[1;37m    ^\u001b[0m\n\u001b[1;31mIndentationError\u001b[0m\u001b[1;31m:\u001b[0m unexpected indent\n"
     ]
    }
   ],
   "source": [
    "def caught_speeding(speed, is_birthday):\n",
    "    pass\n",
    "caught_speeding(81,True)\n",
    "caught_speeding(81,False)\n",
    " def my_ticket(speed, my_brithday):\n",
    "    if my_brithday:\n",
    "        speed -= 5\n",
    "\n",
    "    if speed <= 60:\n",
    "        return \"No ticket\"\n",
    "    elif 61 <= speed <=80:\n",
    "        return \"small ticket\"\n",
    "    else:\n",
    "        return \"Big ticket\"\n",
    "Great job!"
   ]
  },
  {
   "cell_type": "code",
   "execution_count": null,
   "id": "d3d27cf3-1c8a-4442-a7ba-27391f107e4e",
   "metadata": {},
   "outputs": [],
   "source": []
  }
 ],
 "metadata": {
  "kernelspec": {
   "display_name": "Python 3 (ipykernel)",
   "language": "python",
   "name": "python3"
  },
  "language_info": {
   "codemirror_mode": {
    "name": "ipython",
    "version": 3
   },
   "file_extension": ".py",
   "mimetype": "text/x-python",
   "name": "python",
   "nbconvert_exporter": "python",
   "pygments_lexer": "ipython3",
   "version": "3.12.4"
  }
 },
 "nbformat": 4,
 "nbformat_minor": 5
}
