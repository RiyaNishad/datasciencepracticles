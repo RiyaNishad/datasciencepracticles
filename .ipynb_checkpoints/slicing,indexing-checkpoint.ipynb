{
 "cells": [
  {
   "cell_type": "code",
   "execution_count": 5,
   "id": "4a240993-3be0-4718-b34d-ffdcf27884b0",
   "metadata": {},
   "outputs": [],
   "source": [
    "import numpy as np\n",
    "\n",
    "arr=np.random.randint(20,100,20)"
   ]
  },
  {
   "cell_type": "code",
   "execution_count": 7,
   "id": "b017a156-624b-44f3-9355-31c42e5b5874",
   "metadata": {},
   "outputs": [
    {
     "data": {
      "text/plain": [
       "array([97, 26, 56, 80, 85, 92, 85, 95, 76, 49, 83, 64, 94, 98, 62, 90, 24,\n",
       "       43, 55, 79])"
      ]
     },
     "execution_count": 7,
     "metadata": {},
     "output_type": "execute_result"
    }
   ],
   "source": [
    "arr"
   ]
  },
  {
   "cell_type": "code",
   "execution_count": 9,
   "id": "a9df76a8-d323-413e-8daf-ef576f335ca5",
   "metadata": {},
   "outputs": [],
   "source": [
    "#2d array\n",
    "array=np.full((2,2),5)"
   ]
  },
  {
   "cell_type": "code",
   "execution_count": 11,
   "id": "e4633d6c-21a7-4ff7-a6b5-52c37fcb87a6",
   "metadata": {},
   "outputs": [
    {
     "data": {
      "text/plain": [
       "array([[5, 5],\n",
       "       [5, 5]])"
      ]
     },
     "execution_count": 11,
     "metadata": {},
     "output_type": "execute_result"
    }
   ],
   "source": [
    "array"
   ]
  },
  {
   "cell_type": "code",
   "execution_count": 13,
   "id": "f1450f15-5a8d-4cda-8e90-1cfb3bb6245f",
   "metadata": {},
   "outputs": [],
   "source": [
    "a1=np.random.randint(0,18,(4,4))"
   ]
  },
  {
   "cell_type": "code",
   "execution_count": 15,
   "id": "1db1fe60-0120-40d3-8a4a-c04e444e2673",
   "metadata": {},
   "outputs": [
    {
     "data": {
      "text/plain": [
       "array([[ 4, 15,  7, 14],\n",
       "       [12, 14, 13, 12],\n",
       "       [ 3,  3, 11,  8],\n",
       "       [ 2,  6, 16, 14]])"
      ]
     },
     "execution_count": 15,
     "metadata": {},
     "output_type": "execute_result"
    }
   ],
   "source": [
    "a1"
   ]
  },
  {
   "cell_type": "code",
   "execution_count": 17,
   "id": "167d5077-3e31-40f0-b12d-20b54900cb46",
   "metadata": {},
   "outputs": [
    {
     "data": {
      "text/plain": [
       "array([15,  7, 14])"
      ]
     },
     "execution_count": 17,
     "metadata": {},
     "output_type": "execute_result"
    }
   ],
   "source": [
    "a1[0,1:4]\n",
    "#row ,column no.+1"
   ]
  },
  {
   "cell_type": "code",
   "execution_count": 19,
   "id": "55dd194e-e0ae-44e3-be9c-5224fd7817a3",
   "metadata": {},
   "outputs": [
    {
     "data": {
      "text/plain": [
       "15"
      ]
     },
     "execution_count": 19,
     "metadata": {},
     "output_type": "execute_result"
    }
   ],
   "source": [
    "a1[0,1]\n",
    "#row no.,column no."
   ]
  },
  {
   "cell_type": "code",
   "execution_count": 21,
   "id": "4d230457-486b-4e47-9924-5283f5de9d42",
   "metadata": {},
   "outputs": [
    {
     "data": {
      "text/plain": [
       "3"
      ]
     },
     "execution_count": 21,
     "metadata": {},
     "output_type": "execute_result"
    }
   ],
   "source": [
    "a1[2,1]"
   ]
  },
  {
   "cell_type": "code",
   "execution_count": 23,
   "id": "c0dd6bc1-05f1-44b8-9b56-3e24153560ae",
   "metadata": {},
   "outputs": [
    {
     "data": {
      "text/plain": [
       "array([15, 14,  3])"
      ]
     },
     "execution_count": 23,
     "metadata": {},
     "output_type": "execute_result"
    }
   ],
   "source": [
    "a1[0:3,1]\n"
   ]
  },
  {
   "cell_type": "code",
   "execution_count": 25,
   "id": "de4669e9-ab66-4a84-bca4-a97fdd95485e",
   "metadata": {},
   "outputs": [
    {
     "data": {
      "text/plain": [
       "array([15, 14])"
      ]
     },
     "execution_count": 25,
     "metadata": {},
     "output_type": "execute_result"
    }
   ],
   "source": [
    "a1[0:2,1]"
   ]
  },
  {
   "cell_type": "markdown",
   "id": "8426f308-64d0-444e-a251-d8448d7d74d7",
   "metadata": {},
   "source": [
    "# "
   ]
  },
  {
   "cell_type": "code",
   "execution_count": 29,
   "id": "655ae1ec-9227-41f9-9271-9b5454bd207c",
   "metadata": {},
   "outputs": [
    {
     "data": {
      "text/plain": [
       "array([14, 12,  8])"
      ]
     },
     "execution_count": 29,
     "metadata": {},
     "output_type": "execute_result"
    }
   ],
   "source": [
    "a1[0:3,3]"
   ]
  },
  {
   "cell_type": "code",
   "execution_count": 41,
   "id": "eae849bd-e038-4f33-9e7d-5882b757510c",
   "metadata": {},
   "outputs": [
    {
     "data": {
      "text/plain": [
       "array([[ 4, 15,  7],\n",
       "       [12, 14, 13],\n",
       "       [ 3,  3, 11]])"
      ]
     },
     "execution_count": 41,
     "metadata": {},
     "output_type": "execute_result"
    }
   ],
   "source": [
    "a1[0:3,0:3]"
   ]
  },
  {
   "cell_type": "code",
   "execution_count": 43,
   "id": "79767283-c8cf-4289-b4eb-ed06a187d67c",
   "metadata": {},
   "outputs": [
    {
     "data": {
      "text/plain": [
       "array([[ 8],\n",
       "       [14]])"
      ]
     },
     "execution_count": 43,
     "metadata": {},
     "output_type": "execute_result"
    }
   ],
   "source": [
    "a1[2:4,3:5]"
   ]
  },
  {
   "cell_type": "code",
   "execution_count": 45,
   "id": "c31f173c-e876-4ace-bde5-77b4bbd4d4f5",
   "metadata": {},
   "outputs": [
    {
     "data": {
      "text/plain": [
       "array([[11,  8],\n",
       "       [16, 14]])"
      ]
     },
     "execution_count": 45,
     "metadata": {},
     "output_type": "execute_result"
    }
   ],
   "source": [
    "a1[2:5,2:5]"
   ]
  },
  {
   "cell_type": "code",
   "execution_count": 47,
   "id": "ef164f6c-25da-4ad7-bed1-bf2e4fa3321a",
   "metadata": {},
   "outputs": [
    {
     "data": {
      "text/plain": [
       "array([[ 4, 15,  7, 14],\n",
       "       [12, 14, 13, 12],\n",
       "       [ 3,  3, 11,  8],\n",
       "       [ 2,  6, 16, 14]])"
      ]
     },
     "execution_count": 47,
     "metadata": {},
     "output_type": "execute_result"
    }
   ],
   "source": [
    "a1[::,::]"
   ]
  },
  {
   "cell_type": "code",
   "execution_count": 49,
   "id": "a5b4cfaa-8d5a-4292-b598-db44523e29fa",
   "metadata": {},
   "outputs": [
    {
     "data": {
      "text/plain": [
       "array([[ 2,  6, 16, 14],\n",
       "       [ 3,  3, 11,  8],\n",
       "       [12, 14, 13, 12],\n",
       "       [ 4, 15,  7, 14]])"
      ]
     },
     "execution_count": 49,
     "metadata": {},
     "output_type": "execute_result"
    }
   ],
   "source": [
    "a1[::-1,::]"
   ]
  },
  {
   "cell_type": "code",
   "execution_count": 32,
   "id": "a8089e6b-f7a2-427d-8c44-97a6f6779788",
   "metadata": {},
   "outputs": [
    {
     "ename": "NameError",
     "evalue": "name 'a1' is not defined",
     "output_type": "error",
     "traceback": [
      "\u001b[1;31m---------------------------------------------------------------------------\u001b[0m",
      "\u001b[1;31mNameError\u001b[0m                                 Traceback (most recent call last)",
      "Cell \u001b[1;32mIn[32], line 1\u001b[0m\n\u001b[1;32m----> 1\u001b[0m a1[::\u001b[38;5;241m-\u001b[39m\u001b[38;5;241m1\u001b[39m,::\u001b[38;5;241m-\u001b[39m\u001b[38;5;241m1\u001b[39m]\n",
      "\u001b[1;31mNameError\u001b[0m: name 'a1' is not defined"
     ]
    }
   ],
   "source": [
    "a1[::-1,::-1]"
   ]
  },
  {
   "cell_type": "raw",
   "id": "9a962486-fc01-4e49-8e66-f3ce9cd88fd3",
   "metadata": {},
   "source": [
    "import numpy as np\n",
    "array1=np.arange(100,151)\n"
   ]
  },
  {
   "cell_type": "code",
   "execution_count": 28,
   "id": "0bbe2710-3d21-4ef3-b953-caa1430e2176",
   "metadata": {},
   "outputs": [],
   "source": [
    "import numpy as np"
   ]
  },
  {
   "cell_type": "code",
   "execution_count": null,
   "id": "384d7742-7d47-4d69-b389-d51ba185ce2a",
   "metadata": {},
   "outputs": [],
   "source": [
    "shallowcopy\n",
    "a1=np.random.randint(0,18,(4,4))"
   ]
  },
  {
   "cell_type": "code",
   "execution_count": 38,
   "id": "fd0a8cea-af99-4881-b689-8c30ae864e6e",
   "metadata": {},
   "outputs": [
    {
     "data": {
      "text/plain": [
       "array([[ 7,  8, 10, 13],\n",
       "       [15,  3, 12,  8],\n",
       "       [15,  5,  0, 16],\n",
       "       [ 9, 16, 12,  6]])"
      ]
     },
     "execution_count": 38,
     "metadata": {},
     "output_type": "execute_result"
    }
   ],
   "source": [
    "a1"
   ]
  },
  {
   "cell_type": "code",
   "execution_count": 40,
   "id": "29948c4e-99d1-4fb7-9e70-b312eca13c29",
   "metadata": {},
   "outputs": [
    {
     "data": {
      "text/plain": [
       "array([[ 3, 12],\n",
       "       [ 5,  0]])"
      ]
     },
     "execution_count": 40,
     "metadata": {},
     "output_type": "execute_result"
    }
   ],
   "source": [
    "a1[1:3,1:3]"
   ]
  },
  {
   "cell_type": "code",
   "execution_count": 42,
   "id": "8c98ca3c-0fdf-4e27-9974-16002611f896",
   "metadata": {},
   "outputs": [],
   "source": [
    "sa=a1[1:3,1:3]\n"
   ]
  },
  {
   "cell_type": "code",
   "execution_count": 44,
   "id": "45cf9797-444c-4cdc-8369-df515ee0f528",
   "metadata": {},
   "outputs": [
    {
     "data": {
      "text/plain": [
       "array([[ 3, 12],\n",
       "       [ 5,  0]])"
      ]
     },
     "execution_count": 44,
     "metadata": {},
     "output_type": "execute_result"
    }
   ],
   "source": [
    "sa"
   ]
  },
  {
   "cell_type": "code",
   "execution_count": 48,
   "id": "510f9e47-974b-4e1f-b3b0-59ceae613e33",
   "metadata": {},
   "outputs": [],
   "source": [
    "sa[1,1]=10"
   ]
  },
  {
   "cell_type": "code",
   "execution_count": 50,
   "id": "7ddf207c-d3c6-43f4-b73f-7cdf366002e6",
   "metadata": {},
   "outputs": [
    {
     "data": {
      "text/plain": [
       "array([[ 3, 12],\n",
       "       [ 5, 10]])"
      ]
     },
     "execution_count": 50,
     "metadata": {},
     "output_type": "execute_result"
    }
   ],
   "source": [
    "sa"
   ]
  },
  {
   "cell_type": "code",
   "execution_count": 52,
   "id": "cd8c7f7e-f93a-4332-8e1c-445da7bf6a02",
   "metadata": {},
   "outputs": [
    {
     "data": {
      "text/plain": [
       "array([[ 7,  8, 10, 13],\n",
       "       [15,  3, 12,  8],\n",
       "       [15,  5, 10, 16],\n",
       "       [ 9, 16, 12,  6]])"
      ]
     },
     "execution_count": 52,
     "metadata": {},
     "output_type": "execute_result"
    }
   ],
   "source": [
    "a1"
   ]
  },
  {
   "cell_type": "code",
   "execution_count": 56,
   "id": "fa2fd7a7-5b87-4358-bfd4-5dd7f751dcf0",
   "metadata": {},
   "outputs": [],
   "source": [
    "a1[1,1]=13"
   ]
  },
  {
   "cell_type": "code",
   "execution_count": 58,
   "id": "cefdae17-a5f2-4dde-92cf-ff36367f034e",
   "metadata": {},
   "outputs": [
    {
     "data": {
      "text/plain": [
       "array([[ 7,  8, 10, 13],\n",
       "       [15, 13, 12,  8],\n",
       "       [15,  5, 10, 16],\n",
       "       [ 9, 16, 12,  6]])"
      ]
     },
     "execution_count": 58,
     "metadata": {},
     "output_type": "execute_result"
    }
   ],
   "source": [
    "a1"
   ]
  },
  {
   "cell_type": "markdown",
   "id": "bc8376cc-ce1d-4658-b8df-5ed77a05c95d",
   "metadata": {},
   "source": [
    "Deepcopy"
   ]
  },
  {
   "cell_type": "code",
   "execution_count": 60,
   "id": "5b44f290-2ffe-48aa-8938-52efb068648c",
   "metadata": {},
   "outputs": [
    {
     "data": {
      "text/plain": [
       "array([[ 7,  8, 10, 13],\n",
       "       [15, 13, 12,  8],\n",
       "       [15,  5, 10, 16],\n",
       "       [ 9, 16, 12,  6]])"
      ]
     },
     "execution_count": 60,
     "metadata": {},
     "output_type": "execute_result"
    }
   ],
   "source": [
    "a1"
   ]
  },
  {
   "cell_type": "code",
   "execution_count": 62,
   "id": "58b34601-35c7-460f-9f10-fba20e75a646",
   "metadata": {},
   "outputs": [
    {
     "data": {
      "text/plain": [
       "array([[ 7,  8],\n",
       "       [15, 13]])"
      ]
     },
     "execution_count": 62,
     "metadata": {},
     "output_type": "execute_result"
    }
   ],
   "source": [
    "a1[:2,:2]"
   ]
  },
  {
   "cell_type": "code",
   "execution_count": 68,
   "id": "7553af6c-620f-458f-a5d9-b497304dcef7",
   "metadata": {},
   "outputs": [],
   "source": [
    "da=a1[:2,:2].copy()\n"
   ]
  },
  {
   "cell_type": "code",
   "execution_count": 70,
   "id": "803b1033-d565-4f33-9201-9044708e0c3e",
   "metadata": {},
   "outputs": [
    {
     "data": {
      "text/plain": [
       "array([[ 7,  8],\n",
       "       [15, 13]])"
      ]
     },
     "execution_count": 70,
     "metadata": {},
     "output_type": "execute_result"
    }
   ],
   "source": [
    "da"
   ]
  },
  {
   "cell_type": "code",
   "execution_count": 76,
   "id": "8ea7ba78-41e5-4755-9689-0213d2b62f94",
   "metadata": {},
   "outputs": [],
   "source": [
    "a1[0,0]=11\n"
   ]
  },
  {
   "cell_type": "code",
   "execution_count": 78,
   "id": "96beb1ea-5605-4f93-9eaa-33bb03207689",
   "metadata": {},
   "outputs": [
    {
     "data": {
      "text/plain": [
       "array([[11,  8, 10, 13],\n",
       "       [15, 13, 12,  8],\n",
       "       [15,  5, 10, 16],\n",
       "       [ 9, 16, 12,  6]])"
      ]
     },
     "execution_count": 78,
     "metadata": {},
     "output_type": "execute_result"
    }
   ],
   "source": [
    "a1"
   ]
  },
  {
   "cell_type": "code",
   "execution_count": 80,
   "id": "65f0347d-1fbd-47bc-b4cf-5d30cdf5be3a",
   "metadata": {},
   "outputs": [
    {
     "data": {
      "text/plain": [
       "array([[ 7,  8],\n",
       "       [15, 13]])"
      ]
     },
     "execution_count": 80,
     "metadata": {},
     "output_type": "execute_result"
    }
   ],
   "source": [
    "da"
   ]
  },
  {
   "cell_type": "code",
   "execution_count": 82,
   "id": "6df0b6fe-725c-42ba-89bf-5ce353e72f46",
   "metadata": {},
   "outputs": [],
   "source": [
    "da[1,1]=18"
   ]
  },
  {
   "cell_type": "code",
   "execution_count": 84,
   "id": "a16d8f39-e1eb-4689-a654-19c26e24869c",
   "metadata": {},
   "outputs": [
    {
     "data": {
      "text/plain": [
       "array([[ 7,  8],\n",
       "       [15, 18]])"
      ]
     },
     "execution_count": 84,
     "metadata": {},
     "output_type": "execute_result"
    }
   ],
   "source": [
    "da"
   ]
  },
  {
   "cell_type": "code",
   "execution_count": 86,
   "id": "334af251-4362-40ab-a4fb-2a010ecb173c",
   "metadata": {},
   "outputs": [
    {
     "data": {
      "text/plain": [
       "array([[11,  8, 10, 13],\n",
       "       [15, 13, 12,  8],\n",
       "       [15,  5, 10, 16],\n",
       "       [ 9, 16, 12,  6]])"
      ]
     },
     "execution_count": 86,
     "metadata": {},
     "output_type": "execute_result"
    }
   ],
   "source": [
    "a1"
   ]
  },
  {
   "cell_type": "code",
   "execution_count": 88,
   "id": "a4526ac7-49cc-4281-95e1-f2c73b9c46aa",
   "metadata": {},
   "outputs": [],
   "source": [
    "a=np.arange(1,5)"
   ]
  },
  {
   "cell_type": "code",
   "execution_count": 90,
   "id": "335836c2-6190-4b0a-a0a0-f451f9b15deb",
   "metadata": {},
   "outputs": [
    {
     "data": {
      "text/plain": [
       "array([1, 2, 3, 4])"
      ]
     },
     "execution_count": 90,
     "metadata": {},
     "output_type": "execute_result"
    }
   ],
   "source": [
    "a"
   ]
  },
  {
   "cell_type": "code",
   "execution_count": 102,
   "id": "f3d38ed4-8670-493a-82c4-b308fb215284",
   "metadata": {},
   "outputs": [
    {
     "data": {
      "text/plain": [
       "array([[1],\n",
       "       [2],\n",
       "       [3],\n",
       "       [4]])"
      ]
     },
     "execution_count": 102,
     "metadata": {},
     "output_type": "execute_result"
    }
   ],
   "source": [
    "a.reshape(4,1)"
   ]
  },
  {
   "cell_type": "code",
   "execution_count": 116,
   "id": "419c7dd9-17e7-4c6b-9c7b-c28ed6328454",
   "metadata": {},
   "outputs": [],
   "source": [
    "a2=a.reshape(2,2)\n"
   ]
  },
  {
   "cell_type": "code",
   "execution_count": 118,
   "id": "a8f7e57b-1dfa-4402-91c5-c262c1840dc8",
   "metadata": {},
   "outputs": [
    {
     "data": {
      "text/plain": [
       "array([[1, 2],\n",
       "       [3, 4]])"
      ]
     },
     "execution_count": 118,
     "metadata": {},
     "output_type": "execute_result"
    }
   ],
   "source": [
    "a2"
   ]
  },
  {
   "cell_type": "code",
   "execution_count": 122,
   "id": "e9015062-bf76-4775-a77d-ec2adb1a8131",
   "metadata": {},
   "outputs": [
    {
     "data": {
      "text/plain": [
       "array([[1, 2, 3, 4]])"
      ]
     },
     "execution_count": 122,
     "metadata": {},
     "output_type": "execute_result"
    }
   ],
   "source": [
    "a2.reshape(1,4)"
   ]
  },
  {
   "cell_type": "code",
   "execution_count": 128,
   "id": "eb963410-c57f-41c1-bb7b-61122a008253",
   "metadata": {},
   "outputs": [
    {
     "data": {
      "text/plain": [
       "array([1, 2, 3, 4])"
      ]
     },
     "execution_count": 128,
     "metadata": {},
     "output_type": "execute_result"
    }
   ],
   "source": [
    "a2.ravel()\n"
   ]
  },
  {
   "cell_type": "code",
   "execution_count": 130,
   "id": "f0562fa2-f90d-4ba8-b3a4-6d546ca32b48",
   "metadata": {},
   "outputs": [
    {
     "data": {
      "text/plain": [
       "array([11,  8, 10, 13, 15, 13, 12,  8, 15,  5, 10, 16,  9, 16, 12,  6])"
      ]
     },
     "execution_count": 130,
     "metadata": {},
     "output_type": "execute_result"
    }
   ],
   "source": [
    "a1.ravel()"
   ]
  },
  {
   "cell_type": "code",
   "execution_count": 132,
   "id": "0ee1634f-f18f-4f55-af0e-567bb8b279ed",
   "metadata": {},
   "outputs": [
    {
     "data": {
      "text/plain": [
       "array([11,  8, 10, 13, 15, 13, 12,  8, 15,  5, 10, 16,  9, 16, 12,  6])"
      ]
     },
     "execution_count": 132,
     "metadata": {},
     "output_type": "execute_result"
    }
   ],
   "source": [
    "a1.flatten()"
   ]
  },
  {
   "cell_type": "code",
   "execution_count": 11,
   "id": "6952a7fa-bd35-46e7-8691-86cd5e5b6b0e",
   "metadata": {},
   "outputs": [],
   "source": [
    "import numpy as np"
   ]
  },
  {
   "cell_type": "code",
   "execution_count": 15,
   "id": "b9485e4e-7dbb-4475-84d2-e0d1f46b5a6b",
   "metadata": {},
   "outputs": [],
   "source": [
    "a1=np.random.randint(0,18,(4,4))"
   ]
  },
  {
   "cell_type": "code",
   "execution_count": 21,
   "id": "de45f7f2-82b4-4eac-b791-2cc5ce4f1040",
   "metadata": {},
   "outputs": [
    {
     "data": {
      "text/plain": [
       "array([[ 6,  8,  6,  7],\n",
       "       [15, 15,  7,  9],\n",
       "       [16,  7, 16,  2],\n",
       "       [ 0, 15, 17, 16]])"
      ]
     },
     "execution_count": 21,
     "metadata": {},
     "output_type": "execute_result"
    }
   ],
   "source": [
    "a1"
   ]
  },
  {
   "cell_type": "markdown",
   "id": "8b57638c-a917-4de5-a4e2-cb8018aee884",
   "metadata": {},
   "source": [
    "concatenation of array or joining of 2 arrays"
   ]
  },
  {
   "cell_type": "code",
   "execution_count": 23,
   "id": "0da32d54-85b7-4452-b605-16a65b6b0200",
   "metadata": {},
   "outputs": [
    {
     "data": {
      "text/plain": [
       "array([[ 6,  8],\n",
       "       [15, 15]])"
      ]
     },
     "execution_count": 23,
     "metadata": {},
     "output_type": "execute_result"
    }
   ],
   "source": [
    "a1[:2,:2]"
   ]
  },
  {
   "cell_type": "code",
   "execution_count": 25,
   "id": "534241a1-c9d9-4a5b-b144-c93ac028f40a",
   "metadata": {},
   "outputs": [],
   "source": [
    "sa=a1[:2,:2]"
   ]
  },
  {
   "cell_type": "code",
   "execution_count": 28,
   "id": "33752ff7-501c-42c7-9fdf-0b300cc9354a",
   "metadata": {},
   "outputs": [
    {
     "data": {
      "text/plain": [
       "array([[ 6,  8],\n",
       "       [15, 15]])"
      ]
     },
     "execution_count": 28,
     "metadata": {},
     "output_type": "execute_result"
    }
   ],
   "source": [
    "sa"
   ]
  },
  {
   "cell_type": "code",
   "execution_count": 42,
   "id": "79955028-a350-474e-bb53-a2e01ef43579",
   "metadata": {},
   "outputs": [
    {
     "data": {
      "text/plain": [
       "array([[16]])"
      ]
     },
     "execution_count": 42,
     "metadata": {},
     "output_type": "execute_result"
    }
   ],
   "source": [
    "a1[2:3,2:3]"
   ]
  },
  {
   "cell_type": "code",
   "execution_count": null,
   "id": "eca1a490-4fe6-46fc-b9c5-57169089491d",
   "metadata": {},
   "outputs": [],
   "source": [
    "#concation in row axis=0\n",
    "#concatination in colunms asix=1"
   ]
  },
  {
   "cell_type": "code",
   "execution_count": 44,
   "id": "d387f701-4e07-40c6-88aa-f4d29cab8c53",
   "metadata": {},
   "outputs": [],
   "source": [
    "a2=a1"
   ]
  },
  {
   "cell_type": "code",
   "execution_count": 46,
   "id": "f6acf765-86b7-4248-995d-7ae07a9b025a",
   "metadata": {},
   "outputs": [
    {
     "data": {
      "text/plain": [
       "array([[ 6,  8,  6,  7],\n",
       "       [15, 15,  7,  9],\n",
       "       [16,  7, 16,  2],\n",
       "       [ 0, 15, 17, 16]])"
      ]
     },
     "execution_count": 46,
     "metadata": {},
     "output_type": "execute_result"
    }
   ],
   "source": [
    "a2"
   ]
  },
  {
   "cell_type": "code",
   "execution_count": 48,
   "id": "efb3f83c-1023-442a-af45-196e03f10e17",
   "metadata": {},
   "outputs": [
    {
     "data": {
      "text/plain": [
       "array([[ 6,  8,  6,  7],\n",
       "       [15, 15,  7,  9],\n",
       "       [16,  7, 16,  2],\n",
       "       [ 0, 15, 17, 16],\n",
       "       [ 6,  8,  6,  7],\n",
       "       [15, 15,  7,  9],\n",
       "       [16,  7, 16,  2],\n",
       "       [ 0, 15, 17, 16]])"
      ]
     },
     "execution_count": 48,
     "metadata": {},
     "output_type": "execute_result"
    }
   ],
   "source": [
    "np.concatenate([a1,a2])\n",
    "#row concate-no.of column equal"
   ]
  },
  {
   "cell_type": "code",
   "execution_count": 50,
   "id": "ca2ba462-5e00-47b2-8c50-52f715069817",
   "metadata": {},
   "outputs": [
    {
     "data": {
      "text/plain": [
       "array([[ 6,  8,  6,  7,  6,  8,  6,  7],\n",
       "       [15, 15,  7,  9, 15, 15,  7,  9],\n",
       "       [16,  7, 16,  2, 16,  7, 16,  2],\n",
       "       [ 0, 15, 17, 16,  0, 15, 17, 16]])"
      ]
     },
     "execution_count": 50,
     "metadata": {},
     "output_type": "execute_result"
    }
   ],
   "source": [
    "np.concatenate([a1,a2],axis=1)\n",
    "#column-no.of row should be equal"
   ]
  },
  {
   "cell_type": "markdown",
   "id": "06090180-5fc0-4024-86cf-d4fa7563dbff",
   "metadata": {},
   "source": [
    "Numpy assignment 1"
   ]
  },
  {
   "cell_type": "code",
   "execution_count": 1,
   "id": "8cf0b553-d5fd-4944-97df-556c38dfa6cd",
   "metadata": {},
   "outputs": [],
   "source": [
    "import numpy as np\n"
   ]
  },
  {
   "cell_type": "code",
   "execution_count": 3,
   "id": "ca6c4e4e-0ec8-4212-8c53-52cab6059656",
   "metadata": {},
   "outputs": [],
   "source": [
    "a1=np.zeros(10)\n"
   ]
  },
  {
   "cell_type": "code",
   "execution_count": 5,
   "id": "88923e41-2193-4441-a3e9-d97292d3a078",
   "metadata": {},
   "outputs": [
    {
     "data": {
      "text/plain": [
       "array([0., 0., 0., 0., 0., 0., 0., 0., 0., 0.])"
      ]
     },
     "execution_count": 5,
     "metadata": {},
     "output_type": "execute_result"
    }
   ],
   "source": [
    "a1\n"
   ]
  },
  {
   "cell_type": "code",
   "execution_count": 7,
   "id": "4e2a2a50-ed7e-4849-92fc-bbeb76b8f9ae",
   "metadata": {},
   "outputs": [],
   "source": [
    "a2=np.ones(10)\n"
   ]
  },
  {
   "cell_type": "code",
   "execution_count": 9,
   "id": "e207e818-2b83-404e-a90b-0b5d5bef95d2",
   "metadata": {},
   "outputs": [
    {
     "data": {
      "text/plain": [
       "array([1., 1., 1., 1., 1., 1., 1., 1., 1., 1.])"
      ]
     },
     "execution_count": 9,
     "metadata": {},
     "output_type": "execute_result"
    }
   ],
   "source": [
    "a2\n"
   ]
  },
  {
   "cell_type": "code",
   "execution_count": 11,
   "id": "a2649a9e-3164-46c1-80ab-4ba5bf2c1a2b",
   "metadata": {},
   "outputs": [],
   "source": [
    "a3=np.arange(10,51)"
   ]
  },
  {
   "cell_type": "code",
   "execution_count": 13,
   "id": "652d0694-ad2b-4797-93ed-86fe2a063411",
   "metadata": {},
   "outputs": [
    {
     "data": {
      "text/plain": [
       "array([10, 11, 12, 13, 14, 15, 16, 17, 18, 19, 20, 21, 22, 23, 24, 25, 26,\n",
       "       27, 28, 29, 30, 31, 32, 33, 34, 35, 36, 37, 38, 39, 40, 41, 42, 43,\n",
       "       44, 45, 46, 47, 48, 49, 50])"
      ]
     },
     "execution_count": 13,
     "metadata": {},
     "output_type": "execute_result"
    }
   ],
   "source": [
    "a3\n"
   ]
  },
  {
   "cell_type": "code",
   "execution_count": 15,
   "id": "8a55761e-f334-4d1b-b8b8-f244d01da0bd",
   "metadata": {},
   "outputs": [],
   "source": [
    "a4=np.arange(10,51,2)"
   ]
  },
  {
   "cell_type": "code",
   "execution_count": 17,
   "id": "12763256-06fe-4fa3-abca-e08b66105d66",
   "metadata": {},
   "outputs": [
    {
     "data": {
      "text/plain": [
       "array([10, 12, 14, 16, 18, 20, 22, 24, 26, 28, 30, 32, 34, 36, 38, 40, 42,\n",
       "       44, 46, 48, 50])"
      ]
     },
     "execution_count": 17,
     "metadata": {},
     "output_type": "execute_result"
    }
   ],
   "source": [
    "a4"
   ]
  },
  {
   "cell_type": "code",
   "execution_count": 19,
   "id": "53ec5a27-491f-4a67-8508-b4d5b821ed81",
   "metadata": {},
   "outputs": [],
   "source": [
    "a5=np.arange(0,9).reshape(3,3)"
   ]
  },
  {
   "cell_type": "code",
   "execution_count": 21,
   "id": "f814bbdb-4373-4b50-87c7-46516466eb37",
   "metadata": {},
   "outputs": [
    {
     "data": {
      "text/plain": [
       "array([[0, 1, 2],\n",
       "       [3, 4, 5],\n",
       "       [6, 7, 8]])"
      ]
     },
     "execution_count": 21,
     "metadata": {},
     "output_type": "execute_result"
    }
   ],
   "source": [
    "a5"
   ]
  },
  {
   "cell_type": "code",
   "execution_count": 25,
   "id": "9cec07e2-d330-4c76-8e6d-0d81d4d4c6a7",
   "metadata": {},
   "outputs": [],
   "source": [
    "a6=np.identity(3)\n"
   ]
  },
  {
   "cell_type": "code",
   "execution_count": 27,
   "id": "cb992962-8137-47e0-bb68-8dd390290a5b",
   "metadata": {},
   "outputs": [
    {
     "data": {
      "text/plain": [
       "array([[1., 0., 0.],\n",
       "       [0., 1., 0.],\n",
       "       [0., 0., 1.]])"
      ]
     },
     "execution_count": 27,
     "metadata": {},
     "output_type": "execute_result"
    }
   ],
   "source": [
    "a6"
   ]
  },
  {
   "cell_type": "code",
   "execution_count": 47,
   "id": "b0aff960-d72d-4350-857d-cb9315159a3c",
   "metadata": {},
   "outputs": [],
   "source": [
    "num=np.random.normal(0,1,1)"
   ]
  },
  {
   "cell_type": "code",
   "execution_count": 49,
   "id": "2bfd3e94-48f8-4aeb-9fc2-4a3db619dba7",
   "metadata": {},
   "outputs": [
    {
     "data": {
      "text/plain": [
       "array([1.20349142])"
      ]
     },
     "execution_count": 49,
     "metadata": {},
     "output_type": "execute_result"
    }
   ],
   "source": [
    "num"
   ]
  },
  {
   "cell_type": "code",
   "execution_count": 51,
   "id": "70d9b023-320c-4e95-9728-0efe8bd99fee",
   "metadata": {},
   "outputs": [],
   "source": [
    "num1=np.random.normal(0,1,25)\n"
   ]
  },
  {
   "cell_type": "code",
   "execution_count": 53,
   "id": "dbcc9053-c715-454e-a27f-79718658fc89",
   "metadata": {},
   "outputs": [
    {
     "data": {
      "text/plain": [
       "array([ 1.04250886e+00,  6.18415752e-02,  1.78866941e-01,  2.48558704e+00,\n",
       "        2.92770267e-01, -7.71477241e-01, -9.48381059e-01, -6.48574826e-01,\n",
       "        1.88022704e-01,  3.54619781e-01, -1.94800774e-01, -5.94691877e-01,\n",
       "       -2.17298952e-01,  1.99231441e-01, -4.14210413e-01, -2.26590862e-01,\n",
       "        4.18926643e-01, -1.61932690e-01, -1.20219177e+00, -8.45613315e-01,\n",
       "        7.97739178e-02,  1.67298151e+00,  1.06023746e+00, -2.02884702e-03,\n",
       "       -4.49219202e-02])"
      ]
     },
     "execution_count": 53,
     "metadata": {},
     "output_type": "execute_result"
    }
   ],
   "source": [
    "num1"
   ]
  },
  {
   "cell_type": "code",
   "execution_count": 55,
   "id": "8640c110-dfdd-465f-900b-8df725773e9a",
   "metadata": {},
   "outputs": [],
   "source": [
    "mat1 = np.linspace(0.01, 1, 100).reshape(10, 10)"
   ]
  },
  {
   "cell_type": "code",
   "execution_count": 57,
   "id": "c6fccb44-2485-43a2-9bab-33016d865a35",
   "metadata": {},
   "outputs": [
    {
     "data": {
      "text/plain": [
       "array([[0.01, 0.02, 0.03, 0.04, 0.05, 0.06, 0.07, 0.08, 0.09, 0.1 ],\n",
       "       [0.11, 0.12, 0.13, 0.14, 0.15, 0.16, 0.17, 0.18, 0.19, 0.2 ],\n",
       "       [0.21, 0.22, 0.23, 0.24, 0.25, 0.26, 0.27, 0.28, 0.29, 0.3 ],\n",
       "       [0.31, 0.32, 0.33, 0.34, 0.35, 0.36, 0.37, 0.38, 0.39, 0.4 ],\n",
       "       [0.41, 0.42, 0.43, 0.44, 0.45, 0.46, 0.47, 0.48, 0.49, 0.5 ],\n",
       "       [0.51, 0.52, 0.53, 0.54, 0.55, 0.56, 0.57, 0.58, 0.59, 0.6 ],\n",
       "       [0.61, 0.62, 0.63, 0.64, 0.65, 0.66, 0.67, 0.68, 0.69, 0.7 ],\n",
       "       [0.71, 0.72, 0.73, 0.74, 0.75, 0.76, 0.77, 0.78, 0.79, 0.8 ],\n",
       "       [0.81, 0.82, 0.83, 0.84, 0.85, 0.86, 0.87, 0.88, 0.89, 0.9 ],\n",
       "       [0.91, 0.92, 0.93, 0.94, 0.95, 0.96, 0.97, 0.98, 0.99, 1.  ]])"
      ]
     },
     "execution_count": 57,
     "metadata": {},
     "output_type": "execute_result"
    }
   ],
   "source": [
    "mat1"
   ]
  },
  {
   "cell_type": "code",
   "execution_count": 59,
   "id": "a8e2d30f-3296-4a24-aedd-44dc69d4d013",
   "metadata": {},
   "outputs": [],
   "source": [
    "arr=np.linspace(0,1,20)"
   ]
  },
  {
   "cell_type": "code",
   "execution_count": 61,
   "id": "440631a7-060f-4779-b129-5e1355f3cc9f",
   "metadata": {},
   "outputs": [
    {
     "data": {
      "text/plain": [
       "array([0.        , 0.05263158, 0.10526316, 0.15789474, 0.21052632,\n",
       "       0.26315789, 0.31578947, 0.36842105, 0.42105263, 0.47368421,\n",
       "       0.52631579, 0.57894737, 0.63157895, 0.68421053, 0.73684211,\n",
       "       0.78947368, 0.84210526, 0.89473684, 0.94736842, 1.        ])"
      ]
     },
     "execution_count": 61,
     "metadata": {},
     "output_type": "execute_result"
    }
   ],
   "source": [
    "arr"
   ]
  },
  {
   "cell_type": "markdown",
   "id": "54bb6f44-3ba0-4940-9adb-c24f1c137b24",
   "metadata": {},
   "source": [
    "lecture continuation"
   ]
  },
  {
   "cell_type": "code",
   "execution_count": 65,
   "id": "0b19d6ef-72c2-48a9-9385-5eab0d7b9fbe",
   "metadata": {},
   "outputs": [],
   "source": [
    "x=np.array([1,2,3])"
   ]
  },
  {
   "cell_type": "code",
   "execution_count": 67,
   "id": "de36789c-aff8-4d57-abda-4624181eb5d1",
   "metadata": {},
   "outputs": [
    {
     "data": {
      "text/plain": [
       "array([1, 2, 3])"
      ]
     },
     "execution_count": 67,
     "metadata": {},
     "output_type": "execute_result"
    }
   ],
   "source": [
    "x"
   ]
  },
  {
   "cell_type": "code",
   "execution_count": 77,
   "id": "b7697b4b-84c1-4bf4-880c-ac87969f1490",
   "metadata": {},
   "outputs": [],
   "source": [
    "y=np.array([4,5,6])"
   ]
  },
  {
   "cell_type": "code",
   "execution_count": 79,
   "id": "2d0a1691-5d2a-4b22-bef5-77e6c9fc3f71",
   "metadata": {},
   "outputs": [
    {
     "data": {
      "text/plain": [
       "array([4, 5, 6])"
      ]
     },
     "execution_count": 79,
     "metadata": {},
     "output_type": "execute_result"
    }
   ],
   "source": [
    "y"
   ]
  },
  {
   "cell_type": "code",
   "execution_count": 81,
   "id": "f4e2fab1-4317-4490-b758-b7cab36bcf61",
   "metadata": {},
   "outputs": [
    {
     "data": {
      "text/plain": [
       "array([[1, 2, 3],\n",
       "       [4, 5, 6]])"
      ]
     },
     "execution_count": 81,
     "metadata": {},
     "output_type": "execute_result"
    }
   ],
   "source": [
    "np.vstack((x,y))\n",
    "#row wise"
   ]
  },
  {
   "cell_type": "code",
   "execution_count": 83,
   "id": "123bdf9f-4614-43ee-93b1-1e8bcbe13b1b",
   "metadata": {},
   "outputs": [
    {
     "data": {
      "text/plain": [
       "array([1, 2, 3, 4, 5, 6])"
      ]
     },
     "execution_count": 83,
     "metadata": {},
     "output_type": "execute_result"
    }
   ],
   "source": [
    "np.hstack((x,y))\n",
    "#column wise"
   ]
  },
  {
   "cell_type": "code",
   "execution_count": 85,
   "id": "fddefa72-8bbd-4532-ba58-88e2385873db",
   "metadata": {},
   "outputs": [
    {
     "data": {
      "text/plain": [
       "array([1, 2, 3, 4])"
      ]
     },
     "execution_count": 85,
     "metadata": {},
     "output_type": "execute_result"
    }
   ],
   "source": [
    "np.hstack((x,[4]))"
   ]
  },
  {
   "cell_type": "code",
   "execution_count": null,
   "id": "e5422e33-f343-4f40-9252-13a5751d248b",
   "metadata": {},
   "outputs": [],
   "source": [
    "#spilting the array\n",
    "np.split\n",
    "np.vsplit\n",
    "np.hsplit\n",
    "np.dsplit  , depth split"
   ]
  },
  {
   "cell_type": "code",
   "execution_count": 91,
   "id": "5f030ed8-28f7-4317-859b-dbef93027b5a",
   "metadata": {},
   "outputs": [
    {
     "data": {
      "text/plain": [
       "[array([1]), array([2]), array([3])]"
      ]
     },
     "execution_count": 91,
     "metadata": {},
     "output_type": "execute_result"
    }
   ],
   "source": [
    "np.split(x,3)\n"
   ]
  },
  {
   "cell_type": "code",
   "execution_count": 95,
   "id": "40a79b49-1a34-44da-931b-ae370bd170d6",
   "metadata": {},
   "outputs": [
    {
     "data": {
      "text/plain": [
       "[array([1]), array([2]), array([3])]"
      ]
     },
     "execution_count": 95,
     "metadata": {},
     "output_type": "execute_result"
    }
   ],
   "source": [
    "np.hsplit(x,3)"
   ]
  },
  {
   "cell_type": "code",
   "execution_count": 103,
   "id": "c97a4d00-5060-4438-aab5-5307f722d863",
   "metadata": {},
   "outputs": [],
   "source": [
    "z=np.array([1,2,3,4,5])"
   ]
  },
  {
   "cell_type": "code",
   "execution_count": 105,
   "id": "7a533b13-2459-4613-8188-870f13a8e2bf",
   "metadata": {},
   "outputs": [
    {
     "data": {
      "text/plain": [
       "array([1, 2, 3, 4, 5])"
      ]
     },
     "execution_count": 105,
     "metadata": {},
     "output_type": "execute_result"
    }
   ],
   "source": [
    "z"
   ]
  },
  {
   "cell_type": "code",
   "execution_count": 107,
   "id": "b1d7e1f9-b178-46b1-b398-13fff305ee5e",
   "metadata": {},
   "outputs": [
    {
     "data": {
      "text/plain": [
       "[array([1, 2]), array([3]), array([4, 5])]"
      ]
     },
     "execution_count": 107,
     "metadata": {},
     "output_type": "execute_result"
    }
   ],
   "source": [
    "np.split(z,[2,3])\n",
    "#[:2],[2,3],[3:]"
   ]
  },
  {
   "cell_type": "code",
   "execution_count": 109,
   "id": "5c8f081e-3827-4b49-be9a-e1d7976b0bf5",
   "metadata": {},
   "outputs": [
    {
     "data": {
      "text/plain": [
       "[array([1]), array([2, 3, 4]), array([5])]"
      ]
     },
     "execution_count": 109,
     "metadata": {},
     "output_type": "execute_result"
    }
   ],
   "source": [
    "np.split(z,[1,4])"
   ]
  },
  {
   "cell_type": "code",
   "execution_count": 113,
   "id": "49583390-3b57-4e26-84cf-ad43cf6f2224",
   "metadata": {},
   "outputs": [
    {
     "data": {
      "text/plain": [
       "[array([1]), array([2]), array([3]), array([4]), array([5])]"
      ]
     },
     "execution_count": 113,
     "metadata": {},
     "output_type": "execute_result"
    }
   ],
   "source": [
    "np.hsplit(z,5)"
   ]
  },
  {
   "cell_type": "code",
   "execution_count": null,
   "id": "8c52a6e6-25fb-4022-a7e1-de4240e76a13",
   "metadata": {},
   "outputs": [],
   "source": [
    "universal function\n",
    "#sum\n",
    "mean\n",
    "sd\n",
    "variance\n",
    "absolute"
   ]
  },
  {
   "cell_type": "code",
   "execution_count": 115,
   "id": "af959bd7-a528-455b-ad1e-9bacebe7d632",
   "metadata": {},
   "outputs": [
    {
     "data": {
      "text/plain": [
       "5"
      ]
     },
     "execution_count": 115,
     "metadata": {},
     "output_type": "execute_result"
    }
   ],
   "source": [
    "np.abs(-5)\n",
    "#remove negative sign\n"
   ]
  },
  {
   "cell_type": "code",
   "execution_count": null,
   "id": "2ac5e2d9-d2c0-4230-8a61-3be67cfbedfe",
   "metadata": {},
   "outputs": [],
   "source": [
    "#aggregation"
   ]
  },
  {
   "cell_type": "code",
   "execution_count": 117,
   "id": "b46c795f-4774-432d-bd82-b1da14b63734",
   "metadata": {},
   "outputs": [
    {
     "data": {
      "text/plain": [
       "15"
      ]
     },
     "execution_count": 117,
     "metadata": {},
     "output_type": "execute_result"
    }
   ],
   "source": [
    "np.sum(z)"
   ]
  },
  {
   "cell_type": "code",
   "execution_count": 119,
   "id": "8f1f6a56-fdc3-4986-98f2-0f9f1465a720",
   "metadata": {},
   "outputs": [
    {
     "data": {
      "text/plain": [
       "1"
      ]
     },
     "execution_count": 119,
     "metadata": {},
     "output_type": "execute_result"
    }
   ],
   "source": [
    "np.min(z)"
   ]
  },
  {
   "cell_type": "code",
   "execution_count": 121,
   "id": "e430e473-3aca-42b8-b85d-5b8bb97b936a",
   "metadata": {},
   "outputs": [
    {
     "data": {
      "text/plain": [
       "5"
      ]
     },
     "execution_count": 121,
     "metadata": {},
     "output_type": "execute_result"
    }
   ],
   "source": [
    "np.max(z)"
   ]
  },
  {
   "cell_type": "code",
   "execution_count": 123,
   "id": "a465a3dd-2f4f-4320-8e66-183800914288",
   "metadata": {},
   "outputs": [
    {
     "data": {
      "text/plain": [
       "0"
      ]
     },
     "execution_count": 123,
     "metadata": {},
     "output_type": "execute_result"
    }
   ],
   "source": [
    "np.argmin(z)\n",
    "#gives index of min & max"
   ]
  },
  {
   "cell_type": "code",
   "execution_count": 125,
   "id": "54bdfc38-17c9-443a-acde-279c2b0066a8",
   "metadata": {},
   "outputs": [
    {
     "data": {
      "text/plain": [
       "2.0"
      ]
     },
     "execution_count": 125,
     "metadata": {},
     "output_type": "execute_result"
    }
   ],
   "source": [
    "np.var(z)"
   ]
  },
  {
   "cell_type": "code",
   "execution_count": 127,
   "id": "2c084868-271b-4d59-814c-a645257e00b6",
   "metadata": {},
   "outputs": [
    {
     "data": {
      "text/plain": [
       "1.4142135623730951"
      ]
     },
     "execution_count": 127,
     "metadata": {},
     "output_type": "execute_result"
    }
   ],
   "source": [
    "np.std(z)"
   ]
  },
  {
   "cell_type": "code",
   "execution_count": 129,
   "id": "3fafff06-c87c-4691-8e69-2050d5e5fc3c",
   "metadata": {},
   "outputs": [
    {
     "data": {
      "text/plain": [
       "120"
      ]
     },
     "execution_count": 129,
     "metadata": {},
     "output_type": "execute_result"
    }
   ],
   "source": [
    "np.product(z)"
   ]
  },
  {
   "cell_type": "code",
   "execution_count": 131,
   "id": "13ac60e7-33c7-411e-9429-0515c7ce3466",
   "metadata": {},
   "outputs": [
    {
     "data": {
      "text/plain": [
       "3.0"
      ]
     },
     "execution_count": 131,
     "metadata": {},
     "output_type": "execute_result"
    }
   ],
   "source": [
    "np.mean(z)"
   ]
  },
  {
   "cell_type": "code",
   "execution_count": 133,
   "id": "023c1852-46df-4990-8e7c-cd437d2801fb",
   "metadata": {},
   "outputs": [
    {
     "data": {
      "text/plain": [
       "3.0"
      ]
     },
     "execution_count": 133,
     "metadata": {},
     "output_type": "execute_result"
    }
   ],
   "source": [
    "np.median(z)"
   ]
  },
  {
   "cell_type": "code",
   "execution_count": 139,
   "id": "8e3f5eb3-46f6-4eae-bc6c-fc665bfeea66",
   "metadata": {},
   "outputs": [
    {
     "data": {
      "text/plain": [
       "1.08"
      ]
     },
     "execution_count": 139,
     "metadata": {},
     "output_type": "execute_result"
    }
   ],
   "source": [
    "np.percentile(z,2)\n"
   ]
  },
  {
   "cell_type": "code",
   "execution_count": null,
   "id": "6ee895eb-e492-4a2e-830f-fcd49db50734",
   "metadata": {},
   "outputs": [],
   "source": []
  },
  {
   "cell_type": "code",
   "execution_count": null,
   "id": "43e961c2-e00f-4eb5-ab94-afb943e9f6e7",
   "metadata": {},
   "outputs": [],
   "source": []
  },
  {
   "cell_type": "code",
   "execution_count": null,
   "id": "84f377bd-3b24-4331-8e7d-ff24d8ae4e25",
   "metadata": {},
   "outputs": [],
   "source": []
  },
  {
   "cell_type": "code",
   "execution_count": null,
   "id": "0d91f8dc-3de2-4742-a24f-ef51bd86bf6e",
   "metadata": {},
   "outputs": [],
   "source": []
  },
  {
   "cell_type": "code",
   "execution_count": null,
   "id": "f8ef5592-db10-4566-a8d3-5e9ea113b1c7",
   "metadata": {},
   "outputs": [],
   "source": []
  },
  {
   "cell_type": "code",
   "execution_count": null,
   "id": "434c3f75-9528-4e2c-b3eb-16888fd75d84",
   "metadata": {},
   "outputs": [],
   "source": []
  },
  {
   "cell_type": "code",
   "execution_count": null,
   "id": "ea648e1e-28ca-4f86-934f-16940f8a1fcd",
   "metadata": {},
   "outputs": [],
   "source": []
  },
  {
   "cell_type": "code",
   "execution_count": null,
   "id": "7d57793f-dd75-40e7-8833-1343db65f88f",
   "metadata": {},
   "outputs": [],
   "source": []
  },
  {
   "cell_type": "code",
   "execution_count": null,
   "id": "d3251820-4be9-4d6a-8e55-1ea252a18787",
   "metadata": {},
   "outputs": [],
   "source": []
  },
  {
   "cell_type": "code",
   "execution_count": null,
   "id": "859999cd-3eb5-4199-b774-b69dc6b194d2",
   "metadata": {},
   "outputs": [],
   "source": []
  },
  {
   "cell_type": "code",
   "execution_count": null,
   "id": "a2b7dac2-8a21-4205-9997-5bd54d24e4ba",
   "metadata": {},
   "outputs": [],
   "source": []
  },
  {
   "cell_type": "code",
   "execution_count": null,
   "id": "1406398e-eed8-4fa5-9ae3-dc63cb9cf0ee",
   "metadata": {},
   "outputs": [],
   "source": []
  },
  {
   "cell_type": "code",
   "execution_count": null,
   "id": "62880358-1b68-4af7-9592-009c6c21a1bf",
   "metadata": {},
   "outputs": [],
   "source": []
  }
 ],
 "metadata": {
  "kernelspec": {
   "display_name": "Python 3 (ipykernel)",
   "language": "python",
   "name": "python3"
  },
  "language_info": {
   "codemirror_mode": {
    "name": "ipython",
    "version": 3
   },
   "file_extension": ".py",
   "mimetype": "text/x-python",
   "name": "python",
   "nbconvert_exporter": "python",
   "pygments_lexer": "ipython3",
   "version": "3.12.4"
  }
 },
 "nbformat": 4,
 "nbformat_minor": 5
}
