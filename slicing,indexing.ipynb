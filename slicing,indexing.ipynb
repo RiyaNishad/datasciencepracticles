{
 "cells": [
  {
   "cell_type": "code",
   "execution_count": 5,
   "id": "4a240993-3be0-4718-b34d-ffdcf27884b0",
   "metadata": {},
   "outputs": [],
   "source": [
    "import numpy as np\n",
    "\n",
    "arr=np.random.randint(20,100,20)"
   ]
  },
  {
   "cell_type": "code",
   "execution_count": 7,
   "id": "b017a156-624b-44f3-9355-31c42e5b5874",
   "metadata": {},
   "outputs": [
    {
     "data": {
      "text/plain": [
       "array([97, 26, 56, 80, 85, 92, 85, 95, 76, 49, 83, 64, 94, 98, 62, 90, 24,\n",
       "       43, 55, 79])"
      ]
     },
     "execution_count": 7,
     "metadata": {},
     "output_type": "execute_result"
    }
   ],
   "source": [
    "arr"
   ]
  },
  {
   "cell_type": "code",
   "execution_count": 9,
   "id": "a9df76a8-d323-413e-8daf-ef576f335ca5",
   "metadata": {},
   "outputs": [],
   "source": [
    "#2d array\n",
    "array=np.full((2,2),5)"
   ]
  },
  {
   "cell_type": "code",
   "execution_count": 11,
   "id": "e4633d6c-21a7-4ff7-a6b5-52c37fcb87a6",
   "metadata": {},
   "outputs": [
    {
     "data": {
      "text/plain": [
       "array([[5, 5],\n",
       "       [5, 5]])"
      ]
     },
     "execution_count": 11,
     "metadata": {},
     "output_type": "execute_result"
    }
   ],
   "source": [
    "array"
   ]
  },
  {
   "cell_type": "code",
   "execution_count": 13,
   "id": "f1450f15-5a8d-4cda-8e90-1cfb3bb6245f",
   "metadata": {},
   "outputs": [],
   "source": [
    "a1=np.random.randint(0,18,(4,4))"
   ]
  },
  {
   "cell_type": "code",
   "execution_count": 15,
   "id": "1db1fe60-0120-40d3-8a4a-c04e444e2673",
   "metadata": {},
   "outputs": [
    {
     "data": {
      "text/plain": [
       "array([[ 4, 15,  7, 14],\n",
       "       [12, 14, 13, 12],\n",
       "       [ 3,  3, 11,  8],\n",
       "       [ 2,  6, 16, 14]])"
      ]
     },
     "execution_count": 15,
     "metadata": {},
     "output_type": "execute_result"
    }
   ],
   "source": [
    "a1"
   ]
  },
  {
   "cell_type": "code",
   "execution_count": 17,
   "id": "167d5077-3e31-40f0-b12d-20b54900cb46",
   "metadata": {},
   "outputs": [
    {
     "data": {
      "text/plain": [
       "array([15,  7, 14])"
      ]
     },
     "execution_count": 17,
     "metadata": {},
     "output_type": "execute_result"
    }
   ],
   "source": [
    "a1[0,1:4]\n",
    "#row ,column no.+1"
   ]
  },
  {
   "cell_type": "code",
   "execution_count": 19,
   "id": "55dd194e-e0ae-44e3-be9c-5224fd7817a3",
   "metadata": {},
   "outputs": [
    {
     "data": {
      "text/plain": [
       "15"
      ]
     },
     "execution_count": 19,
     "metadata": {},
     "output_type": "execute_result"
    }
   ],
   "source": [
    "a1[0,1]\n",
    "#row no.,column no."
   ]
  },
  {
   "cell_type": "code",
   "execution_count": 21,
   "id": "4d230457-486b-4e47-9924-5283f5de9d42",
   "metadata": {},
   "outputs": [
    {
     "data": {
      "text/plain": [
       "3"
      ]
     },
     "execution_count": 21,
     "metadata": {},
     "output_type": "execute_result"
    }
   ],
   "source": [
    "a1[2,1]"
   ]
  },
  {
   "cell_type": "code",
   "execution_count": 23,
   "id": "c0dd6bc1-05f1-44b8-9b56-3e24153560ae",
   "metadata": {},
   "outputs": [
    {
     "data": {
      "text/plain": [
       "array([15, 14,  3])"
      ]
     },
     "execution_count": 23,
     "metadata": {},
     "output_type": "execute_result"
    }
   ],
   "source": [
    "a1[0:3,1]\n"
   ]
  },
  {
   "cell_type": "code",
   "execution_count": 25,
   "id": "de4669e9-ab66-4a84-bca4-a97fdd95485e",
   "metadata": {},
   "outputs": [
    {
     "data": {
      "text/plain": [
       "array([15, 14])"
      ]
     },
     "execution_count": 25,
     "metadata": {},
     "output_type": "execute_result"
    }
   ],
   "source": [
    "a1[0:2,1]"
   ]
  },
  {
   "cell_type": "markdown",
   "id": "8426f308-64d0-444e-a251-d8448d7d74d7",
   "metadata": {},
   "source": [
    "# "
   ]
  },
  {
   "cell_type": "code",
   "execution_count": 29,
   "id": "655ae1ec-9227-41f9-9271-9b5454bd207c",
   "metadata": {},
   "outputs": [
    {
     "data": {
      "text/plain": [
       "array([14, 12,  8])"
      ]
     },
     "execution_count": 29,
     "metadata": {},
     "output_type": "execute_result"
    }
   ],
   "source": [
    "a1[0:3,3]"
   ]
  },
  {
   "cell_type": "code",
   "execution_count": 41,
   "id": "eae849bd-e038-4f33-9e7d-5882b757510c",
   "metadata": {},
   "outputs": [
    {
     "data": {
      "text/plain": [
       "array([[ 4, 15,  7],\n",
       "       [12, 14, 13],\n",
       "       [ 3,  3, 11]])"
      ]
     },
     "execution_count": 41,
     "metadata": {},
     "output_type": "execute_result"
    }
   ],
   "source": [
    "a1[0:3,0:3]"
   ]
  },
  {
   "cell_type": "code",
   "execution_count": 43,
   "id": "79767283-c8cf-4289-b4eb-ed06a187d67c",
   "metadata": {},
   "outputs": [
    {
     "data": {
      "text/plain": [
       "array([[ 8],\n",
       "       [14]])"
      ]
     },
     "execution_count": 43,
     "metadata": {},
     "output_type": "execute_result"
    }
   ],
   "source": [
    "a1[2:4,3:5]"
   ]
  },
  {
   "cell_type": "code",
   "execution_count": 45,
   "id": "c31f173c-e876-4ace-bde5-77b4bbd4d4f5",
   "metadata": {},
   "outputs": [
    {
     "data": {
      "text/plain": [
       "array([[11,  8],\n",
       "       [16, 14]])"
      ]
     },
     "execution_count": 45,
     "metadata": {},
     "output_type": "execute_result"
    }
   ],
   "source": [
    "a1[2:5,2:5]"
   ]
  },
  {
   "cell_type": "code",
   "execution_count": 47,
   "id": "ef164f6c-25da-4ad7-bed1-bf2e4fa3321a",
   "metadata": {},
   "outputs": [
    {
     "data": {
      "text/plain": [
       "array([[ 4, 15,  7, 14],\n",
       "       [12, 14, 13, 12],\n",
       "       [ 3,  3, 11,  8],\n",
       "       [ 2,  6, 16, 14]])"
      ]
     },
     "execution_count": 47,
     "metadata": {},
     "output_type": "execute_result"
    }
   ],
   "source": [
    "a1[::,::]"
   ]
  },
  {
   "cell_type": "code",
   "execution_count": 49,
   "id": "a5b4cfaa-8d5a-4292-b598-db44523e29fa",
   "metadata": {},
   "outputs": [
    {
     "data": {
      "text/plain": [
       "array([[ 2,  6, 16, 14],\n",
       "       [ 3,  3, 11,  8],\n",
       "       [12, 14, 13, 12],\n",
       "       [ 4, 15,  7, 14]])"
      ]
     },
     "execution_count": 49,
     "metadata": {},
     "output_type": "execute_result"
    }
   ],
   "source": [
    "a1[::-1,::]"
   ]
  },
  {
   "cell_type": "code",
   "execution_count": 51,
   "id": "a8089e6b-f7a2-427d-8c44-97a6f6779788",
   "metadata": {},
   "outputs": [
    {
     "data": {
      "text/plain": [
       "array([[14, 16,  6,  2],\n",
       "       [ 8, 11,  3,  3],\n",
       "       [12, 13, 14, 12],\n",
       "       [14,  7, 15,  4]])"
      ]
     },
     "execution_count": 51,
     "metadata": {},
     "output_type": "execute_result"
    }
   ],
   "source": [
    "a1[::-1,::-1]"
   ]
  },
  {
   "cell_type": "code",
   "execution_count": null,
   "id": "b0da6649-9d58-4626-a592-4cd42d985b3e",
   "metadata": {},
   "outputs": [],
   "source": []
  }
 ],
 "metadata": {
  "kernelspec": {
   "display_name": "Python 3 (ipykernel)",
   "language": "python",
   "name": "python3"
  },
  "language_info": {
   "codemirror_mode": {
    "name": "ipython",
    "version": 3
   },
   "file_extension": ".py",
   "mimetype": "text/x-python",
   "name": "python",
   "nbconvert_exporter": "python",
   "pygments_lexer": "ipython3",
   "version": "3.12.4"
  }
 },
 "nbformat": 4,
 "nbformat_minor": 5
}
