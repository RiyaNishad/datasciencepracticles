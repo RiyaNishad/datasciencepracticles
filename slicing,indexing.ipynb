{
 "cells": [
  {
   "cell_type": "code",
   "execution_count": 5,
   "id": "4a240993-3be0-4718-b34d-ffdcf27884b0",
   "metadata": {},
   "outputs": [],
   "source": [
    "import numpy as np\n",
    "\n",
    "arr=np.random.randint(20,100,20)"
   ]
  },
  {
   "cell_type": "code",
   "execution_count": 7,
   "id": "b017a156-624b-44f3-9355-31c42e5b5874",
   "metadata": {},
   "outputs": [
    {
     "data": {
      "text/plain": [
       "array([97, 26, 56, 80, 85, 92, 85, 95, 76, 49, 83, 64, 94, 98, 62, 90, 24,\n",
       "       43, 55, 79])"
      ]
     },
     "execution_count": 7,
     "metadata": {},
     "output_type": "execute_result"
    }
   ],
   "source": [
    "arr"
   ]
  },
  {
   "cell_type": "code",
   "execution_count": 9,
   "id": "a9df76a8-d323-413e-8daf-ef576f335ca5",
   "metadata": {},
   "outputs": [],
   "source": [
    "#2d array\n",
    "array=np.full((2,2),5)"
   ]
  },
  {
   "cell_type": "code",
   "execution_count": 11,
   "id": "e4633d6c-21a7-4ff7-a6b5-52c37fcb87a6",
   "metadata": {},
   "outputs": [
    {
     "data": {
      "text/plain": [
       "array([[5, 5],\n",
       "       [5, 5]])"
      ]
     },
     "execution_count": 11,
     "metadata": {},
     "output_type": "execute_result"
    }
   ],
   "source": [
    "array"
   ]
  },
  {
   "cell_type": "code",
   "execution_count": 13,
   "id": "f1450f15-5a8d-4cda-8e90-1cfb3bb6245f",
   "metadata": {},
   "outputs": [],
   "source": [
    "a1=np.random.randint(0,18,(4,4))"
   ]
  },
  {
   "cell_type": "code",
   "execution_count": 15,
   "id": "1db1fe60-0120-40d3-8a4a-c04e444e2673",
   "metadata": {},
   "outputs": [
    {
     "data": {
      "text/plain": [
       "array([[ 4, 15,  7, 14],\n",
       "       [12, 14, 13, 12],\n",
       "       [ 3,  3, 11,  8],\n",
       "       [ 2,  6, 16, 14]])"
      ]
     },
     "execution_count": 15,
     "metadata": {},
     "output_type": "execute_result"
    }
   ],
   "source": [
    "a1"
   ]
  },
  {
   "cell_type": "code",
   "execution_count": 17,
   "id": "167d5077-3e31-40f0-b12d-20b54900cb46",
   "metadata": {},
   "outputs": [
    {
     "data": {
      "text/plain": [
       "array([15,  7, 14])"
      ]
     },
     "execution_count": 17,
     "metadata": {},
     "output_type": "execute_result"
    }
   ],
   "source": [
    "a1[0,1:4]\n",
    "#row ,column no.+1"
   ]
  },
  {
   "cell_type": "code",
   "execution_count": 19,
   "id": "55dd194e-e0ae-44e3-be9c-5224fd7817a3",
   "metadata": {},
   "outputs": [
    {
     "data": {
      "text/plain": [
       "15"
      ]
     },
     "execution_count": 19,
     "metadata": {},
     "output_type": "execute_result"
    }
   ],
   "source": [
    "a1[0,1]\n",
    "#row no.,column no."
   ]
  },
  {
   "cell_type": "code",
   "execution_count": 21,
   "id": "4d230457-486b-4e47-9924-5283f5de9d42",
   "metadata": {},
   "outputs": [
    {
     "data": {
      "text/plain": [
       "3"
      ]
     },
     "execution_count": 21,
     "metadata": {},
     "output_type": "execute_result"
    }
   ],
   "source": [
    "a1[2,1]"
   ]
  },
  {
   "cell_type": "code",
   "execution_count": 23,
   "id": "c0dd6bc1-05f1-44b8-9b56-3e24153560ae",
   "metadata": {},
   "outputs": [
    {
     "data": {
      "text/plain": [
       "array([15, 14,  3])"
      ]
     },
     "execution_count": 23,
     "metadata": {},
     "output_type": "execute_result"
    }
   ],
   "source": [
    "a1[0:3,1]\n"
   ]
  },
  {
   "cell_type": "code",
   "execution_count": 25,
   "id": "de4669e9-ab66-4a84-bca4-a97fdd95485e",
   "metadata": {},
   "outputs": [
    {
     "data": {
      "text/plain": [
       "array([15, 14])"
      ]
     },
     "execution_count": 25,
     "metadata": {},
     "output_type": "execute_result"
    }
   ],
   "source": [
    "a1[0:2,1]"
   ]
  },
  {
   "cell_type": "markdown",
   "id": "8426f308-64d0-444e-a251-d8448d7d74d7",
   "metadata": {},
   "source": [
    "# "
   ]
  },
  {
   "cell_type": "code",
   "execution_count": 29,
   "id": "655ae1ec-9227-41f9-9271-9b5454bd207c",
   "metadata": {},
   "outputs": [
    {
     "data": {
      "text/plain": [
       "array([14, 12,  8])"
      ]
     },
     "execution_count": 29,
     "metadata": {},
     "output_type": "execute_result"
    }
   ],
   "source": [
    "a1[0:3,3]"
   ]
  },
  {
   "cell_type": "code",
   "execution_count": 41,
   "id": "eae849bd-e038-4f33-9e7d-5882b757510c",
   "metadata": {},
   "outputs": [
    {
     "data": {
      "text/plain": [
       "array([[ 4, 15,  7],\n",
       "       [12, 14, 13],\n",
       "       [ 3,  3, 11]])"
      ]
     },
     "execution_count": 41,
     "metadata": {},
     "output_type": "execute_result"
    }
   ],
   "source": [
    "a1[0:3,0:3]"
   ]
  },
  {
   "cell_type": "code",
   "execution_count": 43,
   "id": "79767283-c8cf-4289-b4eb-ed06a187d67c",
   "metadata": {},
   "outputs": [
    {
     "data": {
      "text/plain": [
       "array([[ 8],\n",
       "       [14]])"
      ]
     },
     "execution_count": 43,
     "metadata": {},
     "output_type": "execute_result"
    }
   ],
   "source": [
    "a1[2:4,3:5]"
   ]
  },
  {
   "cell_type": "code",
   "execution_count": 45,
   "id": "c31f173c-e876-4ace-bde5-77b4bbd4d4f5",
   "metadata": {},
   "outputs": [
    {
     "data": {
      "text/plain": [
       "array([[11,  8],\n",
       "       [16, 14]])"
      ]
     },
     "execution_count": 45,
     "metadata": {},
     "output_type": "execute_result"
    }
   ],
   "source": [
    "a1[2:5,2:5]"
   ]
  },
  {
   "cell_type": "code",
   "execution_count": 47,
   "id": "ef164f6c-25da-4ad7-bed1-bf2e4fa3321a",
   "metadata": {},
   "outputs": [
    {
     "data": {
      "text/plain": [
       "array([[ 4, 15,  7, 14],\n",
       "       [12, 14, 13, 12],\n",
       "       [ 3,  3, 11,  8],\n",
       "       [ 2,  6, 16, 14]])"
      ]
     },
     "execution_count": 47,
     "metadata": {},
     "output_type": "execute_result"
    }
   ],
   "source": [
    "a1[::,::]"
   ]
  },
  {
   "cell_type": "code",
   "execution_count": 49,
   "id": "a5b4cfaa-8d5a-4292-b598-db44523e29fa",
   "metadata": {},
   "outputs": [
    {
     "data": {
      "text/plain": [
       "array([[ 2,  6, 16, 14],\n",
       "       [ 3,  3, 11,  8],\n",
       "       [12, 14, 13, 12],\n",
       "       [ 4, 15,  7, 14]])"
      ]
     },
     "execution_count": 49,
     "metadata": {},
     "output_type": "execute_result"
    }
   ],
   "source": [
    "a1[::-1,::]"
   ]
  },
  {
   "cell_type": "code",
   "execution_count": 32,
   "id": "a8089e6b-f7a2-427d-8c44-97a6f6779788",
   "metadata": {},
   "outputs": [
    {
     "ename": "NameError",
     "evalue": "name 'a1' is not defined",
     "output_type": "error",
     "traceback": [
      "\u001b[1;31m---------------------------------------------------------------------------\u001b[0m",
      "\u001b[1;31mNameError\u001b[0m                                 Traceback (most recent call last)",
      "Cell \u001b[1;32mIn[32], line 1\u001b[0m\n\u001b[1;32m----> 1\u001b[0m a1[::\u001b[38;5;241m-\u001b[39m\u001b[38;5;241m1\u001b[39m,::\u001b[38;5;241m-\u001b[39m\u001b[38;5;241m1\u001b[39m]\n",
      "\u001b[1;31mNameError\u001b[0m: name 'a1' is not defined"
     ]
    }
   ],
   "source": [
    "a1[::-1,::-1]"
   ]
  },
  {
   "cell_type": "raw",
   "id": "9a962486-fc01-4e49-8e66-f3ce9cd88fd3",
   "metadata": {},
   "source": [
    "import numpy as np\n",
    "array1=np.arange(100,151)\n"
   ]
  },
  {
   "cell_type": "code",
   "execution_count": 28,
   "id": "0bbe2710-3d21-4ef3-b953-caa1430e2176",
   "metadata": {},
   "outputs": [],
   "source": [
    "import numpy as np"
   ]
  },
  {
   "cell_type": "code",
   "execution_count": null,
   "id": "384d7742-7d47-4d69-b389-d51ba185ce2a",
   "metadata": {},
   "outputs": [],
   "source": [
    "shallowcopy\n",
    "a1=np.random.randint(0,18,(4,4))"
   ]
  },
  {
   "cell_type": "code",
   "execution_count": 38,
   "id": "fd0a8cea-af99-4881-b689-8c30ae864e6e",
   "metadata": {},
   "outputs": [
    {
     "data": {
      "text/plain": [
       "array([[ 7,  8, 10, 13],\n",
       "       [15,  3, 12,  8],\n",
       "       [15,  5,  0, 16],\n",
       "       [ 9, 16, 12,  6]])"
      ]
     },
     "execution_count": 38,
     "metadata": {},
     "output_type": "execute_result"
    }
   ],
   "source": [
    "a1"
   ]
  },
  {
   "cell_type": "code",
   "execution_count": 40,
   "id": "29948c4e-99d1-4fb7-9e70-b312eca13c29",
   "metadata": {},
   "outputs": [
    {
     "data": {
      "text/plain": [
       "array([[ 3, 12],\n",
       "       [ 5,  0]])"
      ]
     },
     "execution_count": 40,
     "metadata": {},
     "output_type": "execute_result"
    }
   ],
   "source": [
    "a1[1:3,1:3]"
   ]
  },
  {
   "cell_type": "code",
   "execution_count": 42,
   "id": "8c98ca3c-0fdf-4e27-9974-16002611f896",
   "metadata": {},
   "outputs": [],
   "source": [
    "sa=a1[1:3,1:3]\n"
   ]
  },
  {
   "cell_type": "code",
   "execution_count": 44,
   "id": "45cf9797-444c-4cdc-8369-df515ee0f528",
   "metadata": {},
   "outputs": [
    {
     "data": {
      "text/plain": [
       "array([[ 3, 12],\n",
       "       [ 5,  0]])"
      ]
     },
     "execution_count": 44,
     "metadata": {},
     "output_type": "execute_result"
    }
   ],
   "source": [
    "sa"
   ]
  },
  {
   "cell_type": "code",
   "execution_count": 48,
   "id": "510f9e47-974b-4e1f-b3b0-59ceae613e33",
   "metadata": {},
   "outputs": [],
   "source": [
    "sa[1,1]=10"
   ]
  },
  {
   "cell_type": "code",
   "execution_count": 50,
   "id": "7ddf207c-d3c6-43f4-b73f-7cdf366002e6",
   "metadata": {},
   "outputs": [
    {
     "data": {
      "text/plain": [
       "array([[ 3, 12],\n",
       "       [ 5, 10]])"
      ]
     },
     "execution_count": 50,
     "metadata": {},
     "output_type": "execute_result"
    }
   ],
   "source": [
    "sa"
   ]
  },
  {
   "cell_type": "code",
   "execution_count": 52,
   "id": "cd8c7f7e-f93a-4332-8e1c-445da7bf6a02",
   "metadata": {},
   "outputs": [
    {
     "data": {
      "text/plain": [
       "array([[ 7,  8, 10, 13],\n",
       "       [15,  3, 12,  8],\n",
       "       [15,  5, 10, 16],\n",
       "       [ 9, 16, 12,  6]])"
      ]
     },
     "execution_count": 52,
     "metadata": {},
     "output_type": "execute_result"
    }
   ],
   "source": [
    "a1"
   ]
  },
  {
   "cell_type": "code",
   "execution_count": 56,
   "id": "fa2fd7a7-5b87-4358-bfd4-5dd7f751dcf0",
   "metadata": {},
   "outputs": [],
   "source": [
    "a1[1,1]=13"
   ]
  },
  {
   "cell_type": "code",
   "execution_count": 58,
   "id": "cefdae17-a5f2-4dde-92cf-ff36367f034e",
   "metadata": {},
   "outputs": [
    {
     "data": {
      "text/plain": [
       "array([[ 7,  8, 10, 13],\n",
       "       [15, 13, 12,  8],\n",
       "       [15,  5, 10, 16],\n",
       "       [ 9, 16, 12,  6]])"
      ]
     },
     "execution_count": 58,
     "metadata": {},
     "output_type": "execute_result"
    }
   ],
   "source": [
    "a1"
   ]
  },
  {
   "cell_type": "markdown",
   "id": "bc8376cc-ce1d-4658-b8df-5ed77a05c95d",
   "metadata": {},
   "source": [
    "Deepcopy"
   ]
  },
  {
   "cell_type": "code",
   "execution_count": 60,
   "id": "5b44f290-2ffe-48aa-8938-52efb068648c",
   "metadata": {},
   "outputs": [
    {
     "data": {
      "text/plain": [
       "array([[ 7,  8, 10, 13],\n",
       "       [15, 13, 12,  8],\n",
       "       [15,  5, 10, 16],\n",
       "       [ 9, 16, 12,  6]])"
      ]
     },
     "execution_count": 60,
     "metadata": {},
     "output_type": "execute_result"
    }
   ],
   "source": [
    "a1"
   ]
  },
  {
   "cell_type": "code",
   "execution_count": 62,
   "id": "58b34601-35c7-460f-9f10-fba20e75a646",
   "metadata": {},
   "outputs": [
    {
     "data": {
      "text/plain": [
       "array([[ 7,  8],\n",
       "       [15, 13]])"
      ]
     },
     "execution_count": 62,
     "metadata": {},
     "output_type": "execute_result"
    }
   ],
   "source": [
    "a1[:2,:2]"
   ]
  },
  {
   "cell_type": "code",
   "execution_count": 68,
   "id": "7553af6c-620f-458f-a5d9-b497304dcef7",
   "metadata": {},
   "outputs": [],
   "source": [
    "da=a1[:2,:2].copy()\n"
   ]
  },
  {
   "cell_type": "code",
   "execution_count": 70,
   "id": "803b1033-d565-4f33-9201-9044708e0c3e",
   "metadata": {},
   "outputs": [
    {
     "data": {
      "text/plain": [
       "array([[ 7,  8],\n",
       "       [15, 13]])"
      ]
     },
     "execution_count": 70,
     "metadata": {},
     "output_type": "execute_result"
    }
   ],
   "source": [
    "da"
   ]
  },
  {
   "cell_type": "code",
   "execution_count": 76,
   "id": "8ea7ba78-41e5-4755-9689-0213d2b62f94",
   "metadata": {},
   "outputs": [],
   "source": [
    "a1[0,0]=11\n"
   ]
  },
  {
   "cell_type": "code",
   "execution_count": 78,
   "id": "96beb1ea-5605-4f93-9eaa-33bb03207689",
   "metadata": {},
   "outputs": [
    {
     "data": {
      "text/plain": [
       "array([[11,  8, 10, 13],\n",
       "       [15, 13, 12,  8],\n",
       "       [15,  5, 10, 16],\n",
       "       [ 9, 16, 12,  6]])"
      ]
     },
     "execution_count": 78,
     "metadata": {},
     "output_type": "execute_result"
    }
   ],
   "source": [
    "a1"
   ]
  },
  {
   "cell_type": "code",
   "execution_count": 80,
   "id": "65f0347d-1fbd-47bc-b4cf-5d30cdf5be3a",
   "metadata": {},
   "outputs": [
    {
     "data": {
      "text/plain": [
       "array([[ 7,  8],\n",
       "       [15, 13]])"
      ]
     },
     "execution_count": 80,
     "metadata": {},
     "output_type": "execute_result"
    }
   ],
   "source": [
    "da"
   ]
  },
  {
   "cell_type": "code",
   "execution_count": 82,
   "id": "6df0b6fe-725c-42ba-89bf-5ce353e72f46",
   "metadata": {},
   "outputs": [],
   "source": [
    "da[1,1]=18"
   ]
  },
  {
   "cell_type": "code",
   "execution_count": 84,
   "id": "a16d8f39-e1eb-4689-a654-19c26e24869c",
   "metadata": {},
   "outputs": [
    {
     "data": {
      "text/plain": [
       "array([[ 7,  8],\n",
       "       [15, 18]])"
      ]
     },
     "execution_count": 84,
     "metadata": {},
     "output_type": "execute_result"
    }
   ],
   "source": [
    "da"
   ]
  },
  {
   "cell_type": "code",
   "execution_count": 86,
   "id": "334af251-4362-40ab-a4fb-2a010ecb173c",
   "metadata": {},
   "outputs": [
    {
     "data": {
      "text/plain": [
       "array([[11,  8, 10, 13],\n",
       "       [15, 13, 12,  8],\n",
       "       [15,  5, 10, 16],\n",
       "       [ 9, 16, 12,  6]])"
      ]
     },
     "execution_count": 86,
     "metadata": {},
     "output_type": "execute_result"
    }
   ],
   "source": [
    "a1"
   ]
  },
  {
   "cell_type": "code",
   "execution_count": 88,
   "id": "a4526ac7-49cc-4281-95e1-f2c73b9c46aa",
   "metadata": {},
   "outputs": [],
   "source": [
    "a=np.arange(1,5)"
   ]
  },
  {
   "cell_type": "code",
   "execution_count": 90,
   "id": "335836c2-6190-4b0a-a0a0-f451f9b15deb",
   "metadata": {},
   "outputs": [
    {
     "data": {
      "text/plain": [
       "array([1, 2, 3, 4])"
      ]
     },
     "execution_count": 90,
     "metadata": {},
     "output_type": "execute_result"
    }
   ],
   "source": [
    "a"
   ]
  },
  {
   "cell_type": "code",
   "execution_count": 102,
   "id": "f3d38ed4-8670-493a-82c4-b308fb215284",
   "metadata": {},
   "outputs": [
    {
     "data": {
      "text/plain": [
       "array([[1],\n",
       "       [2],\n",
       "       [3],\n",
       "       [4]])"
      ]
     },
     "execution_count": 102,
     "metadata": {},
     "output_type": "execute_result"
    }
   ],
   "source": [
    "a.reshape(4,1)"
   ]
  },
  {
   "cell_type": "code",
   "execution_count": 116,
   "id": "419c7dd9-17e7-4c6b-9c7b-c28ed6328454",
   "metadata": {},
   "outputs": [],
   "source": [
    "a2=a.reshape(2,2)\n"
   ]
  },
  {
   "cell_type": "code",
   "execution_count": 118,
   "id": "a8f7e57b-1dfa-4402-91c5-c262c1840dc8",
   "metadata": {},
   "outputs": [
    {
     "data": {
      "text/plain": [
       "array([[1, 2],\n",
       "       [3, 4]])"
      ]
     },
     "execution_count": 118,
     "metadata": {},
     "output_type": "execute_result"
    }
   ],
   "source": [
    "a2"
   ]
  },
  {
   "cell_type": "code",
   "execution_count": 122,
   "id": "e9015062-bf76-4775-a77d-ec2adb1a8131",
   "metadata": {},
   "outputs": [
    {
     "data": {
      "text/plain": [
       "array([[1, 2, 3, 4]])"
      ]
     },
     "execution_count": 122,
     "metadata": {},
     "output_type": "execute_result"
    }
   ],
   "source": [
    "a2.reshape(1,4)"
   ]
  },
  {
   "cell_type": "code",
   "execution_count": 128,
   "id": "eb963410-c57f-41c1-bb7b-61122a008253",
   "metadata": {},
   "outputs": [
    {
     "data": {
      "text/plain": [
       "array([1, 2, 3, 4])"
      ]
     },
     "execution_count": 128,
     "metadata": {},
     "output_type": "execute_result"
    }
   ],
   "source": [
    "a2.ravel()\n"
   ]
  },
  {
   "cell_type": "code",
   "execution_count": 130,
   "id": "f0562fa2-f90d-4ba8-b3a4-6d546ca32b48",
   "metadata": {},
   "outputs": [
    {
     "data": {
      "text/plain": [
       "array([11,  8, 10, 13, 15, 13, 12,  8, 15,  5, 10, 16,  9, 16, 12,  6])"
      ]
     },
     "execution_count": 130,
     "metadata": {},
     "output_type": "execute_result"
    }
   ],
   "source": [
    "a1.ravel()"
   ]
  },
  {
   "cell_type": "code",
   "execution_count": 132,
   "id": "0ee1634f-f18f-4f55-af0e-567bb8b279ed",
   "metadata": {},
   "outputs": [
    {
     "data": {
      "text/plain": [
       "array([11,  8, 10, 13, 15, 13, 12,  8, 15,  5, 10, 16,  9, 16, 12,  6])"
      ]
     },
     "execution_count": 132,
     "metadata": {},
     "output_type": "execute_result"
    }
   ],
   "source": [
    "a1.flatten()"
   ]
  },
  {
   "cell_type": "code",
   "execution_count": 11,
   "id": "6952a7fa-bd35-46e7-8691-86cd5e5b6b0e",
   "metadata": {},
   "outputs": [],
   "source": [
    "import numpy as np"
   ]
  },
  {
   "cell_type": "code",
   "execution_count": 15,
   "id": "b9485e4e-7dbb-4475-84d2-e0d1f46b5a6b",
   "metadata": {},
   "outputs": [],
   "source": [
    "a1=np.random.randint(0,18,(4,4))"
   ]
  },
  {
   "cell_type": "code",
   "execution_count": 21,
   "id": "de45f7f2-82b4-4eac-b791-2cc5ce4f1040",
   "metadata": {},
   "outputs": [
    {
     "data": {
      "text/plain": [
       "array([[ 6,  8,  6,  7],\n",
       "       [15, 15,  7,  9],\n",
       "       [16,  7, 16,  2],\n",
       "       [ 0, 15, 17, 16]])"
      ]
     },
     "execution_count": 21,
     "metadata": {},
     "output_type": "execute_result"
    }
   ],
   "source": [
    "a1"
   ]
  },
  {
   "cell_type": "markdown",
   "id": "8b57638c-a917-4de5-a4e2-cb8018aee884",
   "metadata": {},
   "source": [
    "concatenation of array or joining of 2 arrays"
   ]
  },
  {
   "cell_type": "code",
   "execution_count": 23,
   "id": "0da32d54-85b7-4452-b605-16a65b6b0200",
   "metadata": {},
   "outputs": [
    {
     "data": {
      "text/plain": [
       "array([[ 6,  8],\n",
       "       [15, 15]])"
      ]
     },
     "execution_count": 23,
     "metadata": {},
     "output_type": "execute_result"
    }
   ],
   "source": [
    "a1[:2,:2]"
   ]
  },
  {
   "cell_type": "code",
   "execution_count": 25,
   "id": "534241a1-c9d9-4a5b-b144-c93ac028f40a",
   "metadata": {},
   "outputs": [],
   "source": [
    "sa=a1[:2,:2]"
   ]
  },
  {
   "cell_type": "code",
   "execution_count": 28,
   "id": "33752ff7-501c-42c7-9fdf-0b300cc9354a",
   "metadata": {},
   "outputs": [
    {
     "data": {
      "text/plain": [
       "array([[ 6,  8],\n",
       "       [15, 15]])"
      ]
     },
     "execution_count": 28,
     "metadata": {},
     "output_type": "execute_result"
    }
   ],
   "source": [
    "sa"
   ]
  },
  {
   "cell_type": "code",
   "execution_count": 42,
   "id": "79955028-a350-474e-bb53-a2e01ef43579",
   "metadata": {},
   "outputs": [
    {
     "data": {
      "text/plain": [
       "array([[16]])"
      ]
     },
     "execution_count": 42,
     "metadata": {},
     "output_type": "execute_result"
    }
   ],
   "source": [
    "a1[2:3,2:3]"
   ]
  },
  {
   "cell_type": "code",
   "execution_count": null,
   "id": "eca1a490-4fe6-46fc-b9c5-57169089491d",
   "metadata": {},
   "outputs": [],
   "source": [
    "#concation in row axis=0\n",
    "#concatination in colunms asix=1"
   ]
  },
  {
   "cell_type": "code",
   "execution_count": 44,
   "id": "d387f701-4e07-40c6-88aa-f4d29cab8c53",
   "metadata": {},
   "outputs": [],
   "source": [
    "a2=a1"
   ]
  },
  {
   "cell_type": "code",
   "execution_count": 46,
   "id": "f6acf765-86b7-4248-995d-7ae07a9b025a",
   "metadata": {},
   "outputs": [
    {
     "data": {
      "text/plain": [
       "array([[ 6,  8,  6,  7],\n",
       "       [15, 15,  7,  9],\n",
       "       [16,  7, 16,  2],\n",
       "       [ 0, 15, 17, 16]])"
      ]
     },
     "execution_count": 46,
     "metadata": {},
     "output_type": "execute_result"
    }
   ],
   "source": [
    "a2"
   ]
  },
  {
   "cell_type": "code",
   "execution_count": 48,
   "id": "efb3f83c-1023-442a-af45-196e03f10e17",
   "metadata": {},
   "outputs": [
    {
     "data": {
      "text/plain": [
       "array([[ 6,  8,  6,  7],\n",
       "       [15, 15,  7,  9],\n",
       "       [16,  7, 16,  2],\n",
       "       [ 0, 15, 17, 16],\n",
       "       [ 6,  8,  6,  7],\n",
       "       [15, 15,  7,  9],\n",
       "       [16,  7, 16,  2],\n",
       "       [ 0, 15, 17, 16]])"
      ]
     },
     "execution_count": 48,
     "metadata": {},
     "output_type": "execute_result"
    }
   ],
   "source": [
    "np.concatenate([a1,a2])\n",
    "#row concate-no.of column equal"
   ]
  },
  {
   "cell_type": "code",
   "execution_count": 50,
   "id": "ca2ba462-5e00-47b2-8c50-52f715069817",
   "metadata": {},
   "outputs": [
    {
     "data": {
      "text/plain": [
       "array([[ 6,  8,  6,  7,  6,  8,  6,  7],\n",
       "       [15, 15,  7,  9, 15, 15,  7,  9],\n",
       "       [16,  7, 16,  2, 16,  7, 16,  2],\n",
       "       [ 0, 15, 17, 16,  0, 15, 17, 16]])"
      ]
     },
     "execution_count": 50,
     "metadata": {},
     "output_type": "execute_result"
    }
   ],
   "source": [
    "np.concatenate([a1,a2],axis=1)\n",
    "#column-no.of row should be equal"
   ]
  },
  {
   "cell_type": "markdown",
   "id": "06090180-5fc0-4024-86cf-d4fa7563dbff",
   "metadata": {},
   "source": [
    "Numpy assignment 1"
   ]
  },
  {
   "cell_type": "code",
   "execution_count": 1,
   "id": "8cf0b553-d5fd-4944-97df-556c38dfa6cd",
   "metadata": {},
   "outputs": [],
   "source": [
    "import numpy as np\n"
   ]
  },
  {
   "cell_type": "code",
   "execution_count": 3,
   "id": "ca6c4e4e-0ec8-4212-8c53-52cab6059656",
   "metadata": {},
   "outputs": [],
   "source": [
    "a1=np.zeros(10)\n"
   ]
  },
  {
   "cell_type": "code",
   "execution_count": 5,
   "id": "88923e41-2193-4441-a3e9-d97292d3a078",
   "metadata": {},
   "outputs": [
    {
     "data": {
      "text/plain": [
       "array([0., 0., 0., 0., 0., 0., 0., 0., 0., 0.])"
      ]
     },
     "execution_count": 5,
     "metadata": {},
     "output_type": "execute_result"
    }
   ],
   "source": [
    "a1\n"
   ]
  },
  {
   "cell_type": "code",
   "execution_count": 7,
   "id": "4e2a2a50-ed7e-4849-92fc-bbeb76b8f9ae",
   "metadata": {},
   "outputs": [],
   "source": [
    "a2=np.ones(10)\n"
   ]
  },
  {
   "cell_type": "code",
   "execution_count": 9,
   "id": "e207e818-2b83-404e-a90b-0b5d5bef95d2",
   "metadata": {},
   "outputs": [
    {
     "data": {
      "text/plain": [
       "array([1., 1., 1., 1., 1., 1., 1., 1., 1., 1.])"
      ]
     },
     "execution_count": 9,
     "metadata": {},
     "output_type": "execute_result"
    }
   ],
   "source": [
    "a2\n"
   ]
  },
  {
   "cell_type": "code",
   "execution_count": 11,
   "id": "a2649a9e-3164-46c1-80ab-4ba5bf2c1a2b",
   "metadata": {},
   "outputs": [],
   "source": [
    "a3=np.arange(10,51)"
   ]
  },
  {
   "cell_type": "code",
   "execution_count": 13,
   "id": "652d0694-ad2b-4797-93ed-86fe2a063411",
   "metadata": {},
   "outputs": [
    {
     "data": {
      "text/plain": [
       "array([10, 11, 12, 13, 14, 15, 16, 17, 18, 19, 20, 21, 22, 23, 24, 25, 26,\n",
       "       27, 28, 29, 30, 31, 32, 33, 34, 35, 36, 37, 38, 39, 40, 41, 42, 43,\n",
       "       44, 45, 46, 47, 48, 49, 50])"
      ]
     },
     "execution_count": 13,
     "metadata": {},
     "output_type": "execute_result"
    }
   ],
   "source": [
    "a3\n"
   ]
  },
  {
   "cell_type": "code",
   "execution_count": 15,
   "id": "8a55761e-f334-4d1b-b8b8-f244d01da0bd",
   "metadata": {},
   "outputs": [],
   "source": [
    "a4=np.arange(10,51,2)"
   ]
  },
  {
   "cell_type": "code",
   "execution_count": 17,
   "id": "12763256-06fe-4fa3-abca-e08b66105d66",
   "metadata": {},
   "outputs": [
    {
     "data": {
      "text/plain": [
       "array([10, 12, 14, 16, 18, 20, 22, 24, 26, 28, 30, 32, 34, 36, 38, 40, 42,\n",
       "       44, 46, 48, 50])"
      ]
     },
     "execution_count": 17,
     "metadata": {},
     "output_type": "execute_result"
    }
   ],
   "source": [
    "a4"
   ]
  },
  {
   "cell_type": "code",
   "execution_count": 19,
   "id": "53ec5a27-491f-4a67-8508-b4d5b821ed81",
   "metadata": {},
   "outputs": [],
   "source": [
    "a5=np.arange(0,9).reshape(3,3)"
   ]
  },
  {
   "cell_type": "code",
   "execution_count": 21,
   "id": "f814bbdb-4373-4b50-87c7-46516466eb37",
   "metadata": {},
   "outputs": [
    {
     "data": {
      "text/plain": [
       "array([[0, 1, 2],\n",
       "       [3, 4, 5],\n",
       "       [6, 7, 8]])"
      ]
     },
     "execution_count": 21,
     "metadata": {},
     "output_type": "execute_result"
    }
   ],
   "source": [
    "a5"
   ]
  },
  {
   "cell_type": "code",
   "execution_count": 25,
   "id": "9cec07e2-d330-4c76-8e6d-0d81d4d4c6a7",
   "metadata": {},
   "outputs": [],
   "source": [
    "a6=np.identity(3)\n"
   ]
  },
  {
   "cell_type": "code",
   "execution_count": 27,
   "id": "cb992962-8137-47e0-bb68-8dd390290a5b",
   "metadata": {},
   "outputs": [
    {
     "data": {
      "text/plain": [
       "array([[1., 0., 0.],\n",
       "       [0., 1., 0.],\n",
       "       [0., 0., 1.]])"
      ]
     },
     "execution_count": 27,
     "metadata": {},
     "output_type": "execute_result"
    }
   ],
   "source": [
    "a6"
   ]
  },
  {
   "cell_type": "code",
   "execution_count": 47,
   "id": "b0aff960-d72d-4350-857d-cb9315159a3c",
   "metadata": {},
   "outputs": [],
   "source": [
    "num=np.random.normal(0,1,1)"
   ]
  },
  {
   "cell_type": "code",
   "execution_count": 49,
   "id": "2bfd3e94-48f8-4aeb-9fc2-4a3db619dba7",
   "metadata": {},
   "outputs": [
    {
     "data": {
      "text/plain": [
       "array([1.20349142])"
      ]
     },
     "execution_count": 49,
     "metadata": {},
     "output_type": "execute_result"
    }
   ],
   "source": [
    "num"
   ]
  },
  {
   "cell_type": "code",
   "execution_count": 51,
   "id": "70d9b023-320c-4e95-9728-0efe8bd99fee",
   "metadata": {},
   "outputs": [],
   "source": [
    "num1=np.random.normal(0,1,25)\n"
   ]
  },
  {
   "cell_type": "code",
   "execution_count": 53,
   "id": "dbcc9053-c715-454e-a27f-79718658fc89",
   "metadata": {},
   "outputs": [
    {
     "data": {
      "text/plain": [
       "array([ 1.04250886e+00,  6.18415752e-02,  1.78866941e-01,  2.48558704e+00,\n",
       "        2.92770267e-01, -7.71477241e-01, -9.48381059e-01, -6.48574826e-01,\n",
       "        1.88022704e-01,  3.54619781e-01, -1.94800774e-01, -5.94691877e-01,\n",
       "       -2.17298952e-01,  1.99231441e-01, -4.14210413e-01, -2.26590862e-01,\n",
       "        4.18926643e-01, -1.61932690e-01, -1.20219177e+00, -8.45613315e-01,\n",
       "        7.97739178e-02,  1.67298151e+00,  1.06023746e+00, -2.02884702e-03,\n",
       "       -4.49219202e-02])"
      ]
     },
     "execution_count": 53,
     "metadata": {},
     "output_type": "execute_result"
    }
   ],
   "source": [
    "num1"
   ]
  },
  {
   "cell_type": "code",
   "execution_count": 55,
   "id": "8640c110-dfdd-465f-900b-8df725773e9a",
   "metadata": {},
   "outputs": [],
   "source": [
    "mat1 = np.linspace(0.01, 1, 100).reshape(10, 10)"
   ]
  },
  {
   "cell_type": "code",
   "execution_count": 57,
   "id": "c6fccb44-2485-43a2-9bab-33016d865a35",
   "metadata": {},
   "outputs": [
    {
     "data": {
      "text/plain": [
       "array([[0.01, 0.02, 0.03, 0.04, 0.05, 0.06, 0.07, 0.08, 0.09, 0.1 ],\n",
       "       [0.11, 0.12, 0.13, 0.14, 0.15, 0.16, 0.17, 0.18, 0.19, 0.2 ],\n",
       "       [0.21, 0.22, 0.23, 0.24, 0.25, 0.26, 0.27, 0.28, 0.29, 0.3 ],\n",
       "       [0.31, 0.32, 0.33, 0.34, 0.35, 0.36, 0.37, 0.38, 0.39, 0.4 ],\n",
       "       [0.41, 0.42, 0.43, 0.44, 0.45, 0.46, 0.47, 0.48, 0.49, 0.5 ],\n",
       "       [0.51, 0.52, 0.53, 0.54, 0.55, 0.56, 0.57, 0.58, 0.59, 0.6 ],\n",
       "       [0.61, 0.62, 0.63, 0.64, 0.65, 0.66, 0.67, 0.68, 0.69, 0.7 ],\n",
       "       [0.71, 0.72, 0.73, 0.74, 0.75, 0.76, 0.77, 0.78, 0.79, 0.8 ],\n",
       "       [0.81, 0.82, 0.83, 0.84, 0.85, 0.86, 0.87, 0.88, 0.89, 0.9 ],\n",
       "       [0.91, 0.92, 0.93, 0.94, 0.95, 0.96, 0.97, 0.98, 0.99, 1.  ]])"
      ]
     },
     "execution_count": 57,
     "metadata": {},
     "output_type": "execute_result"
    }
   ],
   "source": [
    "mat1"
   ]
  },
  {
   "cell_type": "code",
   "execution_count": 59,
   "id": "a8e2d30f-3296-4a24-aedd-44dc69d4d013",
   "metadata": {},
   "outputs": [],
   "source": [
    "arr=np.linspace(0,1,20)"
   ]
  },
  {
   "cell_type": "code",
   "execution_count": 61,
   "id": "440631a7-060f-4779-b129-5e1355f3cc9f",
   "metadata": {},
   "outputs": [
    {
     "data": {
      "text/plain": [
       "array([0.        , 0.05263158, 0.10526316, 0.15789474, 0.21052632,\n",
       "       0.26315789, 0.31578947, 0.36842105, 0.42105263, 0.47368421,\n",
       "       0.52631579, 0.57894737, 0.63157895, 0.68421053, 0.73684211,\n",
       "       0.78947368, 0.84210526, 0.89473684, 0.94736842, 1.        ])"
      ]
     },
     "execution_count": 61,
     "metadata": {},
     "output_type": "execute_result"
    }
   ],
   "source": [
    "arr"
   ]
  },
  {
   "cell_type": "code",
   "execution_count": 1,
   "id": "f6e67481-477f-499f-aa8c-3899adcba94a",
   "metadata": {},
   "outputs": [],
   "source": [
    "import numpy as np\n"
   ]
  },
  {
   "cell_type": "code",
   "execution_count": 3,
   "id": "9ec7d69b-b8c9-4fde-9f8c-7086bbe107b0",
   "metadata": {},
   "outputs": [],
   "source": [
    "mat=np.arange(1,26).reshape(5,5)"
   ]
  },
  {
   "cell_type": "code",
   "execution_count": 5,
   "id": "a0683a91-bbcb-4391-bdc0-4cf01215f4aa",
   "metadata": {},
   "outputs": [
    {
     "data": {
      "text/plain": [
       "array([[ 1,  2,  3,  4,  5],\n",
       "       [ 6,  7,  8,  9, 10],\n",
       "       [11, 12, 13, 14, 15],\n",
       "       [16, 17, 18, 19, 20],\n",
       "       [21, 22, 23, 24, 25]])"
      ]
     },
     "execution_count": 5,
     "metadata": {},
     "output_type": "execute_result"
    }
   ],
   "source": [
    "mat"
   ]
  },
  {
   "cell_type": "code",
   "execution_count": 7,
   "id": "250b4755-d6e0-4484-ac45-eafeffae3a0e",
   "metadata": {},
   "outputs": [
    {
     "data": {
      "text/plain": [
       "array([[12, 13, 14, 15],\n",
       "       [17, 18, 19, 20],\n",
       "       [22, 23, 24, 25]])"
      ]
     },
     "execution_count": 7,
     "metadata": {},
     "output_type": "execute_result"
    }
   ],
   "source": [
    "mat[2:,1:]"
   ]
  },
  {
   "cell_type": "code",
   "execution_count": 9,
   "id": "825bc1b1-98c0-470e-a4d9-a28be77e390e",
   "metadata": {},
   "outputs": [
    {
     "data": {
      "text/plain": [
       "20"
      ]
     },
     "execution_count": 9,
     "metadata": {},
     "output_type": "execute_result"
    }
   ],
   "source": [
    "mat[3,4]"
   ]
  },
  {
   "cell_type": "code",
   "execution_count": 11,
   "id": "c998d273-9d13-4512-b5f2-e3817b108189",
   "metadata": {},
   "outputs": [
    {
     "data": {
      "text/plain": [
       "array([ 2,  7, 12])"
      ]
     },
     "execution_count": 11,
     "metadata": {},
     "output_type": "execute_result"
    }
   ],
   "source": [
    "mat[:3,1]"
   ]
  },
  {
   "cell_type": "code",
   "execution_count": 38,
   "id": "d20cb26b-ba80-447b-93cb-eccee1b7b1fa",
   "metadata": {},
   "outputs": [
    {
     "data": {
      "text/plain": [
       "array([[21, 22, 23, 24, 25]])"
      ]
     },
     "execution_count": 38,
     "metadata": {},
     "output_type": "execute_result"
    }
   ],
   "source": [
    "mat[4:,:]"
   ]
  },
  {
   "cell_type": "code",
   "execution_count": 40,
   "id": "cfcefe72-2430-44f2-be94-603c4bf0919d",
   "metadata": {},
   "outputs": [
    {
     "data": {
      "text/plain": [
       "array([16, 17, 18, 19, 20])"
      ]
     },
     "execution_count": 40,
     "metadata": {},
     "output_type": "execute_result"
    }
   ],
   "source": [
    "mat[3,:]"
   ]
  },
  {
   "cell_type": "code",
   "execution_count": 44,
   "id": "625bced9-2086-4f99-9ac0-e1c15b0e92ad",
   "metadata": {},
   "outputs": [
    {
     "data": {
      "text/plain": [
       "array([[16, 17, 18, 19, 20],\n",
       "       [21, 22, 23, 24, 25]])"
      ]
     },
     "execution_count": 44,
     "metadata": {},
     "output_type": "execute_result"
    }
   ],
   "source": [
    "mat[3:,:]"
   ]
  },
  {
   "cell_type": "code",
   "execution_count": 57,
   "id": "5343980a-f15b-43f4-995e-a2e1eea39101",
   "metadata": {},
   "outputs": [],
   "source": [
    "s1=sum(mat)"
   ]
  },
  {
   "cell_type": "code",
   "execution_count": 59,
   "id": "7b64b766-40c3-46c5-82d3-23ef27a45935",
   "metadata": {},
   "outputs": [
    {
     "data": {
      "text/plain": [
       "array([55, 60, 65, 70, 75])"
      ]
     },
     "execution_count": 59,
     "metadata": {},
     "output_type": "execute_result"
    }
   ],
   "source": [
    "s1"
   ]
  },
  {
   "cell_type": "code",
   "execution_count": 61,
   "id": "a548f0ca-c7bd-44f0-a626-baf94f34d77c",
   "metadata": {},
   "outputs": [],
   "source": [
    "s2=np.sum(mat)"
   ]
  },
  {
   "cell_type": "code",
   "execution_count": 63,
   "id": "d2767124-31d4-40d8-8d65-cd7ca2a0a2fa",
   "metadata": {},
   "outputs": [
    {
     "data": {
      "text/plain": [
       "325"
      ]
     },
     "execution_count": 63,
     "metadata": {},
     "output_type": "execute_result"
    }
   ],
   "source": [
    "s2"
   ]
  },
  {
   "cell_type": "code",
   "execution_count": 1,
   "id": "80056a03-d03d-4d6d-a3a2-12f82418d0d1",
   "metadata": {},
   "outputs": [],
   "source": [
    "import numpy as np"
   ]
  },
  {
   "cell_type": "code",
   "execution_count": 3,
   "id": "c45c5258-0815-4ea2-af39-7cebdd53f613",
   "metadata": {},
   "outputs": [],
   "source": [
    "mat=np.arange(1,26).reshape(5,5)"
   ]
  },
  {
   "cell_type": "code",
   "execution_count": 5,
   "id": "07d6a171-9a30-4a42-9e9a-5654750a23f8",
   "metadata": {},
   "outputs": [
    {
     "data": {
      "text/plain": [
       "array([[ 1,  2,  3,  4,  5],\n",
       "       [ 6,  7,  8,  9, 10],\n",
       "       [11, 12, 13, 14, 15],\n",
       "       [16, 17, 18, 19, 20],\n",
       "       [21, 22, 23, 24, 25]])"
      ]
     },
     "execution_count": 5,
     "metadata": {},
     "output_type": "execute_result"
    }
   ],
   "source": [
    "mat"
   ]
  },
  {
   "cell_type": "code",
   "execution_count": 7,
   "id": "e4273c31-0b4d-427a-9106-bf1179301e0d",
   "metadata": {},
   "outputs": [
    {
     "data": {
      "text/plain": [
       "array([1.41421356, 1.41421356, 1.41421356, 1.41421356, 1.41421356])"
      ]
     },
     "execution_count": 7,
     "metadata": {},
     "output_type": "execute_result"
    }
   ],
   "source": [
    "np.std(mat,axis=1)"
   ]
  },
  {
   "cell_type": "code",
   "execution_count": 9,
   "id": "04b9a764-d52f-4df0-a49a-42b9fb82edd1",
   "metadata": {},
   "outputs": [
    {
     "data": {
      "text/plain": [
       "array([2., 2., 2., 2., 2.])"
      ]
     },
     "execution_count": 9,
     "metadata": {},
     "output_type": "execute_result"
    }
   ],
   "source": [
    "np.var(mat,axis=1)"
   ]
  },
  {
   "cell_type": "code",
   "execution_count": 11,
   "id": "e2671289-a979-4abd-8275-65cceac28c01",
   "metadata": {},
   "outputs": [
    {
     "data": {
      "text/plain": [
       "array([ 5, 10, 15, 20, 25])"
      ]
     },
     "execution_count": 11,
     "metadata": {},
     "output_type": "execute_result"
    }
   ],
   "source": [
    "np.max(mat,axis=1)"
   ]
  },
  {
   "cell_type": "code",
   "execution_count": 13,
   "id": "b068cdc6-3aae-4202-b1ae-0f36f3322de7",
   "metadata": {},
   "outputs": [
    {
     "data": {
      "text/plain": [
       "array([ 1,  6, 11, 16, 21])"
      ]
     },
     "execution_count": 13,
     "metadata": {},
     "output_type": "execute_result"
    }
   ],
   "source": [
    "np.min(mat,axis=1)"
   ]
  },
  {
   "cell_type": "markdown",
   "id": "747735f7-16f6-4659-92ac-414cc14007e1",
   "metadata": {},
   "source": [
    "Numpy exercise 2"
   ]
  },
  {
   "cell_type": "code",
   "execution_count": 15,
   "id": "bb84cef7-5574-489b-be5d-ad1cee77e413",
   "metadata": {},
   "outputs": [],
   "source": [
    "ar=np.array([1,2,3])"
   ]
  },
  {
   "cell_type": "code",
   "execution_count": 17,
   "id": "504f43d4-2601-41e2-8267-c7dc4fa95d76",
   "metadata": {},
   "outputs": [],
   "source": [
    "a1=np.array([[1,2,3]])"
   ]
  },
  {
   "cell_type": "code",
   "execution_count": 19,
   "id": "423204c2-680b-4dba-a11d-b64e588680bb",
   "metadata": {},
   "outputs": [
    {
     "data": {
      "text/plain": [
       "array([[1, 2, 3]])"
      ]
     },
     "execution_count": 19,
     "metadata": {},
     "output_type": "execute_result"
    }
   ],
   "source": [
    "a1"
   ]
  },
  {
   "cell_type": "code",
   "execution_count": 21,
   "id": "3bd6829a-ac75-412f-b331-340e6bbdfa77",
   "metadata": {},
   "outputs": [],
   "source": [
    "a2=np.array([[[1,2,3]]])"
   ]
  },
  {
   "cell_type": "code",
   "execution_count": 23,
   "id": "8adb12b1-b669-4515-901b-8dce0557813a",
   "metadata": {},
   "outputs": [
    {
     "data": {
      "text/plain": [
       "3"
      ]
     },
     "execution_count": 23,
     "metadata": {},
     "output_type": "execute_result"
    }
   ],
   "source": [
    "a2.ndim"
   ]
  },
  {
   "cell_type": "code",
   "execution_count": 25,
   "id": "c88b13d5-a9f1-4aec-87d4-247b844c5f0b",
   "metadata": {},
   "outputs": [
    {
     "data": {
      "text/plain": [
       "dtype('int32')"
      ]
     },
     "execution_count": 25,
     "metadata": {},
     "output_type": "execute_result"
    }
   ],
   "source": [
    "a1.dtype"
   ]
  },
  {
   "cell_type": "code",
   "execution_count": 27,
   "id": "3a107adc-c744-4f30-85db-57a2cb9e721a",
   "metadata": {},
   "outputs": [
    {
     "data": {
      "text/plain": [
       "(1, 3)"
      ]
     },
     "execution_count": 27,
     "metadata": {},
     "output_type": "execute_result"
    }
   ],
   "source": [
    "a1.shape"
   ]
  },
  {
   "cell_type": "code",
   "execution_count": 29,
   "id": "7c8261c2-d46a-4e90-85d5-3e9845704f5b",
   "metadata": {},
   "outputs": [
    {
     "data": {
      "text/plain": [
       "(1, 1, 3)"
      ]
     },
     "execution_count": 29,
     "metadata": {},
     "output_type": "execute_result"
    }
   ],
   "source": [
    "a2.shape"
   ]
  },
  {
   "cell_type": "code",
   "execution_count": 33,
   "id": "313345bc-5ec4-4f52-a670-06105e1a0df8",
   "metadata": {},
   "outputs": [
    {
     "data": {
      "text/plain": [
       "3"
      ]
     },
     "execution_count": 33,
     "metadata": {},
     "output_type": "execute_result"
    }
   ],
   "source": [
    "a2.ndim"
   ]
  },
  {
   "cell_type": "code",
   "execution_count": 35,
   "id": "1f7a1a97-c2cc-4af6-9725-740908a92d99",
   "metadata": {},
   "outputs": [],
   "source": [
    "a3=np.zeros(12)"
   ]
  },
  {
   "cell_type": "code",
   "execution_count": 37,
   "id": "505ac72b-3758-4bbc-9191-117482ca33d4",
   "metadata": {},
   "outputs": [
    {
     "data": {
      "text/plain": [
       "array([0., 0., 0., 0., 0., 0., 0., 0., 0., 0., 0., 0.])"
      ]
     },
     "execution_count": 37,
     "metadata": {},
     "output_type": "execute_result"
    }
   ],
   "source": [
    "a3"
   ]
  },
  {
   "cell_type": "code",
   "execution_count": 39,
   "id": "37d50d48-169a-41bb-a24c-a666680b245e",
   "metadata": {},
   "outputs": [],
   "source": [
    "a4= np.ones((2,2))"
   ]
  },
  {
   "cell_type": "code",
   "execution_count": 41,
   "id": "746c928d-d786-495f-ba24-454f3037d39a",
   "metadata": {},
   "outputs": [
    {
     "data": {
      "text/plain": [
       "array([[1., 1.],\n",
       "       [1., 1.]])"
      ]
     },
     "execution_count": 41,
     "metadata": {},
     "output_type": "execute_result"
    }
   ],
   "source": [
    "a4"
   ]
  },
  {
   "cell_type": "code",
   "execution_count": 45,
   "id": "fc40f21a-da6b-4ea9-9277-0a4e3006ff9b",
   "metadata": {},
   "outputs": [],
   "source": [
    "mathmarks=np.random.randint(0,101,20)"
   ]
  },
  {
   "cell_type": "code",
   "execution_count": 47,
   "id": "5d590f94-a970-45af-af4e-9129ee42d61a",
   "metadata": {},
   "outputs": [
    {
     "data": {
      "text/plain": [
       "array([ 57,  36,  18,  55,  82,  96,  72,  48,  30,   6,   1,  31,  51,\n",
       "        30,  77,  79,   5,  67,  59, 100])"
      ]
     },
     "execution_count": 47,
     "metadata": {},
     "output_type": "execute_result"
    }
   ],
   "source": [
    "mathmarks"
   ]
  },
  {
   "cell_type": "code",
   "execution_count": 49,
   "id": "7ba27057-d1dd-49c9-a022-75b40c4d9626",
   "metadata": {},
   "outputs": [
    {
     "data": {
      "text/plain": [
       "array([  1,   5,   6,  18,  30,  30,  31,  36,  48,  51,  55,  57,  59,\n",
       "        67,  72,  77,  79,  82,  96, 100])"
      ]
     },
     "execution_count": 49,
     "metadata": {},
     "output_type": "execute_result"
    }
   ],
   "source": [
    "np.sort(mathmarks)"
   ]
  },
  {
   "cell_type": "code",
   "execution_count": 53,
   "id": "aeac5391-0923-455c-9db8-64b7c82b6c64",
   "metadata": {},
   "outputs": [
    {
     "data": {
      "text/plain": [
       "array([100,  96,  82,  79,  77,  72,  67,  59,  57,  55,  51,  48,  36,\n",
       "        31,  30,  30,  18,   6,   5,   1])"
      ]
     },
     "execution_count": 53,
     "metadata": {},
     "output_type": "execute_result"
    }
   ],
   "source": [
    "np.sort(mathmarks)[::-1]"
   ]
  },
  {
   "cell_type": "code",
   "execution_count": 59,
   "id": "18a271a9-2c64-4148-8729-27653002c471",
   "metadata": {},
   "outputs": [],
   "source": [
    "x=mathmarks[2:8].copy"
   ]
  },
  {
   "cell_type": "code",
   "execution_count": 61,
   "id": "a1cef53e-5a22-49e2-9d48-9fa94a1486da",
   "metadata": {},
   "outputs": [
    {
     "data": {
      "text/plain": [
       "<function ndarray.copy>"
      ]
     },
     "execution_count": 61,
     "metadata": {},
     "output_type": "execute_result"
    }
   ],
   "source": [
    "x"
   ]
  },
  {
   "cell_type": "code",
   "execution_count": 63,
   "id": "164915a3-9eb6-4fab-8fa8-720e30095211",
   "metadata": {},
   "outputs": [],
   "source": [
    "a4=np.identity(5)"
   ]
  },
  {
   "cell_type": "code",
   "execution_count": 77,
   "id": "78adcc0c-ee98-4a47-b68f-e83a260c4e22",
   "metadata": {},
   "outputs": [
    {
     "data": {
      "text/plain": [
       "<function ndarray.ravel>"
      ]
     },
     "execution_count": 77,
     "metadata": {},
     "output_type": "execute_result"
    }
   ],
   "source": [
    "a4.ravel"
   ]
  },
  {
   "cell_type": "code",
   "execution_count": 67,
   "id": "d8575bf6-259e-4755-a497-13d08ee5437e",
   "metadata": {},
   "outputs": [
    {
     "data": {
      "text/plain": [
       "array([[1., 0., 0., 0., 0.],\n",
       "       [0., 1., 0., 0., 0.],\n",
       "       [0., 0., 1., 0., 0.],\n",
       "       [0., 0., 0., 1., 0.],\n",
       "       [0., 0., 0., 0., 1.]])"
      ]
     },
     "execution_count": 67,
     "metadata": {},
     "output_type": "execute_result"
    }
   ],
   "source": [
    "a4"
   ]
  },
  {
   "cell_type": "code",
   "execution_count": 81,
   "id": "d9b22abd-8e4a-4b32-b153-303905b1c601",
   "metadata": {},
   "outputs": [
    {
     "data": {
      "text/plain": [
       "array([1., 0., 0., 0., 0., 0., 1., 0., 0., 0., 0., 0., 1., 0., 0., 0., 0.,\n",
       "       0., 1., 0., 0., 0., 0., 0., 1.])"
      ]
     },
     "execution_count": 81,
     "metadata": {},
     "output_type": "execute_result"
    }
   ],
   "source": [
    "a4.ravel()"
   ]
  },
  {
   "cell_type": "raw",
   "id": "82d031e2-e5b3-4c01-8f2e-b00529834479",
   "metadata": {},
   "source": []
  },
  {
   "cell_type": "code",
   "execution_count": 83,
   "id": "a0d19115-12f3-42d8-8328-c5e5c8b51cec",
   "metadata": {},
   "outputs": [],
   "source": [
    "ar=np.random.randint(0,8,(3,3))"
   ]
  },
  {
   "cell_type": "code",
   "execution_count": 85,
   "id": "401004a9-5d03-415d-9185-ee469b8880d1",
   "metadata": {},
   "outputs": [
    {
     "data": {
      "text/plain": [
       "array([[1, 4, 6],\n",
       "       [6, 4, 5],\n",
       "       [0, 1, 2]])"
      ]
     },
     "execution_count": 85,
     "metadata": {},
     "output_type": "execute_result"
    }
   ],
   "source": [
    "ar"
   ]
  },
  {
   "cell_type": "code",
   "execution_count": 87,
   "id": "1cdfc4a8-170b-4d75-b216-dfeca856f3e8",
   "metadata": {},
   "outputs": [],
   "source": [
    "ar1=np.array([[1,2,3]])"
   ]
  },
  {
   "cell_type": "code",
   "execution_count": 93,
   "id": "935b8aa6-b38b-47ae-83b7-8c48b208cfdb",
   "metadata": {},
   "outputs": [],
   "source": [
    "arr=np.concatenate([ar,ar1])"
   ]
  },
  {
   "cell_type": "code",
   "execution_count": 95,
   "id": "25b62b3c-84cc-4e99-98c3-531ba8816cd4",
   "metadata": {},
   "outputs": [
    {
     "data": {
      "text/plain": [
       "[array([[1, 4, 6],\n",
       "        [6, 4, 5],\n",
       "        [0, 1, 2],\n",
       "        [1, 2, 3]])]"
      ]
     },
     "execution_count": 95,
     "metadata": {},
     "output_type": "execute_result"
    }
   ],
   "source": [
    "np.hsplit(arr,1)"
   ]
  },
  {
   "cell_type": "code",
   "execution_count": 97,
   "id": "578162da-5413-440f-9518-87ca25d67f97",
   "metadata": {},
   "outputs": [
    {
     "data": {
      "text/plain": [
       "[array([[1, 4, 6],\n",
       "        [6, 4, 5]]),\n",
       " array([[0, 1, 2],\n",
       "        [1, 2, 3]])]"
      ]
     },
     "execution_count": 97,
     "metadata": {},
     "output_type": "execute_result"
    }
   ],
   "source": [
    "np.vsplit(arr,2)"
   ]
  },
  {
   "cell_type": "code",
   "execution_count": 99,
   "id": "104bebc8-9857-4f53-bdb9-5050754a83e3",
   "metadata": {},
   "outputs": [],
   "source": [
    "a5=np.identity(4)"
   ]
  },
  {
   "cell_type": "code",
   "execution_count": 101,
   "id": "f74241ea-0ffc-4139-a82b-6efe365c9ec5",
   "metadata": {},
   "outputs": [
    {
     "data": {
      "text/plain": [
       "array([[1., 0., 0., 0.],\n",
       "       [0., 1., 0., 0.],\n",
       "       [0., 0., 1., 0.],\n",
       "       [0., 0., 0., 1.]])"
      ]
     },
     "execution_count": 101,
     "metadata": {},
     "output_type": "execute_result"
    }
   ],
   "source": [
    "a5"
   ]
  },
  {
   "cell_type": "code",
   "execution_count": 103,
   "id": "2365aff5-56be-48d9-ba01-5f8f20579581",
   "metadata": {},
   "outputs": [
    {
     "data": {
      "text/plain": [
       "array([[5., 4., 4., 4.],\n",
       "       [4., 5., 4., 4.],\n",
       "       [4., 4., 5., 4.],\n",
       "       [4., 4., 4., 5.]])"
      ]
     },
     "execution_count": 103,
     "metadata": {},
     "output_type": "execute_result"
    }
   ],
   "source": [
    "a5+4"
   ]
  },
  {
   "cell_type": "code",
   "execution_count": 107,
   "id": "be9d0521-5cff-444a-b23b-ccd0a3e0aad4",
   "metadata": {},
   "outputs": [],
   "source": [
    "a6=np.random.randint(0,26,(5,5))"
   ]
  },
  {
   "cell_type": "code",
   "execution_count": 109,
   "id": "e16e07e1-aef5-431f-8a17-d992f3f484ed",
   "metadata": {},
   "outputs": [
    {
     "data": {
      "text/plain": [
       "array([[21, 21, 10,  1, 13],\n",
       "       [14, 21, 17, 13,  0],\n",
       "       [17,  1, 11, 24,  1],\n",
       "       [ 3,  1, 20,  1, 20],\n",
       "       [ 4,  5, 23, 13, 24]])"
      ]
     },
     "execution_count": 109,
     "metadata": {},
     "output_type": "execute_result"
    }
   ],
   "source": [
    "a6"
   ]
  },
  {
   "cell_type": "code",
   "execution_count": 111,
   "id": "d335387b-1b06-4f88-b35e-1423b59fc2fd",
   "metadata": {},
   "outputs": [
    {
     "data": {
      "text/plain": [
       "array([ 3,  1, 10,  1,  0])"
      ]
     },
     "execution_count": 111,
     "metadata": {},
     "output_type": "execute_result"
    }
   ],
   "source": [
    "np.min(a6,axis=0)"
   ]
  },
  {
   "cell_type": "code",
   "execution_count": 114,
   "id": "302cbd35-0aad-4745-a66b-32b7434b79b3",
   "metadata": {},
   "outputs": [
    {
     "data": {
      "text/plain": [
       "array([21, 21, 23, 24, 24])"
      ]
     },
     "execution_count": 114,
     "metadata": {},
     "output_type": "execute_result"
    }
   ],
   "source": [
    "np.max(a6,axis=0)"
   ]
  },
  {
   "cell_type": "code",
   "execution_count": 116,
   "id": "6a36241c-f149-4dbd-85d3-7a047864dd10",
   "metadata": {},
   "outputs": [
    {
     "data": {
      "text/plain": [
       "array([50.96, 85.76, 25.36, 75.04, 94.64])"
      ]
     },
     "execution_count": 116,
     "metadata": {},
     "output_type": "execute_result"
    }
   ],
   "source": [
    "np.var(a6,axis=0)"
   ]
  },
  {
   "cell_type": "code",
   "execution_count": 118,
   "id": "d11aae83-abab-421d-831e-2eb24b3ebda3",
   "metadata": {},
   "outputs": [
    {
     "data": {
      "text/plain": [
       "array([7.13862732, 9.26066952, 5.03587132, 8.66256313, 9.72830921])"
      ]
     },
     "execution_count": 118,
     "metadata": {},
     "output_type": "execute_result"
    }
   ],
   "source": [
    "np.std(a6,axis=0)"
   ]
  },
  {
   "cell_type": "code",
   "execution_count": 120,
   "id": "c77a8cc3-c249-4e89-bcdf-4d1eb56904e5",
   "metadata": {},
   "outputs": [],
   "source": [
    "ar2=np.arange(100,151)"
   ]
  },
  {
   "cell_type": "code",
   "execution_count": 122,
   "id": "c36693a6-041e-460b-a45c-2547046e9b2e",
   "metadata": {},
   "outputs": [
    {
     "data": {
      "text/plain": [
       "array([100, 101, 102, 103, 104, 105, 106, 107, 108, 109, 110, 111, 112,\n",
       "       113, 114, 115, 116, 117, 118, 119, 120, 121, 122, 123, 124, 125,\n",
       "       126, 127, 128, 129, 130, 131, 132, 133, 134, 135, 136, 137, 138,\n",
       "       139, 140, 141, 142, 143, 144, 145, 146, 147, 148, 149, 150])"
      ]
     },
     "execution_count": 122,
     "metadata": {},
     "output_type": "execute_result"
    }
   ],
   "source": [
    "ar2"
   ]
  },
  {
   "cell_type": "code",
   "execution_count": 130,
   "id": "49518616-64bf-42c0-8ac6-d941a10c50e0",
   "metadata": {},
   "outputs": [
    {
     "data": {
      "text/plain": [
       "array([150, 149, 148, 147, 146, 145, 144, 143, 142, 141, 140, 139, 138,\n",
       "       137, 136, 135, 134, 133, 132, 131, 130, 129, 128, 127, 126, 125,\n",
       "       124, 123, 122, 121, 120, 119, 118, 117, 116, 115, 114, 113, 112,\n",
       "       111, 110, 109, 108, 107, 106, 105, 104, 103, 102, 101, 100])"
      ]
     },
     "execution_count": 130,
     "metadata": {},
     "output_type": "execute_result"
    }
   ],
   "source": [
    " ar2[::-1]"
   ]
  },
  {
   "cell_type": "code",
   "execution_count": 136,
   "id": "0aca962c-526f-4b02-afca-a1b1f4a5ea0a",
   "metadata": {},
   "outputs": [],
   "source": [
    "ar3=np.random.randint(0,25,(5,5))"
   ]
  },
  {
   "cell_type": "code",
   "execution_count": 138,
   "id": "47f463c7-92f9-41c7-8cc7-8779c9563f2b",
   "metadata": {},
   "outputs": [
    {
     "data": {
      "text/plain": [
       "array([[ 8, 18,  9,  1, 13],\n",
       "       [19, 24, 12, 15, 22],\n",
       "       [12, 16, 19,  7,  4],\n",
       "       [ 0, 21,  5,  2, 10],\n",
       "       [ 0, 12,  3, 21,  9]])"
      ]
     },
     "execution_count": 138,
     "metadata": {},
     "output_type": "execute_result"
    }
   ],
   "source": [
    "ar3"
   ]
  },
  {
   "cell_type": "code",
   "execution_count": 140,
   "id": "8c1cdb39-84d6-4373-a230-32e0cfb34b01",
   "metadata": {},
   "outputs": [],
   "source": [
    "ar4=np.ones(100).reshape(10,10)"
   ]
  },
  {
   "cell_type": "code",
   "execution_count": 143,
   "id": "58972e3e-04ec-4ef9-ad02-b2db04faa652",
   "metadata": {},
   "outputs": [
    {
     "data": {
      "text/plain": [
       "array([[1., 1., 1., 1., 1., 1., 1., 1., 1., 1.],\n",
       "       [1., 1., 1., 1., 1., 1., 1., 1., 1., 1.],\n",
       "       [1., 1., 1., 1., 1., 1., 1., 1., 1., 1.],\n",
       "       [1., 1., 1., 1., 1., 1., 1., 1., 1., 1.],\n",
       "       [1., 1., 1., 1., 1., 1., 1., 1., 1., 1.],\n",
       "       [1., 1., 1., 1., 1., 1., 1., 1., 1., 1.],\n",
       "       [1., 1., 1., 1., 1., 1., 1., 1., 1., 1.],\n",
       "       [1., 1., 1., 1., 1., 1., 1., 1., 1., 1.],\n",
       "       [1., 1., 1., 1., 1., 1., 1., 1., 1., 1.],\n",
       "       [1., 1., 1., 1., 1., 1., 1., 1., 1., 1.]])"
      ]
     },
     "execution_count": 143,
     "metadata": {},
     "output_type": "execute_result"
    }
   ],
   "source": [
    "ar4"
   ]
  },
  {
   "cell_type": "code",
   "execution_count": 145,
   "id": "dba75bb3-ba3a-4efe-838a-21fb1f2633a6",
   "metadata": {},
   "outputs": [],
   "source": [
    "ar4[1:9,1:9]=0"
   ]
  },
  {
   "cell_type": "code",
   "execution_count": 147,
   "id": "2faa90b6-c6a2-46e1-af28-c7d7c793b520",
   "metadata": {},
   "outputs": [
    {
     "data": {
      "text/plain": [
       "array([[1., 1., 1., 1., 1., 1., 1., 1., 1., 1.],\n",
       "       [1., 0., 0., 0., 0., 0., 0., 0., 0., 1.],\n",
       "       [1., 0., 0., 0., 0., 0., 0., 0., 0., 1.],\n",
       "       [1., 0., 0., 0., 0., 0., 0., 0., 0., 1.],\n",
       "       [1., 0., 0., 0., 0., 0., 0., 0., 0., 1.],\n",
       "       [1., 0., 0., 0., 0., 0., 0., 0., 0., 1.],\n",
       "       [1., 0., 0., 0., 0., 0., 0., 0., 0., 1.],\n",
       "       [1., 0., 0., 0., 0., 0., 0., 0., 0., 1.],\n",
       "       [1., 0., 0., 0., 0., 0., 0., 0., 0., 1.],\n",
       "       [1., 1., 1., 1., 1., 1., 1., 1., 1., 1.]])"
      ]
     },
     "execution_count": 147,
     "metadata": {},
     "output_type": "execute_result"
    }
   ],
   "source": [
    "ar4"
   ]
  },
  {
   "cell_type": "code",
   "execution_count": 161,
   "id": "39d867fb-87c0-4196-893f-8bfd578e2ffa",
   "metadata": {},
   "outputs": [],
   "source": [
    "ar5=np.zeros((8,8))"
   ]
  },
  {
   "cell_type": "code",
   "execution_count": 173,
   "id": "579d25dd-f085-4f63-b874-3e04840e61df",
   "metadata": {},
   "outputs": [],
   "source": [
    "ar5[1::2,::2]=1\n"
   ]
  },
  {
   "cell_type": "code",
   "execution_count": 177,
   "id": "e219c887-87d3-46ab-836d-0453d6e063b0",
   "metadata": {},
   "outputs": [],
   "source": [
    "ar5[::2,1::2]=1"
   ]
  },
  {
   "cell_type": "code",
   "execution_count": 179,
   "id": "63ee581d-fc4f-4f7c-80c4-72e577c136a2",
   "metadata": {},
   "outputs": [
    {
     "data": {
      "text/plain": [
       "array([[0., 1., 0., 1., 0., 1., 0., 1.],\n",
       "       [1., 0., 1., 0., 1., 0., 1., 0.],\n",
       "       [0., 1., 0., 1., 0., 1., 0., 1.],\n",
       "       [1., 0., 1., 0., 1., 0., 1., 0.],\n",
       "       [0., 1., 0., 1., 0., 1., 0., 1.],\n",
       "       [1., 0., 1., 0., 1., 0., 1., 0.],\n",
       "       [0., 1., 0., 1., 0., 1., 0., 1.],\n",
       "       [1., 0., 1., 0., 1., 0., 1., 0.]])"
      ]
     },
     "execution_count": 179,
     "metadata": {},
     "output_type": "execute_result"
    }
   ],
   "source": [
    "ar5"
   ]
  },
  {
   "cell_type": "code",
   "execution_count": 183,
   "id": "c093a107-1f3a-4521-8cc8-513674d65695",
   "metadata": {},
   "outputs": [],
   "source": [
    "ar6=np.random.randint(0,8,(3,3))"
   ]
  },
  {
   "cell_type": "code",
   "execution_count": 185,
   "id": "8b7c38f8-c708-48df-8d98-533d40d7e834",
   "metadata": {},
   "outputs": [],
   "source": [
    "ar7=np.random.randint(0,8,(3,3))\n"
   ]
  },
  {
   "cell_type": "code",
   "execution_count": 187,
   "id": "930384b0-0962-4fcf-991f-89871d779de4",
   "metadata": {},
   "outputs": [
    {
     "data": {
      "text/plain": [
       "array([[ 5,  7,  5],\n",
       "       [ 3,  7,  7],\n",
       "       [10, 12,  8]])"
      ]
     },
     "execution_count": 187,
     "metadata": {},
     "output_type": "execute_result"
    }
   ],
   "source": [
    "ar6+ar7"
   ]
  },
  {
   "cell_type": "code",
   "execution_count": 189,
   "id": "a099c5a8-4d13-4a57-a259-06d74b372b2b",
   "metadata": {},
   "outputs": [
    {
     "data": {
      "text/plain": [
       "array([[ 0, 10,  6],\n",
       "       [ 2,  0,  0],\n",
       "       [24, 35,  7]])"
      ]
     },
     "execution_count": 189,
     "metadata": {},
     "output_type": "execute_result"
    }
   ],
   "source": [
    "ar6*ar7"
   ]
  },
  {
   "cell_type": "code",
   "execution_count": 191,
   "id": "b5c633ea-7b45-4c4c-b0eb-1dccd31c4d80",
   "metadata": {},
   "outputs": [
    {
     "data": {
      "text/plain": [
       "array([[ 5,  3, -1],\n",
       "       [-1,  7, -7],\n",
       "       [ 2,  2, -6]])"
      ]
     },
     "execution_count": 191,
     "metadata": {},
     "output_type": "execute_result"
    }
   ],
   "source": [
    "ar6-ar7"
   ]
  },
  {
   "cell_type": "code",
   "execution_count": null,
   "id": "fd5ef973-10db-4d06-b2f9-b437e426bb78",
   "metadata": {},
   "outputs": [],
   "source": []
  },
  {
   "cell_type": "code",
   "execution_count": null,
   "id": "13b37d7d-bea1-4284-84f2-006aeb958e3a",
   "metadata": {},
   "outputs": [],
   "source": []
  },
  {
   "cell_type": "code",
   "execution_count": null,
   "id": "d503ad2d-756d-46e4-886b-a9bb9a5fae77",
   "metadata": {},
   "outputs": [],
   "source": []
  },
  {
   "cell_type": "markdown",
   "id": "54bb6f44-3ba0-4940-9adb-c24f1c137b24",
   "metadata": {},
   "source": [
    "lecture continuation"
   ]
  },
  {
   "cell_type": "code",
   "execution_count": 65,
   "id": "0b19d6ef-72c2-48a9-9385-5eab0d7b9fbe",
   "metadata": {},
   "outputs": [],
   "source": [
    "x=np.array([1,2,3])"
   ]
  },
  {
   "cell_type": "code",
   "execution_count": 67,
   "id": "de36789c-aff8-4d57-abda-4624181eb5d1",
   "metadata": {},
   "outputs": [
    {
     "data": {
      "text/plain": [
       "array([1, 2, 3])"
      ]
     },
     "execution_count": 67,
     "metadata": {},
     "output_type": "execute_result"
    }
   ],
   "source": [
    "x"
   ]
  },
  {
   "cell_type": "code",
   "execution_count": 77,
   "id": "b7697b4b-84c1-4bf4-880c-ac87969f1490",
   "metadata": {},
   "outputs": [],
   "source": [
    "y=np.array([4,5,6])"
   ]
  },
  {
   "cell_type": "code",
   "execution_count": 79,
   "id": "2d0a1691-5d2a-4b22-bef5-77e6c9fc3f71",
   "metadata": {},
   "outputs": [
    {
     "data": {
      "text/plain": [
       "array([4, 5, 6])"
      ]
     },
     "execution_count": 79,
     "metadata": {},
     "output_type": "execute_result"
    }
   ],
   "source": [
    "y"
   ]
  },
  {
   "cell_type": "code",
   "execution_count": 81,
   "id": "f4e2fab1-4317-4490-b758-b7cab36bcf61",
   "metadata": {},
   "outputs": [
    {
     "data": {
      "text/plain": [
       "array([[1, 2, 3],\n",
       "       [4, 5, 6]])"
      ]
     },
     "execution_count": 81,
     "metadata": {},
     "output_type": "execute_result"
    }
   ],
   "source": [
    "np.vstack((x,y))\n",
    "#row wise"
   ]
  },
  {
   "cell_type": "code",
   "execution_count": 83,
   "id": "123bdf9f-4614-43ee-93b1-1e8bcbe13b1b",
   "metadata": {},
   "outputs": [
    {
     "data": {
      "text/plain": [
       "array([1, 2, 3, 4, 5, 6])"
      ]
     },
     "execution_count": 83,
     "metadata": {},
     "output_type": "execute_result"
    }
   ],
   "source": [
    "np.hstack((x,y))\n",
    "#column wise"
   ]
  },
  {
   "cell_type": "code",
   "execution_count": 85,
   "id": "fddefa72-8bbd-4532-ba58-88e2385873db",
   "metadata": {},
   "outputs": [
    {
     "data": {
      "text/plain": [
       "array([1, 2, 3, 4])"
      ]
     },
     "execution_count": 85,
     "metadata": {},
     "output_type": "execute_result"
    }
   ],
   "source": [
    "np.hstack((x,[4]))"
   ]
  },
  {
   "cell_type": "code",
   "execution_count": null,
   "id": "e5422e33-f343-4f40-9252-13a5751d248b",
   "metadata": {},
   "outputs": [],
   "source": [
    "#spilting the array\n",
    "np.split\n",
    "np.vsplit\n",
    "np.hsplit\n",
    "np.dsplit  , depth split"
   ]
  },
  {
   "cell_type": "code",
   "execution_count": 91,
   "id": "5f030ed8-28f7-4317-859b-dbef93027b5a",
   "metadata": {},
   "outputs": [
    {
     "data": {
      "text/plain": [
       "[array([1]), array([2]), array([3])]"
      ]
     },
     "execution_count": 91,
     "metadata": {},
     "output_type": "execute_result"
    }
   ],
   "source": [
    "np.split(x,3)\n"
   ]
  },
  {
   "cell_type": "code",
   "execution_count": 95,
   "id": "40a79b49-1a34-44da-931b-ae370bd170d6",
   "metadata": {},
   "outputs": [
    {
     "data": {
      "text/plain": [
       "[array([1]), array([2]), array([3])]"
      ]
     },
     "execution_count": 95,
     "metadata": {},
     "output_type": "execute_result"
    }
   ],
   "source": [
    "np.hsplit(x,3)"
   ]
  },
  {
   "cell_type": "code",
   "execution_count": 103,
   "id": "c97a4d00-5060-4438-aab5-5307f722d863",
   "metadata": {},
   "outputs": [],
   "source": [
    "z=np.array([1,2,3,4,5])"
   ]
  },
  {
   "cell_type": "code",
   "execution_count": 105,
   "id": "7a533b13-2459-4613-8188-870f13a8e2bf",
   "metadata": {},
   "outputs": [
    {
     "data": {
      "text/plain": [
       "array([1, 2, 3, 4, 5])"
      ]
     },
     "execution_count": 105,
     "metadata": {},
     "output_type": "execute_result"
    }
   ],
   "source": [
    "z"
   ]
  },
  {
   "cell_type": "code",
   "execution_count": 107,
   "id": "b1d7e1f9-b178-46b1-b398-13fff305ee5e",
   "metadata": {},
   "outputs": [
    {
     "data": {
      "text/plain": [
       "[array([1, 2]), array([3]), array([4, 5])]"
      ]
     },
     "execution_count": 107,
     "metadata": {},
     "output_type": "execute_result"
    }
   ],
   "source": [
    "np.split(z,[2,3])\n",
    "#[:2],[2,3],[3:]"
   ]
  },
  {
   "cell_type": "code",
   "execution_count": 109,
   "id": "5c8f081e-3827-4b49-be9a-e1d7976b0bf5",
   "metadata": {},
   "outputs": [
    {
     "data": {
      "text/plain": [
       "[array([1]), array([2, 3, 4]), array([5])]"
      ]
     },
     "execution_count": 109,
     "metadata": {},
     "output_type": "execute_result"
    }
   ],
   "source": [
    "np.split(z,[1,4])"
   ]
  },
  {
   "cell_type": "code",
   "execution_count": 113,
   "id": "49583390-3b57-4e26-84cf-ad43cf6f2224",
   "metadata": {},
   "outputs": [
    {
     "data": {
      "text/plain": [
       "[array([1]), array([2]), array([3]), array([4]), array([5])]"
      ]
     },
     "execution_count": 113,
     "metadata": {},
     "output_type": "execute_result"
    }
   ],
   "source": [
    "np.hsplit(z,5)"
   ]
  },
  {
   "cell_type": "code",
   "execution_count": null,
   "id": "8c52a6e6-25fb-4022-a7e1-de4240e76a13",
   "metadata": {},
   "outputs": [],
   "source": [
    "universal function\n",
    "#sum\n",
    "mean\n",
    "sd\n",
    "variance\n",
    "absolute"
   ]
  },
  {
   "cell_type": "code",
   "execution_count": 115,
   "id": "af959bd7-a528-455b-ad1e-9bacebe7d632",
   "metadata": {},
   "outputs": [
    {
     "data": {
      "text/plain": [
       "5"
      ]
     },
     "execution_count": 115,
     "metadata": {},
     "output_type": "execute_result"
    }
   ],
   "source": [
    "np.abs(-5)\n",
    "#remove negative sign\n"
   ]
  },
  {
   "cell_type": "code",
   "execution_count": null,
   "id": "2ac5e2d9-d2c0-4230-8a61-3be67cfbedfe",
   "metadata": {},
   "outputs": [],
   "source": [
    "#aggregation"
   ]
  },
  {
   "cell_type": "code",
   "execution_count": 117,
   "id": "b46c795f-4774-432d-bd82-b1da14b63734",
   "metadata": {},
   "outputs": [
    {
     "data": {
      "text/plain": [
       "15"
      ]
     },
     "execution_count": 117,
     "metadata": {},
     "output_type": "execute_result"
    }
   ],
   "source": [
    "np.sum(z)"
   ]
  },
  {
   "cell_type": "code",
   "execution_count": 119,
   "id": "8f1f6a56-fdc3-4986-98f2-0f9f1465a720",
   "metadata": {},
   "outputs": [
    {
     "data": {
      "text/plain": [
       "1"
      ]
     },
     "execution_count": 119,
     "metadata": {},
     "output_type": "execute_result"
    }
   ],
   "source": [
    "np.min(z)"
   ]
  },
  {
   "cell_type": "code",
   "execution_count": 121,
   "id": "e430e473-3aca-42b8-b85d-5b8bb97b936a",
   "metadata": {},
   "outputs": [
    {
     "data": {
      "text/plain": [
       "5"
      ]
     },
     "execution_count": 121,
     "metadata": {},
     "output_type": "execute_result"
    }
   ],
   "source": [
    "np.max(z)"
   ]
  },
  {
   "cell_type": "code",
   "execution_count": 123,
   "id": "a465a3dd-2f4f-4320-8e66-183800914288",
   "metadata": {},
   "outputs": [
    {
     "data": {
      "text/plain": [
       "0"
      ]
     },
     "execution_count": 123,
     "metadata": {},
     "output_type": "execute_result"
    }
   ],
   "source": [
    "np.argmin(z)\n",
    "#gives index of min & max"
   ]
  },
  {
   "cell_type": "code",
   "execution_count": 125,
   "id": "54bdfc38-17c9-443a-acde-279c2b0066a8",
   "metadata": {},
   "outputs": [
    {
     "data": {
      "text/plain": [
       "2.0"
      ]
     },
     "execution_count": 125,
     "metadata": {},
     "output_type": "execute_result"
    }
   ],
   "source": [
    "np.var(z)"
   ]
  },
  {
   "cell_type": "code",
   "execution_count": 127,
   "id": "2c084868-271b-4d59-814c-a645257e00b6",
   "metadata": {},
   "outputs": [
    {
     "data": {
      "text/plain": [
       "1.4142135623730951"
      ]
     },
     "execution_count": 127,
     "metadata": {},
     "output_type": "execute_result"
    }
   ],
   "source": [
    "np.std(z)"
   ]
  },
  {
   "cell_type": "code",
   "execution_count": 129,
   "id": "3fafff06-c87c-4691-8e69-2050d5e5fc3c",
   "metadata": {},
   "outputs": [
    {
     "data": {
      "text/plain": [
       "120"
      ]
     },
     "execution_count": 129,
     "metadata": {},
     "output_type": "execute_result"
    }
   ],
   "source": [
    "np.product(z)"
   ]
  },
  {
   "cell_type": "code",
   "execution_count": 131,
   "id": "13ac60e7-33c7-411e-9429-0515c7ce3466",
   "metadata": {},
   "outputs": [
    {
     "data": {
      "text/plain": [
       "3.0"
      ]
     },
     "execution_count": 131,
     "metadata": {},
     "output_type": "execute_result"
    }
   ],
   "source": [
    "np.mean(z)"
   ]
  },
  {
   "cell_type": "code",
   "execution_count": 133,
   "id": "023c1852-46df-4990-8e7c-cd437d2801fb",
   "metadata": {},
   "outputs": [
    {
     "data": {
      "text/plain": [
       "3.0"
      ]
     },
     "execution_count": 133,
     "metadata": {},
     "output_type": "execute_result"
    }
   ],
   "source": [
    "np.median(z)"
   ]
  },
  {
   "cell_type": "code",
   "execution_count": 139,
   "id": "8e3f5eb3-46f6-4eae-bc6c-fc665bfeea66",
   "metadata": {},
   "outputs": [
    {
     "data": {
      "text/plain": [
       "1.08"
      ]
     },
     "execution_count": 139,
     "metadata": {},
     "output_type": "execute_result"
    }
   ],
   "source": [
    "np.percentile(z,2)\n"
   ]
  },
  {
   "cell_type": "markdown",
   "id": "de4f6465-b77a-42a2-a32e-3056d02640f9",
   "metadata": {},
   "source": [
    "pandas"
   ]
  },
  {
   "cell_type": "code",
   "execution_count": 1,
   "id": "43e961c2-e00f-4eb5-ab94-afb943e9f6e7",
   "metadata": {},
   "outputs": [],
   "source": [
    "import numpy as np"
   ]
  },
  {
   "cell_type": "code",
   "execution_count": 3,
   "id": "84f377bd-3b24-4331-8e7d-ff24d8ae4e25",
   "metadata": {},
   "outputs": [],
   "source": [
    "import pandas as pd"
   ]
  },
  {
   "cell_type": "code",
   "execution_count": 7,
   "id": "0d91f8dc-3de2-4742-a24f-ef51bd86bf6e",
   "metadata": {},
   "outputs": [],
   "source": [
    "productId= [1,2,3,4,5]"
   ]
  },
  {
   "cell_type": "code",
   "execution_count": 15,
   "id": "f8ef5592-db10-4566-a8d3-5e9ea113b1c7",
   "metadata": {},
   "outputs": [],
   "source": [
    "productname = [\"a\",\"b\",\"c\",\"d\",\"e\"]"
   ]
  },
  {
   "cell_type": "code",
   "execution_count": 19,
   "id": "434c3f75-9528-4e2c-b3eb-16888fd75d84",
   "metadata": {},
   "outputs": [],
   "source": [
    "productPrice = [100,20,320,466,78]"
   ]
  },
  {
   "cell_type": "code",
   "execution_count": 43,
   "id": "ea648e1e-28ca-4f86-934f-16940f8a1fcd",
   "metadata": {},
   "outputs": [],
   "source": [
    "df=pd.DataFrame(productId,productname)"
   ]
  },
  {
   "cell_type": "code",
   "execution_count": 35,
   "id": "7d57793f-dd75-40e7-8833-1343db65f88f",
   "metadata": {},
   "outputs": [
    {
     "data": {
      "text/html": [
       "<div>\n",
       "<style scoped>\n",
       "    .dataframe tbody tr th:only-of-type {\n",
       "        vertical-align: middle;\n",
       "    }\n",
       "\n",
       "    .dataframe tbody tr th {\n",
       "        vertical-align: top;\n",
       "    }\n",
       "\n",
       "    .dataframe thead th {\n",
       "        text-align: right;\n",
       "    }\n",
       "</style>\n",
       "<table border=\"1\" class=\"dataframe\">\n",
       "  <thead>\n",
       "    <tr style=\"text-align: right;\">\n",
       "      <th></th>\n",
       "      <th>0</th>\n",
       "    </tr>\n",
       "  </thead>\n",
       "  <tbody>\n",
       "    <tr>\n",
       "      <th>a</th>\n",
       "      <td>1</td>\n",
       "    </tr>\n",
       "    <tr>\n",
       "      <th>b</th>\n",
       "      <td>2</td>\n",
       "    </tr>\n",
       "    <tr>\n",
       "      <th>c</th>\n",
       "      <td>3</td>\n",
       "    </tr>\n",
       "    <tr>\n",
       "      <th>d</th>\n",
       "      <td>4</td>\n",
       "    </tr>\n",
       "    <tr>\n",
       "      <th>e</th>\n",
       "      <td>5</td>\n",
       "    </tr>\n",
       "  </tbody>\n",
       "</table>\n",
       "</div>"
      ],
      "text/plain": [
       "   0\n",
       "a  1\n",
       "b  2\n",
       "c  3\n",
       "d  4\n",
       "e  5"
      ]
     },
     "execution_count": 35,
     "metadata": {},
     "output_type": "execute_result"
    }
   ],
   "source": [
    "df"
   ]
  },
  {
   "cell_type": "code",
   "execution_count": 49,
   "id": "d3251820-4be9-4d6a-8e55-1ea252a18787",
   "metadata": {},
   "outputs": [],
   "source": [
    "data = {'productId': [1,2,3,4,5], 'productname' : [\"a\",\"b\",\"c\",\"d\",\"e\"], 'productPrice' : [100,20,320,466,78]}"
   ]
  },
  {
   "cell_type": "code",
   "execution_count": 51,
   "id": "859999cd-3eb5-4199-b774-b69dc6b194d2",
   "metadata": {},
   "outputs": [],
   "source": [
    "df1=pd.DataFrame(data)"
   ]
  },
  {
   "cell_type": "code",
   "execution_count": 53,
   "id": "a2b7dac2-8a21-4205-9997-5bd54d24e4ba",
   "metadata": {},
   "outputs": [
    {
     "data": {
      "text/html": [
       "<div>\n",
       "<style scoped>\n",
       "    .dataframe tbody tr th:only-of-type {\n",
       "        vertical-align: middle;\n",
       "    }\n",
       "\n",
       "    .dataframe tbody tr th {\n",
       "        vertical-align: top;\n",
       "    }\n",
       "\n",
       "    .dataframe thead th {\n",
       "        text-align: right;\n",
       "    }\n",
       "</style>\n",
       "<table border=\"1\" class=\"dataframe\">\n",
       "  <thead>\n",
       "    <tr style=\"text-align: right;\">\n",
       "      <th></th>\n",
       "      <th>productId</th>\n",
       "      <th>productname</th>\n",
       "      <th>productPrice</th>\n",
       "    </tr>\n",
       "  </thead>\n",
       "  <tbody>\n",
       "    <tr>\n",
       "      <th>0</th>\n",
       "      <td>1</td>\n",
       "      <td>a</td>\n",
       "      <td>100</td>\n",
       "    </tr>\n",
       "    <tr>\n",
       "      <th>1</th>\n",
       "      <td>2</td>\n",
       "      <td>b</td>\n",
       "      <td>20</td>\n",
       "    </tr>\n",
       "    <tr>\n",
       "      <th>2</th>\n",
       "      <td>3</td>\n",
       "      <td>c</td>\n",
       "      <td>320</td>\n",
       "    </tr>\n",
       "    <tr>\n",
       "      <th>3</th>\n",
       "      <td>4</td>\n",
       "      <td>d</td>\n",
       "      <td>466</td>\n",
       "    </tr>\n",
       "    <tr>\n",
       "      <th>4</th>\n",
       "      <td>5</td>\n",
       "      <td>e</td>\n",
       "      <td>78</td>\n",
       "    </tr>\n",
       "  </tbody>\n",
       "</table>\n",
       "</div>"
      ],
      "text/plain": [
       "   productId productname  productPrice\n",
       "0          1           a           100\n",
       "1          2           b            20\n",
       "2          3           c           320\n",
       "3          4           d           466\n",
       "4          5           e            78"
      ]
     },
     "execution_count": 53,
     "metadata": {},
     "output_type": "execute_result"
    }
   ],
   "source": [
    "df1"
   ]
  },
  {
   "cell_type": "code",
   "execution_count": 61,
   "id": "1406398e-eed8-4fa5-9ae3-dc63cb9cf0ee",
   "metadata": {},
   "outputs": [],
   "source": [
    "dict_list = df1.to_dict('records')"
   ]
  },
  {
   "cell_type": "code",
   "execution_count": 63,
   "id": "62880358-1b68-4af7-9592-009c6c21a1bf",
   "metadata": {},
   "outputs": [
    {
     "data": {
      "text/plain": [
       "[{'productId': 1, 'productname': 'a', 'productPrice': 100},\n",
       " {'productId': 2, 'productname': 'b', 'productPrice': 20},\n",
       " {'productId': 3, 'productname': 'c', 'productPrice': 320},\n",
       " {'productId': 4, 'productname': 'd', 'productPrice': 466},\n",
       " {'productId': 5, 'productname': 'e', 'productPrice': 78}]"
      ]
     },
     "execution_count": 63,
     "metadata": {},
     "output_type": "execute_result"
    }
   ],
   "source": [
    "dict_list"
   ]
  },
  {
   "cell_type": "code",
   "execution_count": 75,
   "id": "34af9c2c-e91b-4a7b-81ad-6dc795419f32",
   "metadata": {},
   "outputs": [],
   "source": [
    "df2=pd.DataFrame.from_dict(dict_list)"
   ]
  },
  {
   "cell_type": "code",
   "execution_count": 67,
   "id": "a3b561c6-c34e-4b02-a3a5-d0e8c9121a60",
   "metadata": {},
   "outputs": [
    {
     "data": {
      "text/html": [
       "<div>\n",
       "<style scoped>\n",
       "    .dataframe tbody tr th:only-of-type {\n",
       "        vertical-align: middle;\n",
       "    }\n",
       "\n",
       "    .dataframe tbody tr th {\n",
       "        vertical-align: top;\n",
       "    }\n",
       "\n",
       "    .dataframe thead th {\n",
       "        text-align: right;\n",
       "    }\n",
       "</style>\n",
       "<table border=\"1\" class=\"dataframe\">\n",
       "  <thead>\n",
       "    <tr style=\"text-align: right;\">\n",
       "      <th></th>\n",
       "      <th>productId</th>\n",
       "      <th>productname</th>\n",
       "      <th>productPrice</th>\n",
       "    </tr>\n",
       "  </thead>\n",
       "  <tbody>\n",
       "    <tr>\n",
       "      <th>0</th>\n",
       "      <td>1</td>\n",
       "      <td>a</td>\n",
       "      <td>100</td>\n",
       "    </tr>\n",
       "    <tr>\n",
       "      <th>1</th>\n",
       "      <td>2</td>\n",
       "      <td>b</td>\n",
       "      <td>20</td>\n",
       "    </tr>\n",
       "    <tr>\n",
       "      <th>2</th>\n",
       "      <td>3</td>\n",
       "      <td>c</td>\n",
       "      <td>320</td>\n",
       "    </tr>\n",
       "    <tr>\n",
       "      <th>3</th>\n",
       "      <td>4</td>\n",
       "      <td>d</td>\n",
       "      <td>466</td>\n",
       "    </tr>\n",
       "    <tr>\n",
       "      <th>4</th>\n",
       "      <td>5</td>\n",
       "      <td>e</td>\n",
       "      <td>78</td>\n",
       "    </tr>\n",
       "  </tbody>\n",
       "</table>\n",
       "</div>"
      ],
      "text/plain": [
       "   productId productname  productPrice\n",
       "0          1           a           100\n",
       "1          2           b            20\n",
       "2          3           c           320\n",
       "3          4           d           466\n",
       "4          5           e            78"
      ]
     },
     "execution_count": 67,
     "metadata": {},
     "output_type": "execute_result"
    }
   ],
   "source": [
    "df2"
   ]
  },
  {
   "cell_type": "code",
   "execution_count": 2,
   "id": "925e4afb-9ae1-4595-b70f-07c176bd30ca",
   "metadata": {},
   "outputs": [],
   "source": [
    "import numpy as np\n",
    "import pandas as pd"
   ]
  },
  {
   "cell_type": "code",
   "execution_count": 4,
   "id": "02292583-a803-4787-b024-79aa21f8987f",
   "metadata": {},
   "outputs": [],
   "source": [
    "a=[17,10,15,3]\n"
   ]
  },
  {
   "cell_type": "code",
   "execution_count": 6,
   "id": "5979f2a9-522a-409a-a20b-57ddbf186ae1",
   "metadata": {},
   "outputs": [],
   "source": [
    "arr=np.array(a)"
   ]
  },
  {
   "cell_type": "code",
   "execution_count": 8,
   "id": "d2f83bca-488f-46fa-8ec8-88f605d0b8b0",
   "metadata": {},
   "outputs": [
    {
     "data": {
      "text/plain": [
       "array([17, 10, 15,  3])"
      ]
     },
     "execution_count": 8,
     "metadata": {},
     "output_type": "execute_result"
    }
   ],
   "source": [
    "arr"
   ]
  },
  {
   "cell_type": "markdown",
   "id": "17681164-f961-43ce-bac5-57ee5eec645c",
   "metadata": {},
   "source": [
    "# "
   ]
  },
  {
   "cell_type": "code",
   "execution_count": 10,
   "id": "1e46dcc4-81a5-4408-a3d1-e80d6939ec2e",
   "metadata": {},
   "outputs": [
    {
     "data": {
      "text/plain": [
       "array([21, 14, 19,  7])"
      ]
     },
     "execution_count": 10,
     "metadata": {},
     "output_type": "execute_result"
    }
   ],
   "source": [
    "arr +4\n"
   ]
  },
  {
   "cell_type": "code",
   "execution_count": 12,
   "id": "6cc733e0-ff98-4396-98e5-4f1145219b1a",
   "metadata": {},
   "outputs": [
    {
     "data": {
      "text/plain": [
       "array([17, 10, 15,  3])"
      ]
     },
     "execution_count": 12,
     "metadata": {},
     "output_type": "execute_result"
    }
   ],
   "source": [
    "arr\n"
   ]
  },
  {
   "cell_type": "code",
   "execution_count": 48,
   "id": "485c55bf-c501-4541-bdd3-399d86c069dc",
   "metadata": {},
   "outputs": [],
   "source": [
    "a2=np.zeros((10),dtype='i')"
   ]
  },
  {
   "cell_type": "code",
   "execution_count": 46,
   "id": "13c07bb6-a7e7-42a7-b13d-d12d3695e45e",
   "metadata": {},
   "outputs": [
    {
     "data": {
      "text/plain": [
       "dtype('int32')"
      ]
     },
     "execution_count": 46,
     "metadata": {},
     "output_type": "execute_result"
    }
   ],
   "source": [
    "a2.dtype"
   ]
  },
  {
   "cell_type": "code",
   "execution_count": 52,
   "id": "9cc87c6d-6242-444d-b6f5-f169cd335e94",
   "metadata": {},
   "outputs": [],
   "source": [
    "a3=np.ones((3,7),dtype='f')"
   ]
  },
  {
   "cell_type": "code",
   "execution_count": 54,
   "id": "965744b7-0879-4ee4-9b11-50012b25ccc9",
   "metadata": {},
   "outputs": [
    {
     "data": {
      "text/plain": [
       "array([[1., 1., 1., 1., 1., 1., 1.],\n",
       "       [1., 1., 1., 1., 1., 1., 1.],\n",
       "       [1., 1., 1., 1., 1., 1., 1.]], dtype=float32)"
      ]
     },
     "execution_count": 54,
     "metadata": {},
     "output_type": "execute_result"
    }
   ],
   "source": [
    "a3"
   ]
  },
  {
   "cell_type": "code",
   "execution_count": 56,
   "id": "cec74489-ad43-46a7-b491-2feb1dc5435e",
   "metadata": {},
   "outputs": [],
   "source": [
    "a3[::]=17.15"
   ]
  },
  {
   "cell_type": "code",
   "execution_count": 58,
   "id": "bd45aaa9-8627-4814-9205-7909266efc7d",
   "metadata": {},
   "outputs": [
    {
     "data": {
      "text/plain": [
       "array([[17.15, 17.15, 17.15, 17.15, 17.15, 17.15, 17.15],\n",
       "       [17.15, 17.15, 17.15, 17.15, 17.15, 17.15, 17.15],\n",
       "       [17.15, 17.15, 17.15, 17.15, 17.15, 17.15, 17.15]], dtype=float32)"
      ]
     },
     "execution_count": 58,
     "metadata": {},
     "output_type": "execute_result"
    }
   ],
   "source": [
    "a3"
   ]
  },
  {
   "cell_type": "markdown",
   "id": "6bd0118e-056d-48bc-b7cd-ae3f1842192f",
   "metadata": {},
   "source": [
    "#### "
   ]
  },
  {
   "cell_type": "code",
   "execution_count": 74,
   "id": "b25c6222-562f-4679-914d-f5b9ca6cd0b3",
   "metadata": {},
   "outputs": [],
   "source": [
    "a4=np.linspace(0,14,3)"
   ]
  },
  {
   "cell_type": "code",
   "execution_count": 72,
   "id": "cfaff963-493c-41c4-bf50-1fc818d9a645",
   "metadata": {},
   "outputs": [
    {
     "data": {
      "text/plain": [
       "array([ 0, 14,  3])"
      ]
     },
     "execution_count": 72,
     "metadata": {},
     "output_type": "execute_result"
    }
   ],
   "source": [
    "a4"
   ]
  },
  {
   "cell_type": "code",
   "execution_count": 76,
   "id": "9116f48b-142a-47a4-b0b7-36ee3059049e",
   "metadata": {},
   "outputs": [],
   "source": [
    "a5=np.linspace(0,15,3)"
   ]
  },
  {
   "cell_type": "code",
   "execution_count": 78,
   "id": "669df043-56f6-4452-8f35-50ba52a46ce6",
   "metadata": {},
   "outputs": [
    {
     "data": {
      "text/plain": [
       "array([ 0. ,  7.5, 15. ])"
      ]
     },
     "execution_count": 78,
     "metadata": {},
     "output_type": "execute_result"
    }
   ],
   "source": [
    "a5"
   ]
  },
  {
   "cell_type": "code",
   "execution_count": 110,
   "id": "4b1b15f7-05f3-461e-b7d5-ab913338bfb0",
   "metadata": {},
   "outputs": [],
   "source": [
    "a6 = np.random.random((3,2))"
   ]
  },
  {
   "cell_type": "code",
   "execution_count": 112,
   "id": "d5a6cb62-ab7d-4ea4-b75a-79619a857b32",
   "metadata": {},
   "outputs": [
    {
     "data": {
      "text/plain": [
       "array([[0.31250447, 0.52131891],\n",
       "       [0.39881444, 0.99096579],\n",
       "       [0.2743759 , 0.29998888]])"
      ]
     },
     "execution_count": 112,
     "metadata": {},
     "output_type": "execute_result"
    }
   ],
   "source": [
    "a6"
   ]
  },
  {
   "cell_type": "code",
   "execution_count": 136,
   "id": "54fcf962-50f1-4936-8575-da8e441088f4",
   "metadata": {},
   "outputs": [],
   "source": [
    "a7=np.random.normal(4,4)"
   ]
  },
  {
   "cell_type": "code",
   "execution_count": 138,
   "id": "87b30c05-ff00-4e83-a10d-1b8ff5671a41",
   "metadata": {},
   "outputs": [
    {
     "data": {
      "text/plain": [
       "7.356188335751705"
      ]
     },
     "execution_count": 138,
     "metadata": {},
     "output_type": "execute_result"
    }
   ],
   "source": [
    "a7"
   ]
  },
  {
   "cell_type": "markdown",
   "id": "985efb9f-ad3c-48d7-90cb-b49344eeed29",
   "metadata": {},
   "source": [
    "PANDAS"
   ]
  },
  {
   "cell_type": "code",
   "execution_count": 3,
   "id": "9c082daf-8e21-48fa-bda8-a25601630d96",
   "metadata": {},
   "outputs": [],
   "source": [
    "import numpy as np\n",
    "import pandas as pd"
   ]
  },
  {
   "cell_type": "code",
   "execution_count": 5,
   "id": "3a4548f2-a1f4-4d33-8657-d218ff2e0be2",
   "metadata": {},
   "outputs": [],
   "source": [
    "s=(1,2,3,4,5)"
   ]
  },
  {
   "cell_type": "code",
   "execution_count": 11,
   "id": "5c91d100-1917-411c-9841-1cec4c7c912c",
   "metadata": {},
   "outputs": [],
   "source": [
    "df=pd.DataFrame(s)"
   ]
  },
  {
   "cell_type": "code",
   "execution_count": 13,
   "id": "ff383bcf-abd8-4931-a148-2d8c51ee8da9",
   "metadata": {},
   "outputs": [],
   "source": [
    "rng=np.random.RandomState(42)"
   ]
  },
  {
   "cell_type": "code",
   "execution_count": 17,
   "id": "a6627632-104a-489e-ba94-56dcbc6b4190",
   "metadata": {},
   "outputs": [],
   "source": [
    "ser=pd.Series(rng.randint(0,10,4))"
   ]
  },
  {
   "cell_type": "code",
   "execution_count": 19,
   "id": "d70db2f4-b43f-4d61-b291-8824194edbc2",
   "metadata": {},
   "outputs": [
    {
     "data": {
      "text/plain": [
       "0    6\n",
       "1    3\n",
       "2    7\n",
       "3    4\n",
       "dtype: int32"
      ]
     },
     "execution_count": 19,
     "metadata": {},
     "output_type": "execute_result"
    }
   ],
   "source": [
    "ser"
   ]
  },
  {
   "cell_type": "code",
   "execution_count": 21,
   "id": "9544d91e-34d0-45b9-a8e7-c23a218b4d87",
   "metadata": {},
   "outputs": [],
   "source": [
    "df=pd.DataFrame(rng.randint(0,10,(3,4)),columns=['A','B','C','D,'])\n"
   ]
  },
  {
   "cell_type": "code",
   "execution_count": 23,
   "id": "92f33da8-e81e-46ce-9eb8-0767e28b6d2c",
   "metadata": {},
   "outputs": [
    {
     "data": {
      "text/html": [
       "<div>\n",
       "<style scoped>\n",
       "    .dataframe tbody tr th:only-of-type {\n",
       "        vertical-align: middle;\n",
       "    }\n",
       "\n",
       "    .dataframe tbody tr th {\n",
       "        vertical-align: top;\n",
       "    }\n",
       "\n",
       "    .dataframe thead th {\n",
       "        text-align: right;\n",
       "    }\n",
       "</style>\n",
       "<table border=\"1\" class=\"dataframe\">\n",
       "  <thead>\n",
       "    <tr style=\"text-align: right;\">\n",
       "      <th></th>\n",
       "      <th>A</th>\n",
       "      <th>B</th>\n",
       "      <th>C</th>\n",
       "      <th>D,</th>\n",
       "    </tr>\n",
       "  </thead>\n",
       "  <tbody>\n",
       "    <tr>\n",
       "      <th>0</th>\n",
       "      <td>6</td>\n",
       "      <td>9</td>\n",
       "      <td>2</td>\n",
       "      <td>6</td>\n",
       "    </tr>\n",
       "    <tr>\n",
       "      <th>1</th>\n",
       "      <td>7</td>\n",
       "      <td>4</td>\n",
       "      <td>3</td>\n",
       "      <td>7</td>\n",
       "    </tr>\n",
       "    <tr>\n",
       "      <th>2</th>\n",
       "      <td>7</td>\n",
       "      <td>2</td>\n",
       "      <td>5</td>\n",
       "      <td>4</td>\n",
       "    </tr>\n",
       "  </tbody>\n",
       "</table>\n",
       "</div>"
      ],
      "text/plain": [
       "   A  B  C  D,\n",
       "0  6  9  2   6\n",
       "1  7  4  3   7\n",
       "2  7  2  5   4"
      ]
     },
     "execution_count": 23,
     "metadata": {},
     "output_type": "execute_result"
    }
   ],
   "source": [
    "df"
   ]
  },
  {
   "cell_type": "code",
   "execution_count": 25,
   "id": "949cc56c-c946-4684-bc41-35e081cbeaca",
   "metadata": {},
   "outputs": [
    {
     "data": {
      "text/plain": [
       "0     403.428793\n",
       "1      20.085537\n",
       "2    1096.633158\n",
       "3      54.598150\n",
       "dtype: float64"
      ]
     },
     "execution_count": 25,
     "metadata": {},
     "output_type": "execute_result"
    }
   ],
   "source": [
    "np.exp(ser)"
   ]
  },
  {
   "cell_type": "code",
   "execution_count": 27,
   "id": "b9038928-cdb4-4fff-b4eb-1ab3893343ab",
   "metadata": {},
   "outputs": [
    {
     "data": {
      "text/html": [
       "<div>\n",
       "<style scoped>\n",
       "    .dataframe tbody tr th:only-of-type {\n",
       "        vertical-align: middle;\n",
       "    }\n",
       "\n",
       "    .dataframe tbody tr th {\n",
       "        vertical-align: top;\n",
       "    }\n",
       "\n",
       "    .dataframe thead th {\n",
       "        text-align: right;\n",
       "    }\n",
       "</style>\n",
       "<table border=\"1\" class=\"dataframe\">\n",
       "  <thead>\n",
       "    <tr style=\"text-align: right;\">\n",
       "      <th></th>\n",
       "      <th>A</th>\n",
       "      <th>B</th>\n",
       "      <th>C</th>\n",
       "      <th>D,</th>\n",
       "    </tr>\n",
       "  </thead>\n",
       "  <tbody>\n",
       "    <tr>\n",
       "      <th>0</th>\n",
       "      <td>-1.000000</td>\n",
       "      <td>7.071068e-01</td>\n",
       "      <td>1.000000</td>\n",
       "      <td>-1.000000e+00</td>\n",
       "    </tr>\n",
       "    <tr>\n",
       "      <th>1</th>\n",
       "      <td>-0.707107</td>\n",
       "      <td>1.224647e-16</td>\n",
       "      <td>0.707107</td>\n",
       "      <td>-7.071068e-01</td>\n",
       "    </tr>\n",
       "    <tr>\n",
       "      <th>2</th>\n",
       "      <td>-0.707107</td>\n",
       "      <td>1.000000e+00</td>\n",
       "      <td>-0.707107</td>\n",
       "      <td>1.224647e-16</td>\n",
       "    </tr>\n",
       "  </tbody>\n",
       "</table>\n",
       "</div>"
      ],
      "text/plain": [
       "          A             B         C            D,\n",
       "0 -1.000000  7.071068e-01  1.000000 -1.000000e+00\n",
       "1 -0.707107  1.224647e-16  0.707107 -7.071068e-01\n",
       "2 -0.707107  1.000000e+00 -0.707107  1.224647e-16"
      ]
     },
     "execution_count": 27,
     "metadata": {},
     "output_type": "execute_result"
    }
   ],
   "source": [
    "np.sin(df*np.pi/4)"
   ]
  },
  {
   "cell_type": "code",
   "execution_count": 29,
   "id": "a2af0873-c372-46e0-9ef8-1bafb152c255",
   "metadata": {},
   "outputs": [],
   "source": [
    "area=pd.Series({'Uttar Pradesh':243286,'Maharashtra':307713,'Bihar':104988},name='Area')"
   ]
  },
  {
   "cell_type": "code",
   "execution_count": 33,
   "id": "807e22dd-4d2d-4b6a-9330-a0a8b1340ae0",
   "metadata": {},
   "outputs": [],
   "source": [
    "Pop=pd.Series({'West Bengal':54615521,'Maharashtra':12555465,'Bihar':26555422},name='Pop')"
   ]
  },
  {
   "cell_type": "code",
   "execution_count": 35,
   "id": "a80604a2-171f-4f1f-8eb7-61aa85c3aa0c",
   "metadata": {},
   "outputs": [],
   "source": [
    "Population_density=Pop/area"
   ]
  },
  {
   "cell_type": "code",
   "execution_count": 37,
   "id": "a0fa1bbc-4523-4dcf-9a61-95eb8ccc2d4a",
   "metadata": {},
   "outputs": [
    {
     "data": {
      "text/plain": [
       "Bihar            252.937688\n",
       "Maharashtra       40.802517\n",
       "Uttar Pradesh           NaN\n",
       "West Bengal             NaN\n",
       "dtype: float64"
      ]
     },
     "execution_count": 37,
     "metadata": {},
     "output_type": "execute_result"
    }
   ],
   "source": [
    "Population_density"
   ]
  },
  {
   "cell_type": "code",
   "execution_count": 53,
   "id": "4dfb630e-bcbc-4255-9587-36b0141dc908",
   "metadata": {},
   "outputs": [],
   "source": [
    "A=pd.Series([2,4,6], index=[0,1,2])"
   ]
  },
  {
   "cell_type": "code",
   "execution_count": 55,
   "id": "ab422d9a-dd62-4bce-95f7-9e5d7ff0bb3a",
   "metadata": {},
   "outputs": [],
   "source": [
    "B=pd.Series([1,3,5], index=[1,2,3])"
   ]
  },
  {
   "cell_type": "code",
   "execution_count": 57,
   "id": "bf8b577c-ba28-4ee3-b756-3303bbfa8e2f",
   "metadata": {},
   "outputs": [
    {
     "data": {
      "text/plain": [
       "0    NaN\n",
       "1    5.0\n",
       "2    9.0\n",
       "3    NaN\n",
       "dtype: float64"
      ]
     },
     "execution_count": 57,
     "metadata": {},
     "output_type": "execute_result"
    }
   ],
   "source": [
    "A+B"
   ]
  },
  {
   "cell_type": "code",
   "execution_count": 65,
   "id": "796cf789-4ddd-49ee-90e0-2270117568e7",
   "metadata": {},
   "outputs": [
    {
     "data": {
      "text/plain": [
       "0    2.0\n",
       "1    5.0\n",
       "2    9.0\n",
       "3    5.0\n",
       "dtype: float64"
      ]
     },
     "execution_count": 65,
     "metadata": {},
     "output_type": "execute_result"
    }
   ],
   "source": [
    "A.add(B,fill_value=0)"
   ]
  },
  {
   "cell_type": "code",
   "execution_count": 67,
   "id": "d0d8cb90-f6ec-470f-894c-c288a07eaa95",
   "metadata": {},
   "outputs": [],
   "source": [
    "A=pd.DataFrame(rng.randint(0,15,(2,2)),columns=list('AB'))"
   ]
  },
  {
   "cell_type": "code",
   "execution_count": 77,
   "id": "9cd082cd-2814-48ac-8534-877dae00a570",
   "metadata": {},
   "outputs": [
    {
     "data": {
      "text/html": [
       "<div>\n",
       "<style scoped>\n",
       "    .dataframe tbody tr th:only-of-type {\n",
       "        vertical-align: middle;\n",
       "    }\n",
       "\n",
       "    .dataframe tbody tr th {\n",
       "        vertical-align: top;\n",
       "    }\n",
       "\n",
       "    .dataframe thead th {\n",
       "        text-align: right;\n",
       "    }\n",
       "</style>\n",
       "<table border=\"1\" class=\"dataframe\">\n",
       "  <thead>\n",
       "    <tr style=\"text-align: right;\">\n",
       "      <th></th>\n",
       "      <th>A</th>\n",
       "      <th>B</th>\n",
       "    </tr>\n",
       "  </thead>\n",
       "  <tbody>\n",
       "    <tr>\n",
       "      <th>0</th>\n",
       "      <td>1</td>\n",
       "      <td>7</td>\n",
       "    </tr>\n",
       "    <tr>\n",
       "      <th>1</th>\n",
       "      <td>11</td>\n",
       "      <td>13</td>\n",
       "    </tr>\n",
       "  </tbody>\n",
       "</table>\n",
       "</div>"
      ],
      "text/plain": [
       "    A   B\n",
       "0   1   7\n",
       "1  11  13"
      ]
     },
     "execution_count": 77,
     "metadata": {},
     "output_type": "execute_result"
    }
   ],
   "source": [
    "A"
   ]
  },
  {
   "cell_type": "code",
   "execution_count": 69,
   "id": "a75f894a-09df-4c9c-ab0b-0f215beefcae",
   "metadata": {},
   "outputs": [],
   "source": [
    "B=pd.DataFrame(rng.randint(0,10,(3,3)),columns=list('BAC'))"
   ]
  },
  {
   "cell_type": "code",
   "execution_count": 79,
   "id": "1018c041-a41e-4199-abfb-b3482b7af2cd",
   "metadata": {},
   "outputs": [
    {
     "data": {
      "text/html": [
       "<div>\n",
       "<style scoped>\n",
       "    .dataframe tbody tr th:only-of-type {\n",
       "        vertical-align: middle;\n",
       "    }\n",
       "\n",
       "    .dataframe tbody tr th {\n",
       "        vertical-align: top;\n",
       "    }\n",
       "\n",
       "    .dataframe thead th {\n",
       "        text-align: right;\n",
       "    }\n",
       "</style>\n",
       "<table border=\"1\" class=\"dataframe\">\n",
       "  <thead>\n",
       "    <tr style=\"text-align: right;\">\n",
       "      <th></th>\n",
       "      <th>B</th>\n",
       "      <th>A</th>\n",
       "      <th>C</th>\n",
       "    </tr>\n",
       "  </thead>\n",
       "  <tbody>\n",
       "    <tr>\n",
       "      <th>0</th>\n",
       "      <td>5</td>\n",
       "      <td>1</td>\n",
       "      <td>4</td>\n",
       "    </tr>\n",
       "    <tr>\n",
       "      <th>1</th>\n",
       "      <td>0</td>\n",
       "      <td>9</td>\n",
       "      <td>5</td>\n",
       "    </tr>\n",
       "    <tr>\n",
       "      <th>2</th>\n",
       "      <td>8</td>\n",
       "      <td>0</td>\n",
       "      <td>9</td>\n",
       "    </tr>\n",
       "  </tbody>\n",
       "</table>\n",
       "</div>"
      ],
      "text/plain": [
       "   B  A  C\n",
       "0  5  1  4\n",
       "1  0  9  5\n",
       "2  8  0  9"
      ]
     },
     "execution_count": 79,
     "metadata": {},
     "output_type": "execute_result"
    }
   ],
   "source": [
    "B"
   ]
  },
  {
   "cell_type": "code",
   "execution_count": 71,
   "id": "17353def-4b4d-4aea-95e4-7ce632497e17",
   "metadata": {},
   "outputs": [
    {
     "data": {
      "text/html": [
       "<div>\n",
       "<style scoped>\n",
       "    .dataframe tbody tr th:only-of-type {\n",
       "        vertical-align: middle;\n",
       "    }\n",
       "\n",
       "    .dataframe tbody tr th {\n",
       "        vertical-align: top;\n",
       "    }\n",
       "\n",
       "    .dataframe thead th {\n",
       "        text-align: right;\n",
       "    }\n",
       "</style>\n",
       "<table border=\"1\" class=\"dataframe\">\n",
       "  <thead>\n",
       "    <tr style=\"text-align: right;\">\n",
       "      <th></th>\n",
       "      <th>A</th>\n",
       "      <th>B</th>\n",
       "      <th>C</th>\n",
       "    </tr>\n",
       "  </thead>\n",
       "  <tbody>\n",
       "    <tr>\n",
       "      <th>0</th>\n",
       "      <td>2.0</td>\n",
       "      <td>12.0</td>\n",
       "      <td>NaN</td>\n",
       "    </tr>\n",
       "    <tr>\n",
       "      <th>1</th>\n",
       "      <td>20.0</td>\n",
       "      <td>13.0</td>\n",
       "      <td>NaN</td>\n",
       "    </tr>\n",
       "    <tr>\n",
       "      <th>2</th>\n",
       "      <td>NaN</td>\n",
       "      <td>NaN</td>\n",
       "      <td>NaN</td>\n",
       "    </tr>\n",
       "  </tbody>\n",
       "</table>\n",
       "</div>"
      ],
      "text/plain": [
       "      A     B   C\n",
       "0   2.0  12.0 NaN\n",
       "1  20.0  13.0 NaN\n",
       "2   NaN   NaN NaN"
      ]
     },
     "execution_count": 71,
     "metadata": {},
     "output_type": "execute_result"
    }
   ],
   "source": [
    "A+B"
   ]
  },
  {
   "cell_type": "code",
   "execution_count": 73,
   "id": "9be1902a-4938-420f-816c-cf248f866d27",
   "metadata": {},
   "outputs": [],
   "source": [
    "fill = A.stack().mean()"
   ]
  },
  {
   "cell_type": "code",
   "execution_count": 75,
   "id": "9c15d88e-78c6-4dc0-b840-b73d0419baa5",
   "metadata": {},
   "outputs": [
    {
     "data": {
      "text/html": [
       "<div>\n",
       "<style scoped>\n",
       "    .dataframe tbody tr th:only-of-type {\n",
       "        vertical-align: middle;\n",
       "    }\n",
       "\n",
       "    .dataframe tbody tr th {\n",
       "        vertical-align: top;\n",
       "    }\n",
       "\n",
       "    .dataframe thead th {\n",
       "        text-align: right;\n",
       "    }\n",
       "</style>\n",
       "<table border=\"1\" class=\"dataframe\">\n",
       "  <thead>\n",
       "    <tr style=\"text-align: right;\">\n",
       "      <th></th>\n",
       "      <th>A</th>\n",
       "      <th>B</th>\n",
       "      <th>C</th>\n",
       "    </tr>\n",
       "  </thead>\n",
       "  <tbody>\n",
       "    <tr>\n",
       "      <th>0</th>\n",
       "      <td>2.0</td>\n",
       "      <td>12.0</td>\n",
       "      <td>12.0</td>\n",
       "    </tr>\n",
       "    <tr>\n",
       "      <th>1</th>\n",
       "      <td>20.0</td>\n",
       "      <td>13.0</td>\n",
       "      <td>13.0</td>\n",
       "    </tr>\n",
       "    <tr>\n",
       "      <th>2</th>\n",
       "      <td>8.0</td>\n",
       "      <td>16.0</td>\n",
       "      <td>17.0</td>\n",
       "    </tr>\n",
       "  </tbody>\n",
       "</table>\n",
       "</div>"
      ],
      "text/plain": [
       "      A     B     C\n",
       "0   2.0  12.0  12.0\n",
       "1  20.0  13.0  13.0\n",
       "2   8.0  16.0  17.0"
      ]
     },
     "execution_count": 75,
     "metadata": {},
     "output_type": "execute_result"
    }
   ],
   "source": [
    "A.add(B,fill_value=fill)"
   ]
  },
  {
   "cell_type": "code",
   "execution_count": 81,
   "id": "1c9c9232-ebe2-414d-ae89-ba3db964bfdd",
   "metadata": {},
   "outputs": [],
   "source": [
    "A=np.random.randint(10,size=(3,4))"
   ]
  },
  {
   "cell_type": "code",
   "execution_count": 83,
   "id": "5e88f3ff-6a0b-4ec1-aa44-ec30042bad0d",
   "metadata": {},
   "outputs": [
    {
     "data": {
      "text/plain": [
       "array([[5, 7, 3, 8],\n",
       "       [1, 1, 2, 5],\n",
       "       [0, 1, 8, 1]])"
      ]
     },
     "execution_count": 83,
     "metadata": {},
     "output_type": "execute_result"
    }
   ],
   "source": [
    "A"
   ]
  },
  {
   "cell_type": "code",
   "execution_count": 85,
   "id": "dec9e630-e45c-4d63-833c-414b40099029",
   "metadata": {},
   "outputs": [
    {
     "data": {
      "text/plain": [
       "array([[ 0,  0,  0,  0],\n",
       "       [-4, -6, -1, -3],\n",
       "       [-5, -6,  5, -7]])"
      ]
     },
     "execution_count": 85,
     "metadata": {},
     "output_type": "execute_result"
    }
   ],
   "source": [
    "A-A[0]"
   ]
  },
  {
   "cell_type": "code",
   "execution_count": 89,
   "id": "57062232-dfd2-44d9-a483-b1b97cdeec1c",
   "metadata": {},
   "outputs": [],
   "source": [
    "df=pd.DataFrame(A,columns=list('QRST'))"
   ]
  },
  {
   "cell_type": "code",
   "execution_count": 91,
   "id": "4a081c8b-ac74-4403-ba93-339058ee3d81",
   "metadata": {},
   "outputs": [
    {
     "data": {
      "text/html": [
       "<div>\n",
       "<style scoped>\n",
       "    .dataframe tbody tr th:only-of-type {\n",
       "        vertical-align: middle;\n",
       "    }\n",
       "\n",
       "    .dataframe tbody tr th {\n",
       "        vertical-align: top;\n",
       "    }\n",
       "\n",
       "    .dataframe thead th {\n",
       "        text-align: right;\n",
       "    }\n",
       "</style>\n",
       "<table border=\"1\" class=\"dataframe\">\n",
       "  <thead>\n",
       "    <tr style=\"text-align: right;\">\n",
       "      <th></th>\n",
       "      <th>Q</th>\n",
       "      <th>R</th>\n",
       "      <th>S</th>\n",
       "      <th>T</th>\n",
       "    </tr>\n",
       "  </thead>\n",
       "  <tbody>\n",
       "    <tr>\n",
       "      <th>0</th>\n",
       "      <td>0</td>\n",
       "      <td>0</td>\n",
       "      <td>0</td>\n",
       "      <td>0</td>\n",
       "    </tr>\n",
       "    <tr>\n",
       "      <th>1</th>\n",
       "      <td>-4</td>\n",
       "      <td>-6</td>\n",
       "      <td>-1</td>\n",
       "      <td>-3</td>\n",
       "    </tr>\n",
       "    <tr>\n",
       "      <th>2</th>\n",
       "      <td>-5</td>\n",
       "      <td>-6</td>\n",
       "      <td>5</td>\n",
       "      <td>-7</td>\n",
       "    </tr>\n",
       "  </tbody>\n",
       "</table>\n",
       "</div>"
      ],
      "text/plain": [
       "   Q  R  S  T\n",
       "0  0  0  0  0\n",
       "1 -4 -6 -1 -3\n",
       "2 -5 -6  5 -7"
      ]
     },
     "execution_count": 91,
     "metadata": {},
     "output_type": "execute_result"
    }
   ],
   "source": [
    "df-df.iloc[0]"
   ]
  },
  {
   "cell_type": "code",
   "execution_count": 93,
   "id": "14a89ed0-c68d-4d12-92dd-bc79aee700ab",
   "metadata": {},
   "outputs": [
    {
     "data": {
      "text/html": [
       "<div>\n",
       "<style scoped>\n",
       "    .dataframe tbody tr th:only-of-type {\n",
       "        vertical-align: middle;\n",
       "    }\n",
       "\n",
       "    .dataframe tbody tr th {\n",
       "        vertical-align: top;\n",
       "    }\n",
       "\n",
       "    .dataframe thead th {\n",
       "        text-align: right;\n",
       "    }\n",
       "</style>\n",
       "<table border=\"1\" class=\"dataframe\">\n",
       "  <thead>\n",
       "    <tr style=\"text-align: right;\">\n",
       "      <th></th>\n",
       "      <th>Q</th>\n",
       "      <th>R</th>\n",
       "      <th>S</th>\n",
       "      <th>T</th>\n",
       "    </tr>\n",
       "  </thead>\n",
       "  <tbody>\n",
       "    <tr>\n",
       "      <th>0</th>\n",
       "      <td>-2</td>\n",
       "      <td>0</td>\n",
       "      <td>-4</td>\n",
       "      <td>1</td>\n",
       "    </tr>\n",
       "    <tr>\n",
       "      <th>1</th>\n",
       "      <td>0</td>\n",
       "      <td>0</td>\n",
       "      <td>1</td>\n",
       "      <td>4</td>\n",
       "    </tr>\n",
       "    <tr>\n",
       "      <th>2</th>\n",
       "      <td>-1</td>\n",
       "      <td>0</td>\n",
       "      <td>7</td>\n",
       "      <td>0</td>\n",
       "    </tr>\n",
       "  </tbody>\n",
       "</table>\n",
       "</div>"
      ],
      "text/plain": [
       "   Q  R  S  T\n",
       "0 -2  0 -4  1\n",
       "1  0  0  1  4\n",
       "2 -1  0  7  0"
      ]
     },
     "execution_count": 93,
     "metadata": {},
     "output_type": "execute_result"
    }
   ],
   "source": [
    "df.subtract(df['R'],axis=0)"
   ]
  },
  {
   "cell_type": "code",
   "execution_count": 95,
   "id": "d9714f79-8c6e-48cb-a645-05f5dc8327d0",
   "metadata": {},
   "outputs": [],
   "source": [
    "halfrow=df.iloc[0,::2]"
   ]
  },
  {
   "cell_type": "code",
   "execution_count": 97,
   "id": "50f71d09-fb96-4d04-80bf-02137e774830",
   "metadata": {},
   "outputs": [
    {
     "data": {
      "text/plain": [
       "Q    5\n",
       "S    3\n",
       "Name: 0, dtype: int32"
      ]
     },
     "execution_count": 97,
     "metadata": {},
     "output_type": "execute_result"
    }
   ],
   "source": [
    "halfrow"
   ]
  },
  {
   "cell_type": "code",
   "execution_count": 99,
   "id": "a29a72ec-6773-4936-9a01-68b9ac4ab9ef",
   "metadata": {},
   "outputs": [
    {
     "data": {
      "text/html": [
       "<div>\n",
       "<style scoped>\n",
       "    .dataframe tbody tr th:only-of-type {\n",
       "        vertical-align: middle;\n",
       "    }\n",
       "\n",
       "    .dataframe tbody tr th {\n",
       "        vertical-align: top;\n",
       "    }\n",
       "\n",
       "    .dataframe thead th {\n",
       "        text-align: right;\n",
       "    }\n",
       "</style>\n",
       "<table border=\"1\" class=\"dataframe\">\n",
       "  <thead>\n",
       "    <tr style=\"text-align: right;\">\n",
       "      <th></th>\n",
       "      <th>Q</th>\n",
       "      <th>R</th>\n",
       "      <th>S</th>\n",
       "      <th>T</th>\n",
       "    </tr>\n",
       "  </thead>\n",
       "  <tbody>\n",
       "    <tr>\n",
       "      <th>0</th>\n",
       "      <td>0.0</td>\n",
       "      <td>NaN</td>\n",
       "      <td>0.0</td>\n",
       "      <td>NaN</td>\n",
       "    </tr>\n",
       "    <tr>\n",
       "      <th>1</th>\n",
       "      <td>-4.0</td>\n",
       "      <td>NaN</td>\n",
       "      <td>-1.0</td>\n",
       "      <td>NaN</td>\n",
       "    </tr>\n",
       "    <tr>\n",
       "      <th>2</th>\n",
       "      <td>-5.0</td>\n",
       "      <td>NaN</td>\n",
       "      <td>5.0</td>\n",
       "      <td>NaN</td>\n",
       "    </tr>\n",
       "  </tbody>\n",
       "</table>\n",
       "</div>"
      ],
      "text/plain": [
       "     Q   R    S   T\n",
       "0  0.0 NaN  0.0 NaN\n",
       "1 -4.0 NaN -1.0 NaN\n",
       "2 -5.0 NaN  5.0 NaN"
      ]
     },
     "execution_count": 99,
     "metadata": {},
     "output_type": "execute_result"
    }
   ],
   "source": [
    "df-halfrow"
   ]
  },
  {
   "cell_type": "code",
   "execution_count": null,
   "id": "fd801268-b7a9-4dd2-b535-e2a0ff9164d7",
   "metadata": {},
   "outputs": [],
   "source": []
  },
  {
   "cell_type": "code",
   "execution_count": null,
   "id": "c7ec651b-5c7a-4efa-9d72-ab6c672442c5",
   "metadata": {},
   "outputs": [],
   "source": []
  },
  {
   "cell_type": "code",
   "execution_count": null,
   "id": "d873a261-aaaa-425f-8455-d440576b328d",
   "metadata": {},
   "outputs": [],
   "source": []
  },
  {
   "cell_type": "code",
   "execution_count": null,
   "id": "a63d2961-0747-4192-a137-ecafa33b0bdf",
   "metadata": {},
   "outputs": [],
   "source": []
  },
  {
   "cell_type": "code",
   "execution_count": null,
   "id": "1aaaefdf-a638-4c5f-94f7-ab413e50d149",
   "metadata": {},
   "outputs": [],
   "source": []
  },
  {
   "cell_type": "code",
   "execution_count": null,
   "id": "da6bd013-fc3b-45dd-bc8c-f0758c21db9e",
   "metadata": {},
   "outputs": [],
   "source": []
  },
  {
   "cell_type": "code",
   "execution_count": null,
   "id": "f2abdb54-ed39-441f-ace4-202707989c7f",
   "metadata": {},
   "outputs": [],
   "source": []
  },
  {
   "cell_type": "code",
   "execution_count": null,
   "id": "6dd5a8bc-76ae-4f36-8798-d7fa09992873",
   "metadata": {},
   "outputs": [],
   "source": []
  },
  {
   "cell_type": "code",
   "execution_count": 39,
   "id": "a0963de7-d826-4286-b66f-b59c3a7d2c46",
   "metadata": {},
   "outputs": [],
   "source": [
    "Pop1=pd.Series({'Uttar Pradesh':54615521,'Maharashtra':12555465,'Bihar':26555422},name='Pop')"
   ]
  },
  {
   "cell_type": "code",
   "execution_count": 41,
   "id": "123f1c6a-e82d-4849-af76-20692aa02f26",
   "metadata": {},
   "outputs": [
    {
     "data": {
      "text/plain": [
       "Bihar            252.937688\n",
       "Maharashtra       40.802517\n",
       "Uttar Pradesh           NaN\n",
       "West Bengal             NaN\n",
       "dtype: float64"
      ]
     },
     "execution_count": 41,
     "metadata": {},
     "output_type": "execute_result"
    }
   ],
   "source": [
    "Population_density"
   ]
  },
  {
   "cell_type": "code",
   "execution_count": 43,
   "id": "59efebd0-6c0c-45af-b014-844e2daf2fdd",
   "metadata": {},
   "outputs": [],
   "source": [
    "Population_density=Pop1/area"
   ]
  },
  {
   "cell_type": "code",
   "execution_count": 45,
   "id": "9d12b634-6f47-4321-b856-0e3bf3a90753",
   "metadata": {},
   "outputs": [
    {
     "data": {
      "text/plain": [
       "Uttar Pradesh    224.491015\n",
       "Maharashtra       40.802517\n",
       "Bihar            252.937688\n",
       "dtype: float64"
      ]
     },
     "execution_count": 45,
     "metadata": {},
     "output_type": "execute_result"
    }
   ],
   "source": [
    "Population_density"
   ]
  },
  {
   "cell_type": "code",
   "execution_count": null,
   "id": "3e075978-a29a-4dcd-bd23-6d86d726156e",
   "metadata": {},
   "outputs": [],
   "source": []
  },
  {
   "cell_type": "code",
   "execution_count": null,
   "id": "018b7be0-178b-42a8-97e5-8d7adafc6cf2",
   "metadata": {},
   "outputs": [],
   "source": []
  }
 ],
 "metadata": {
  "kernelspec": {
   "display_name": "Python 3 (ipykernel)",
   "language": "python",
   "name": "python3"
  },
  "language_info": {
   "codemirror_mode": {
    "name": "ipython",
    "version": 3
   },
   "file_extension": ".py",
   "mimetype": "text/x-python",
   "name": "python",
   "nbconvert_exporter": "python",
   "pygments_lexer": "ipython3",
   "version": "3.12.4"
  }
 },
 "nbformat": 4,
 "nbformat_minor": 5
}
